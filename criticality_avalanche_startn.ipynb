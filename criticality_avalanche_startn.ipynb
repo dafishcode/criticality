{
 "cells": [
  {
   "cell_type": "code",
   "execution_count": 5,
   "metadata": {},
   "outputs": [
    {
     "name": "stdout",
     "output_type": "stream",
     "text": [
      "The autoreload extension is already loaded. To reload it, use:\n",
      "  %reload_ext autoreload\n"
     ]
    },
    {
     "data": {
      "text/plain": [
       "'3.7.6 (default, Jan  8 2020, 13:42:34) \\n[Clang 4.0.1 (tags/RELEASE_401/final)]'"
      ]
     },
     "execution_count": 5,
     "metadata": {},
     "output_type": "execute_result"
    }
   ],
   "source": [
    "#Import packages\n",
    "#---------------------------------------\n",
    "import sys\n",
    "import os\n",
    "import pandas as pd\n",
    "from matplotlib import pyplot as plt\n",
    "import numpy as np\n",
    "import matplotlib\n",
    "import warnings\n",
    "warnings.filterwarnings(\"ignore\", category=RuntimeWarning) \n",
    "\n",
    "#Import your modules\n",
    "#---------------------------------------\n",
    "import admin_functions as adfn\n",
    "import criticality as crfn\n",
    "import IS as isfn\n",
    "\n",
    "import trace_analyse as tfn\n",
    "# Define paths\n",
    "#----------------------------------------------------------------------\n",
    "Fcode = '/Users/dominicburrows/Dropbox/PhD/Analysis/my_scripts/GitHub/'\n",
    "Fdata = '/Users/dominicburrows/Dropbox/PhD/analysis/Project/'\n",
    "Fdoc = '/Users/dominicburrows/Documents/'\n",
    "F10t = '/Volumes/Dominic 10tb/'\n",
    "F10t2 = '/Volumes/Dominic 10tb2/'\n",
    "Ftm = '/Volumes/Dominic Time Machine/'\n",
    "Ffig = '/Users/dominicburrows/Dropbox/PhD/figures/'\n",
    "\n",
    "%load_ext autoreload\n",
    "sys.version"
   ]
  },
  {
   "cell_type": "markdown",
   "metadata": {},
   "source": [
    "# Process data\n",
    "- calculate avalanche statistics over a range of avalanche initiation threshold (2,3,4) sizes"
   ]
  },
  {
   "cell_type": "code",
   "execution_count": 17,
   "metadata": {},
   "outputs": [
    {
     "name": "stdout",
     "output_type": "stream",
     "text": [
      "Done PTZ-WILDTYPE-02_2photon_sess-01-6dpf_BLN_run-01_0.16nnb.npy\n",
      "Done PTZ-WILDTYPE-04_2photon_sess-01-6dpf_BLN_run-01_0.16nnb.npy\n",
      "Done PTZ-WILDTYPE-05_2photon_sess-01-6dpf_BLN_run-01_0.16nnb.npy\n",
      "Done PTZ-WILDTYPE-06_2photon_sess-01-6dpf_BLN_run-01_0.16nnb.npy\n",
      "Done PTZ-WILDTYPE-07_2photon_sess-01-6dpf_BLN_run-01_0.16nnb.npy\n",
      "Done PTZ-WILDTYPE-08_2photon_sess-01-6dpf_BLN_run-01_0.16nnb.npy\n",
      "Done PTZ-WILDTYPE-09_2photon_sess-01-6dpf_BLN_run-01_0.16nnb.npy\n",
      "Done PTZ-WILDTYPE-10_2photon_sess-01-6dpf_BLN_run-01_0.16nnb.npy\n",
      "Done PTZ-WILDTYPE-11_2photon_sess-01-6dpf_BLN_run-01_0.16nnb.npy\n",
      "Done PTZ-WILDTYPE-12_2photon_sess-01-6dpf_BLN_run-09_0.16nnb.npy\n"
     ]
    }
   ],
   "source": [
    "# Calculate avalanches with different minimum avalanche initiation sizes\n",
    "for i in range(len(nnb_l)):\n",
    "    nnb = nnb_l[i]\n",
    "    bind = bind_l[i]\n",
    "    av2 = avalanche2(np.load(nnb), np.load(bind))[0]\n",
    "    av4 = avalanche4(np.load(nnb), np.load(bind))[0]\n",
    "    name = nnb\n",
    "    np.save(Fdata + experiment +'/' + adfn.save_name(name) +  '_av-2.npy', av2)\n",
    "    np.save(Fdata + experiment +'/' + adfn.save_name(name) + '_' +'_av-4.npy', av4)\n",
    "\n",
    "    print('Done '+ nnb)"
   ]
  },
  {
   "cell_type": "code",
   "execution_count": 7,
   "metadata": {},
   "outputs": [
    {
     "data": {
      "text/plain": [
       "['PTZ-WILDTYPE-02_2photon_sess-01-6dpf_BLN_run-01_av-2_exp.npy',\n",
       " 'PTZ-WILDTYPE-02_2photon_sess-01-6dpf_BLN_run-01_av-3_exp.npy',\n",
       " 'PTZ-WILDTYPE-02_2photon_sess-01-6dpf_BLN_run-01_av-4_exp.npy',\n",
       " 'PTZ-WILDTYPE-04_2photon_sess-01-6dpf_BLN_run-01_av-2_exp.npy',\n",
       " 'PTZ-WILDTYPE-04_2photon_sess-01-6dpf_BLN_run-01_av-3_exp.npy',\n",
       " 'PTZ-WILDTYPE-04_2photon_sess-01-6dpf_BLN_run-01_av-4_exp.npy',\n",
       " 'PTZ-WILDTYPE-05_2photon_sess-01-6dpf_BLN_run-01_av-2_exp.npy',\n",
       " 'PTZ-WILDTYPE-05_2photon_sess-01-6dpf_BLN_run-01_av-3_exp.npy',\n",
       " 'PTZ-WILDTYPE-05_2photon_sess-01-6dpf_BLN_run-01_av-4_exp.npy',\n",
       " 'PTZ-WILDTYPE-06_2photon_sess-01-6dpf_BLN_run-01_av-2_exp.npy',\n",
       " 'PTZ-WILDTYPE-06_2photon_sess-01-6dpf_BLN_run-01_av-3_exp.npy',\n",
       " 'PTZ-WILDTYPE-06_2photon_sess-01-6dpf_BLN_run-01_av-4_exp.npy',\n",
       " 'PTZ-WILDTYPE-07_2photon_sess-01-6dpf_BLN_run-01_av-2_exp.npy',\n",
       " 'PTZ-WILDTYPE-07_2photon_sess-01-6dpf_BLN_run-01_av-3_exp.npy',\n",
       " 'PTZ-WILDTYPE-07_2photon_sess-01-6dpf_BLN_run-01_av-4_exp.npy',\n",
       " 'PTZ-WILDTYPE-08_2photon_sess-01-6dpf_BLN_run-01_av-2_exp.npy',\n",
       " 'PTZ-WILDTYPE-08_2photon_sess-01-6dpf_BLN_run-01_av-3_exp.npy',\n",
       " 'PTZ-WILDTYPE-08_2photon_sess-01-6dpf_BLN_run-01_av-4_exp.npy',\n",
       " 'PTZ-WILDTYPE-09_2photon_sess-01-6dpf_BLN_run-01_av-2_exp.npy',\n",
       " 'PTZ-WILDTYPE-09_2photon_sess-01-6dpf_BLN_run-01_av-3_exp.npy',\n",
       " 'PTZ-WILDTYPE-09_2photon_sess-01-6dpf_BLN_run-01_av-4_exp.npy',\n",
       " 'PTZ-WILDTYPE-10_2photon_sess-01-6dpf_BLN_run-01_av-2_exp.npy',\n",
       " 'PTZ-WILDTYPE-10_2photon_sess-01-6dpf_BLN_run-01_av-3_exp.npy',\n",
       " 'PTZ-WILDTYPE-10_2photon_sess-01-6dpf_BLN_run-01_av-4_exp.npy',\n",
       " 'PTZ-WILDTYPE-11_2photon_sess-01-6dpf_BLN_run-01_av-2_exp.npy',\n",
       " 'PTZ-WILDTYPE-11_2photon_sess-01-6dpf_BLN_run-01_av-3_exp.npy',\n",
       " 'PTZ-WILDTYPE-11_2photon_sess-01-6dpf_BLN_run-01_av-4_exp.npy',\n",
       " 'PTZ-WILDTYPE-12_2photon_sess-01-6dpf_BLN_run-09_av-2_exp.npy',\n",
       " 'PTZ-WILDTYPE-12_2photon_sess-01-6dpf_BLN_run-09_av-3_exp.npy',\n",
       " 'PTZ-WILDTYPE-12_2photon_sess-01-6dpf_BLN_run-09_av-4_exp.npy']"
      ]
     },
     "execution_count": 7,
     "metadata": {},
     "output_type": "execute_result"
    }
   ],
   "source": [
    "# Create lists of coord data\n",
    "#---------------------------------------------------------------------------\n",
    "import glob\n",
    "\n",
    "experiment = 'PTZ-WILDTYPE'\n",
    "os.chdir(Fdata + experiment)\n",
    "\n",
    "av_l = sorted(glob.glob('*_av-*exp*'))\n",
    "av_l"
   ]
  },
  {
   "cell_type": "code",
   "execution_count": 15,
   "metadata": {},
   "outputs": [
    {
     "data": {
      "text/plain": [
       "['PTZ-WILDTYPE-02_2photon_sess-01-6dpf_BLN_run-01_av-4_exp.npy',\n",
       " 'PTZ-WILDTYPE-04_2photon_sess-01-6dpf_BLN_run-01_av-4_exp.npy',\n",
       " 'PTZ-WILDTYPE-05_2photon_sess-01-6dpf_BLN_run-01_av-4_exp.npy',\n",
       " 'PTZ-WILDTYPE-06_2photon_sess-01-6dpf_BLN_run-01_av-4_exp.npy',\n",
       " 'PTZ-WILDTYPE-07_2photon_sess-01-6dpf_BLN_run-01_av-4_exp.npy',\n",
       " 'PTZ-WILDTYPE-08_2photon_sess-01-6dpf_BLN_run-01_av-4_exp.npy',\n",
       " 'PTZ-WILDTYPE-09_2photon_sess-01-6dpf_BLN_run-01_av-4_exp.npy',\n",
       " 'PTZ-WILDTYPE-10_2photon_sess-01-6dpf_BLN_run-01_av-4_exp.npy',\n",
       " 'PTZ-WILDTYPE-11_2photon_sess-01-6dpf_BLN_run-01_av-4_exp.npy',\n",
       " 'PTZ-WILDTYPE-12_2photon_sess-01-6dpf_BLN_run-09_av-4_exp.npy']"
      ]
     },
     "execution_count": 15,
     "metadata": {},
     "output_type": "execute_result"
    }
   ],
   "source": [
    "num_list = ['2', '3', '4']\n",
    "fish_list = ['02', '04', '05', '06', '07', '08', '09', '10', '11', '12']\n",
    "\n",
    "for num in num_list:\n",
    "    curr_l = sorted(glob.glob('*_av-' + num + '_exp*'))\n",
    "    for \n",
    "curr_l"
   ]
  },
  {
   "cell_type": "code",
   "execution_count": 18,
   "metadata": {},
   "outputs": [
    {
     "data": {
      "image/png": "[encoded data removed]",
      "text/plain": [
       "<Figure size 720x360 with 1 Axes>"
      ]
     },
     "metadata": {
      "needs_background": "light"
     },
     "output_type": "display_data"
    }
   ],
   "source": [
    "# Avalanche size by fish and avalanche initiation size\n",
    "\n",
    "num_list = ['2', '3', '4']\n",
    "fish_list = ['k', 'blue', 'green']\n",
    "\n",
    "choose = 0\n",
    "\n",
    "fig = plt.figure(figsize = (10,5))\n",
    "ax = fig.add_subplot(1,1,1)\n",
    "\n",
    "for y,num in enumerate(num_list):\n",
    "    curr_l = sorted(glob.glob('*_av-' + num + '_exp*'))\n",
    "    fill_me = np.zeros(10)\n",
    "    \n",
    "    for x,curr in enumerate(curr_l):\n",
    "        fill_me[x] = np.load(curr)[choose]\n",
    "    plt.scatter(np.arange(10), fill_me, c = fish_list[y], s = 5)\n",
    "plt.show()"
   ]
  },
  {
   "cell_type": "code",
   "execution_count": 19,
   "metadata": {},
   "outputs": [
    {
     "data": {
      "image/png": "[encoded data removed]",
      "text/plain": [
       "<Figure size 720x360 with 1 Axes>"
      ]
     },
     "metadata": {
      "needs_background": "light"
     },
     "output_type": "display_data"
    }
   ],
   "source": [
    "# Avalanche duration by fish and avalanche initiation size\n",
    "\n",
    "\n",
    "num_list = ['2', '3', '4']\n",
    "fish_list = ['k', 'blue', 'green']\n",
    "\n",
    "choose = 1\n",
    "\n",
    "fig = plt.figure(figsize = (10,5))\n",
    "ax = fig.add_subplot(1,1,1)\n",
    "\n",
    "for y,num in enumerate(num_list):\n",
    "    curr_l = sorted(glob.glob('*_av-' + num + '_exp*'))\n",
    "    fill_me = np.zeros(10)\n",
    "    \n",
    "    for x,curr in enumerate(curr_l):\n",
    "        fill_me[x] = np.load(curr)[choose]\n",
    "    plt.scatter(np.arange(10), fill_me, c = fish_list[y], s = 5)\n",
    "plt.show()"
   ]
  },
  {
   "cell_type": "code",
   "execution_count": 25,
   "metadata": {},
   "outputs": [
    {
     "data": {
      "text/plain": [
       "['PTZ-WILDTYPE-02_2photon_sess-01-6dpf_BLN_run-01_av-4_llr.npy',\n",
       " 'PTZ-WILDTYPE-04_2photon_sess-01-6dpf_BLN_run-01_av-4_llr.npy',\n",
       " 'PTZ-WILDTYPE-05_2photon_sess-01-6dpf_BLN_run-01_av-4_llr.npy',\n",
       " 'PTZ-WILDTYPE-06_2photon_sess-01-6dpf_BLN_run-01_av-4_llr.npy',\n",
       " 'PTZ-WILDTYPE-07_2photon_sess-01-6dpf_BLN_run-01_av-4_llr.npy',\n",
       " 'PTZ-WILDTYPE-08_2photon_sess-01-6dpf_BLN_run-01_av-4_llr.npy',\n",
       " 'PTZ-WILDTYPE-09_2photon_sess-01-6dpf_BLN_run-01_av-4_llr.npy',\n",
       " 'PTZ-WILDTYPE-10_2photon_sess-01-6dpf_BLN_run-01_av-4_llr.npy',\n",
       " 'PTZ-WILDTYPE-11_2photon_sess-01-6dpf_BLN_run-01_av-4_llr.npy',\n",
       " 'PTZ-WILDTYPE-12_2photon_sess-01-6dpf_BLN_run-09_av-4_llr.npy']"
      ]
     },
     "execution_count": 25,
     "metadata": {},
     "output_type": "execute_result"
    }
   ],
   "source": [
    "num_list = ['2', '3', '4']\n",
    "fish_list = ['02', '04', '05', '06', '07', '08', '09', '10', '11', '12']\n",
    "\n",
    "\n",
    "for num in num_list:\n",
    "    curr_l = sorted(glob.glob('*_av-' + num + '_llr*'))\n",
    "curr_l"
   ]
  },
  {
   "cell_type": "code",
   "execution_count": 27,
   "metadata": {},
   "outputs": [
    {
     "data": {
      "image/png": "[encoded data removed]",
      "text/plain": [
       "<Figure size 720x360 with 1 Axes>"
      ]
     },
     "metadata": {
      "needs_background": "light"
     },
     "output_type": "display_data"
    }
   ],
   "source": [
    "# Loglikelihood ratio for avalanche size by fish and avalanche initiation size\n",
    "\n",
    "\n",
    "num_list = ['2', '3', '4']\n",
    "fish_list = ['k', 'blue', 'green']\n",
    "\n",
    "choose = 0\n",
    "\n",
    "fig = plt.figure(figsize = (10,5))\n",
    "ax = fig.add_subplot(1,1,1)\n",
    "\n",
    "for y,num in enumerate(num_list):\n",
    "    curr_l = sorted(glob.glob('*_av-' + num + '_llr*'))\n",
    "    fill_me = np.zeros(10)\n",
    "    \n",
    "    for x,curr in enumerate(curr_l):\n",
    "        fill_me[x] = np.load(curr)[choose]\n",
    "    plt.scatter(np.arange(10), fill_me, c = fish_list[y], s = 5)\n",
    "plt.show()"
   ]
  },
  {
   "cell_type": "code",
   "execution_count": 28,
   "metadata": {},
   "outputs": [
    {
     "data": {
      "image/png": "[encoded data removed]",
      "text/plain": [
       "<Figure size 720x360 with 1 Axes>"
      ]
     },
     "metadata": {
      "needs_background": "light"
     },
     "output_type": "display_data"
    }
   ],
   "source": [
    "# Loglikelihood ratio for avalanche duration by fish and avalanche initiation size\n",
    "\n",
    "num_list = ['2', '3', '4']\n",
    "fish_list = ['k', 'blue', 'green']\n",
    "\n",
    "choose = 1\n",
    "\n",
    "fig = plt.figure(figsize = (10,5))\n",
    "ax = fig.add_subplot(1,1,1)\n",
    "\n",
    "for y,num in enumerate(num_list):\n",
    "    curr_l = sorted(glob.glob('*_av-' + num + '_llr*'))\n",
    "    fill_me = np.zeros(10)\n",
    "    \n",
    "    for x,curr in enumerate(curr_l):\n",
    "        fill_me[x] = np.load(curr)[choose]\n",
    "    plt.scatter(np.arange(10), fill_me, c = fish_list[y], s = 5)\n",
    "plt.show()"
   ]
  },
  {
   "cell_type": "code",
   "execution_count": 88,
   "metadata": {},
   "outputs": [
    {
     "data": {
      "text/plain": [
       "(['PTZ-WILDTYPE-02_2photon_sess-01-6dpf_BLN_run-01_av-2_exp.npy',\n",
       "  'PTZ-WILDTYPE-04_2photon_sess-01-6dpf_BLN_run-01_av-2_exp.npy',\n",
       "  'PTZ-WILDTYPE-05_2photon_sess-01-6dpf_BLN_run-01_av-2_exp.npy',\n",
       "  'PTZ-WILDTYPE-06_2photon_sess-01-6dpf_BLN_run-01_av-2_exp.npy',\n",
       "  'PTZ-WILDTYPE-07_2photon_sess-01-6dpf_BLN_run-01_av-2_exp.npy',\n",
       "  'PTZ-WILDTYPE-08_2photon_sess-01-6dpf_BLN_run-01_av-2_exp.npy',\n",
       "  'PTZ-WILDTYPE-09_2photon_sess-01-6dpf_BLN_run-01_av-2_exp.npy',\n",
       "  'PTZ-WILDTYPE-10_2photon_sess-01-6dpf_BLN_run-01_av-2_exp.npy',\n",
       "  'PTZ-WILDTYPE-11_2photon_sess-01-6dpf_BLN_run-01_av-2_exp.npy',\n",
       "  'PTZ-WILDTYPE-12_2photon_sess-01-6dpf_BLN_run-09_av-2_exp.npy'],\n",
       " ['PTZ-WILDTYPE-02_2photon_sess-01-6dpf_BLN_run-01_av-3_exp.npy',\n",
       "  'PTZ-WILDTYPE-04_2photon_sess-01-6dpf_BLN_run-01_av-3_exp.npy',\n",
       "  'PTZ-WILDTYPE-05_2photon_sess-01-6dpf_BLN_run-01_av-3_exp.npy',\n",
       "  'PTZ-WILDTYPE-06_2photon_sess-01-6dpf_BLN_run-01_av-3_exp.npy',\n",
       "  'PTZ-WILDTYPE-07_2photon_sess-01-6dpf_BLN_run-01_av-3_exp.npy',\n",
       "  'PTZ-WILDTYPE-08_2photon_sess-01-6dpf_BLN_run-01_av-3_exp.npy',\n",
       "  'PTZ-WILDTYPE-09_2photon_sess-01-6dpf_BLN_run-01_av-3_exp.npy',\n",
       "  'PTZ-WILDTYPE-10_2photon_sess-01-6dpf_BLN_run-01_av-3_exp.npy',\n",
       "  'PTZ-WILDTYPE-11_2photon_sess-01-6dpf_BLN_run-01_av-3_exp.npy',\n",
       "  'PTZ-WILDTYPE-12_2photon_sess-01-6dpf_BLN_run-09_av-3_exp.npy'],\n",
       " ['PTZ-WILDTYPE-02_2photon_sess-01-6dpf_BLN_run-01_av-4_exp.npy',\n",
       "  'PTZ-WILDTYPE-04_2photon_sess-01-6dpf_BLN_run-01_av-4_exp.npy',\n",
       "  'PTZ-WILDTYPE-05_2photon_sess-01-6dpf_BLN_run-01_av-4_exp.npy',\n",
       "  'PTZ-WILDTYPE-06_2photon_sess-01-6dpf_BLN_run-01_av-4_exp.npy',\n",
       "  'PTZ-WILDTYPE-07_2photon_sess-01-6dpf_BLN_run-01_av-4_exp.npy',\n",
       "  'PTZ-WILDTYPE-08_2photon_sess-01-6dpf_BLN_run-01_av-4_exp.npy',\n",
       "  'PTZ-WILDTYPE-09_2photon_sess-01-6dpf_BLN_run-01_av-4_exp.npy',\n",
       "  'PTZ-WILDTYPE-10_2photon_sess-01-6dpf_BLN_run-01_av-4_exp.npy',\n",
       "  'PTZ-WILDTYPE-11_2photon_sess-01-6dpf_BLN_run-01_av-4_exp.npy',\n",
       "  'PTZ-WILDTYPE-12_2photon_sess-01-6dpf_BLN_run-09_av-4_exp.npy'])"
      ]
     },
     "execution_count": 88,
     "metadata": {},
     "output_type": "execute_result"
    }
   ],
   "source": [
    "\n",
    "two_l = sorted(glob.glob('*_av-2*_exp*'))\n",
    "three_l = sorted(glob.glob('*_av-3*_exp*'))\n",
    "four_l = sorted(glob.glob('*_av-4*_exp*'))\n",
    "\n",
    "two_l, three_l, four_l"
   ]
  },
  {
   "cell_type": "code",
   "execution_count": 90,
   "metadata": {},
   "outputs": [],
   "source": [
    "#avsize exponent by avalanche initiation size\n",
    "\n",
    "dcc = np.zeros((30))\n",
    "dcc_list = [two, three, four]\n",
    "    \n",
    "choose = 0\n",
    "count=0\n",
    "for i in range(len(dcc_list)):\n",
    "    for y in range(10):\n",
    "        dcc[count] = dcc_list[i][y][choose]\n",
    "        count+=1\n",
    "dcc_df = pd.DataFrame({\"lrr\":dcc , \"Labels\":  np.append(adfn.repeat_list('2',10),np.append(adfn.repeat_list('3',10),adfn.repeat_list('4',10)))})"
   ]
  },
  {
   "cell_type": "code",
   "execution_count": 91,
   "metadata": {},
   "outputs": [
    {
     "data": {
      "image/png": "[encoded data removed]",
      "text/plain": [
       "<Figure size 288x360 with 1 Axes>"
      ]
     },
     "metadata": {
      "needs_background": "light"
     },
     "output_type": "display_data"
    }
   ],
   "source": [
    "from matplotlib.collections import PathCollection\n",
    "import seaborn as sns\n",
    "from matplotlib import cm\n",
    "colors2 = ['black','blue','green']\n",
    "fig, ax = plt.subplots(figsize = (4,5))\n",
    "ax = sns.pointplot(x=\"Labels\", y=\"lrr\", data = dcc_df, hue = 'Labels', palette = colors2, join=True, ci=0, scale=6, markers = '_')\n",
    "for artist in ax.lines:\n",
    "    artist.set_zorder(10)\n",
    "for artist in ax.findobj(PathCollection):\n",
    "    artist.set_zorder(11)\n",
    "#ax = sns.pointplot(x=\"Labels\", y=\"DCC\", data=dcc_df, color = 'grey', linestyles = [\"--\"], ci = 0, scale=0.6)\n",
    "ax = sns.stripplot(x=\"Labels\", y=\"lrr\", data=dcc_df, hue = 'Labels', palette = colors2, size = 15, jitter = True ,alpha = 0.5)\n",
    "plt.yticks(size = 20)\n",
    "\n",
    "points = ax.collections\n",
    "ax.spines['top'].set_visible(False)\n",
    "ax.spines['right'].set_visible(False)\n",
    "ax.set_xlabel(' ', size = '13')\n",
    "ax.set_ylabel('DCC', size = '18')\n",
    "#ax.set_xticklabels(['Baseline', 'Focal', 'Generalised'], size = 15)\n",
    "ax.legend_.remove()\n",
    "plt.savefig(Ffig + 'exps_avstart.svg', transparent = True)\n",
    "plt.show()"
   ]
  },
  {
   "cell_type": "code",
   "execution_count": 92,
   "metadata": {},
   "outputs": [],
   "source": [
    "#avdur exponent by avalanche initiation size\n",
    "\n",
    "\n",
    "dcc = np.zeros((30))\n",
    "dcc_list = [two, three, four]\n",
    "    \n",
    "choose = 1\n",
    "count=0\n",
    "for i in range(len(dcc_list)):\n",
    "    for y in range(10):\n",
    "        dcc[count] = dcc_list[i][y][choose]\n",
    "        count+=1\n",
    "dcc_df = pd.DataFrame({\"lrr\":dcc , \"Labels\":  np.append(adfn.repeat_list('2',10),np.append(adfn.repeat_list('3',10),adfn.repeat_list('4',10)))})"
   ]
  },
  {
   "cell_type": "code",
   "execution_count": 93,
   "metadata": {},
   "outputs": [
    {
     "data": {
      "image/png": "[encoded data removed]",
      "text/plain": [
       "<Figure size 288x360 with 1 Axes>"
      ]
     },
     "metadata": {
      "needs_background": "light"
     },
     "output_type": "display_data"
    }
   ],
   "source": [
    "from matplotlib.collections import PathCollection\n",
    "import seaborn as sns\n",
    "from matplotlib import cm\n",
    "colors2 = ['black','blue','green']\n",
    "fig, ax = plt.subplots(figsize = (4,5))\n",
    "ax = sns.pointplot(x=\"Labels\", y=\"lrr\", data = dcc_df, hue = 'Labels', palette = colors2, join=True, ci=0, scale=6, markers = '_')\n",
    "for artist in ax.lines:\n",
    "    artist.set_zorder(10)\n",
    "for artist in ax.findobj(PathCollection):\n",
    "    artist.set_zorder(11)\n",
    "#ax = sns.pointplot(x=\"Labels\", y=\"DCC\", data=dcc_df, color = 'grey', linestyles = [\"--\"], ci = 0, scale=0.6)\n",
    "ax = sns.stripplot(x=\"Labels\", y=\"lrr\", data=dcc_df, hue = 'Labels', palette = colors2, size = 15, jitter = True ,alpha = 0.5)\n",
    "plt.yticks(size = 20)\n",
    "\n",
    "points = ax.collections\n",
    "ax.spines['top'].set_visible(False)\n",
    "ax.spines['right'].set_visible(False)\n",
    "ax.set_xlabel(' ', size = '13')\n",
    "ax.set_ylabel('DCC', size = '18')\n",
    "#ax.set_xticklabels(['Baseline', 'Focal', 'Generalised'], size = 15)\n",
    "ax.legend_.remove()\n",
    "plt.savefig(Ffig + 'expd_avstart.svg', transparent = True)\n",
    "plt.show()"
   ]
  },
  {
   "cell_type": "code",
   "execution_count": 94,
   "metadata": {},
   "outputs": [
    {
     "data": {
      "text/plain": [
       "(['PTZ-WILDTYPE-02_2photon_sess-01-6dpf_BLN_run-01_av-2_llr.npy',\n",
       "  'PTZ-WILDTYPE-04_2photon_sess-01-6dpf_BLN_run-01_av-2_llr.npy',\n",
       "  'PTZ-WILDTYPE-05_2photon_sess-01-6dpf_BLN_run-01_av-2_llr.npy',\n",
       "  'PTZ-WILDTYPE-06_2photon_sess-01-6dpf_BLN_run-01_av-2_llr.npy',\n",
       "  'PTZ-WILDTYPE-07_2photon_sess-01-6dpf_BLN_run-01_av-2_llr.npy',\n",
       "  'PTZ-WILDTYPE-08_2photon_sess-01-6dpf_BLN_run-01_av-2_llr.npy',\n",
       "  'PTZ-WILDTYPE-09_2photon_sess-01-6dpf_BLN_run-01_av-2_llr.npy',\n",
       "  'PTZ-WILDTYPE-10_2photon_sess-01-6dpf_BLN_run-01_av-2_llr.npy',\n",
       "  'PTZ-WILDTYPE-11_2photon_sess-01-6dpf_BLN_run-01_av-2_llr.npy',\n",
       "  'PTZ-WILDTYPE-12_2photon_sess-01-6dpf_BLN_run-09_av-2_llr.npy'],\n",
       " ['PTZ-WILDTYPE-02_2photon_sess-01-6dpf_BLN_run-01_av-3_llr.npy',\n",
       "  'PTZ-WILDTYPE-04_2photon_sess-01-6dpf_BLN_run-01_av-3_llr.npy',\n",
       "  'PTZ-WILDTYPE-05_2photon_sess-01-6dpf_BLN_run-01_av-3_llr.npy',\n",
       "  'PTZ-WILDTYPE-06_2photon_sess-01-6dpf_BLN_run-01_av-3_llr.npy',\n",
       "  'PTZ-WILDTYPE-07_2photon_sess-01-6dpf_BLN_run-01_av-3_llr.npy',\n",
       "  'PTZ-WILDTYPE-08_2photon_sess-01-6dpf_BLN_run-01_av-3_llr.npy',\n",
       "  'PTZ-WILDTYPE-09_2photon_sess-01-6dpf_BLN_run-01_av-3_llr.npy',\n",
       "  'PTZ-WILDTYPE-10_2photon_sess-01-6dpf_BLN_run-01_av-3_llr.npy',\n",
       "  'PTZ-WILDTYPE-11_2photon_sess-01-6dpf_BLN_run-01_av-3_llr.npy',\n",
       "  'PTZ-WILDTYPE-12_2photon_sess-01-6dpf_BLN_run-09_av-3_llr.npy'],\n",
       " ['PTZ-WILDTYPE-02_2photon_sess-01-6dpf_BLN_run-01_av-4_llr.npy',\n",
       "  'PTZ-WILDTYPE-04_2photon_sess-01-6dpf_BLN_run-01_av-4_llr.npy',\n",
       "  'PTZ-WILDTYPE-05_2photon_sess-01-6dpf_BLN_run-01_av-4_llr.npy',\n",
       "  'PTZ-WILDTYPE-06_2photon_sess-01-6dpf_BLN_run-01_av-4_llr.npy',\n",
       "  'PTZ-WILDTYPE-07_2photon_sess-01-6dpf_BLN_run-01_av-4_llr.npy',\n",
       "  'PTZ-WILDTYPE-08_2photon_sess-01-6dpf_BLN_run-01_av-4_llr.npy',\n",
       "  'PTZ-WILDTYPE-09_2photon_sess-01-6dpf_BLN_run-01_av-4_llr.npy',\n",
       "  'PTZ-WILDTYPE-10_2photon_sess-01-6dpf_BLN_run-01_av-4_llr.npy',\n",
       "  'PTZ-WILDTYPE-11_2photon_sess-01-6dpf_BLN_run-01_av-4_llr.npy',\n",
       "  'PTZ-WILDTYPE-12_2photon_sess-01-6dpf_BLN_run-09_av-4_llr.npy'])"
      ]
     },
     "execution_count": 94,
     "metadata": {},
     "output_type": "execute_result"
    }
   ],
   "source": [
    "\n",
    "two_l = sorted(glob.glob('*_av-2*_llr*'))\n",
    "three_l = sorted(glob.glob('*_av-3*_llr*'))\n",
    "four_l = sorted(glob.glob('*_av-4*_llr*'))\n",
    "\n",
    "two_l, three_l, four_l"
   ]
  },
  {
   "cell_type": "code",
   "execution_count": 95,
   "metadata": {},
   "outputs": [],
   "source": [
    "two = dome(two_l)\n",
    "three = dome(three_l)\n",
    "four = dome(four_l)"
   ]
  },
  {
   "cell_type": "code",
   "execution_count": 96,
   "metadata": {},
   "outputs": [],
   "source": [
    "#LLR for av size by avalanche initiation size\n",
    "\n",
    "\n",
    "dcc = np.zeros((30))\n",
    "dcc_list = [two, three, four]\n",
    "    \n",
    "choose = 0\n",
    "count=0\n",
    "for i in range(len(dcc_list)):\n",
    "    for y in range(10):\n",
    "        dcc[count] = dcc_list[i][y][choose]\n",
    "        count+=1\n",
    "dcc_df = pd.DataFrame({\"lrr\":dcc , \"Labels\":  np.append(adfn.repeat_list('2',10),np.append(adfn.repeat_list('3',10),adfn.repeat_list('4',10)))})"
   ]
  },
  {
   "cell_type": "code",
   "execution_count": 97,
   "metadata": {},
   "outputs": [
    {
     "data": {
      "image/png": "[encoded data removed]",
      "text/plain": [
       "<Figure size 288x360 with 1 Axes>"
      ]
     },
     "metadata": {
      "needs_background": "light"
     },
     "output_type": "display_data"
    }
   ],
   "source": [
    "from matplotlib.collections import PathCollection\n",
    "import seaborn as sns\n",
    "from matplotlib import cm\n",
    "colors2 = ['black','blue','green']\n",
    "fig, ax = plt.subplots(figsize = (4,5))\n",
    "ax = sns.pointplot(x=\"Labels\", y=\"lrr\", data = dcc_df, hue = 'Labels', palette = colors2, join=True, ci=0, scale=6, markers = '_')\n",
    "for artist in ax.lines:\n",
    "    artist.set_zorder(10)\n",
    "for artist in ax.findobj(PathCollection):\n",
    "    artist.set_zorder(11)\n",
    "#ax = sns.pointplot(x=\"Labels\", y=\"DCC\", data=dcc_df, color = 'grey', linestyles = [\"--\"], ci = 0, scale=0.6)\n",
    "ax = sns.stripplot(x=\"Labels\", y=\"lrr\", data=dcc_df, hue = 'Labels', palette = colors2, size = 15, jitter = True ,alpha = 0.5)\n",
    "plt.yticks(size = 20)\n",
    "\n",
    "points = ax.collections\n",
    "ax.spines['top'].set_visible(False)\n",
    "ax.spines['right'].set_visible(False)\n",
    "ax.set_xlabel(' ', size = '13')\n",
    "ax.set_ylabel('DCC', size = '18')\n",
    "#ax.set_xticklabels(['Baseline', 'Focal', 'Generalised'], size = 15)\n",
    "ax.legend_.remove()\n",
    "plt.savefig(Ffig + 'llrs_avstart.svg', transparent = True)\n",
    "plt.show()"
   ]
  },
  {
   "cell_type": "code",
   "execution_count": 98,
   "metadata": {},
   "outputs": [],
   "source": [
    "#llr for avdur by avalanche initiation size\n",
    "\n",
    "\n",
    "dcc = np.zeros((30))\n",
    "dcc_list = [two, three, four]\n",
    "    \n",
    "choose = 1\n",
    "count=0\n",
    "for i in range(len(dcc_list)):\n",
    "    for y in range(10):\n",
    "        dcc[count] = dcc_list[i][y][choose]\n",
    "        count+=1\n",
    "dcc_df = pd.DataFrame({\"lrr\":dcc , \"Labels\":  np.append(adfn.repeat_list('2',10),np.append(adfn.repeat_list('3',10),adfn.repeat_list('4',10)))})"
   ]
  },
  {
   "cell_type": "code",
   "execution_count": 99,
   "metadata": {},
   "outputs": [
    {
     "data": {
      "image/png": "[encoded data removed]",
      "text/plain": [
       "<Figure size 288x360 with 1 Axes>"
      ]
     },
     "metadata": {
      "needs_background": "light"
     },
     "output_type": "display_data"
    }
   ],
   "source": [
    "from matplotlib.collections import PathCollection\n",
    "import seaborn as sns\n",
    "from matplotlib import cm\n",
    "colors2 = ['black','blue','green']\n",
    "fig, ax = plt.subplots(figsize = (4,5))\n",
    "ax = sns.pointplot(x=\"Labels\", y=\"lrr\", data = dcc_df, hue = 'Labels', palette = colors2, join=True, ci=0, scale=6, markers = '_')\n",
    "for artist in ax.lines:\n",
    "    artist.set_zorder(10)\n",
    "for artist in ax.findobj(PathCollection):\n",
    "    artist.set_zorder(11)\n",
    "#ax = sns.pointplot(x=\"Labels\", y=\"DCC\", data=dcc_df, color = 'grey', linestyles = [\"--\"], ci = 0, scale=0.6)\n",
    "ax = sns.stripplot(x=\"Labels\", y=\"lrr\", data=dcc_df, hue = 'Labels', palette = colors2, size = 15, jitter = True ,alpha = 0.5)\n",
    "plt.yticks(size = 20)\n",
    "\n",
    "points = ax.collections\n",
    "ax.spines['top'].set_visible(False)\n",
    "ax.spines['right'].set_visible(False)\n",
    "ax.set_xlabel(' ', size = '13')\n",
    "ax.set_ylabel('DCC', size = '18')\n",
    "#ax.set_xticklabels(['Baseline', 'Focal', 'Generalised'], size = 15)\n",
    "ax.legend_.remove()\n",
    "plt.savefig(Ffig + 'llrd_avstart.svg', transparent = True)\n",
    "plt.show()"
   ]
  },
  {
   "cell_type": "code",
   "execution_count": 100,
   "metadata": {},
   "outputs": [
    {
     "data": {
      "text/plain": [
       "(['PTZ-WILDTYPE-02_2photon_sess-01-6dpf_BLN_run-01_av-2_dcc.npy',\n",
       "  'PTZ-WILDTYPE-04_2photon_sess-01-6dpf_BLN_run-01_av-2_dcc.npy',\n",
       "  'PTZ-WILDTYPE-05_2photon_sess-01-6dpf_BLN_run-01_av-2_dcc.npy',\n",
       "  'PTZ-WILDTYPE-06_2photon_sess-01-6dpf_BLN_run-01_av-2_dcc.npy',\n",
       "  'PTZ-WILDTYPE-07_2photon_sess-01-6dpf_BLN_run-01_av-2_dcc.npy',\n",
       "  'PTZ-WILDTYPE-08_2photon_sess-01-6dpf_BLN_run-01_av-2_dcc.npy',\n",
       "  'PTZ-WILDTYPE-09_2photon_sess-01-6dpf_BLN_run-01_av-2_dcc.npy',\n",
       "  'PTZ-WILDTYPE-10_2photon_sess-01-6dpf_BLN_run-01_av-2_dcc.npy',\n",
       "  'PTZ-WILDTYPE-11_2photon_sess-01-6dpf_BLN_run-01_av-2_dcc.npy',\n",
       "  'PTZ-WILDTYPE-12_2photon_sess-01-6dpf_BLN_run-09_av-2_dcc.npy'],\n",
       " ['PTZ-WILDTYPE-02_2photon_sess-01-6dpf_BLN_run-01_av-3_dcc.npy',\n",
       "  'PTZ-WILDTYPE-04_2photon_sess-01-6dpf_BLN_run-01_av-3_dcc.npy',\n",
       "  'PTZ-WILDTYPE-05_2photon_sess-01-6dpf_BLN_run-01_av-3_dcc.npy',\n",
       "  'PTZ-WILDTYPE-06_2photon_sess-01-6dpf_BLN_run-01_av-3_dcc.npy',\n",
       "  'PTZ-WILDTYPE-07_2photon_sess-01-6dpf_BLN_run-01_av-3_dcc.npy',\n",
       "  'PTZ-WILDTYPE-08_2photon_sess-01-6dpf_BLN_run-01_av-3_dcc.npy',\n",
       "  'PTZ-WILDTYPE-09_2photon_sess-01-6dpf_BLN_run-01_av-3_dcc.npy',\n",
       "  'PTZ-WILDTYPE-10_2photon_sess-01-6dpf_BLN_run-01_av-3_dcc.npy',\n",
       "  'PTZ-WILDTYPE-11_2photon_sess-01-6dpf_BLN_run-01_av-3_dcc.npy',\n",
       "  'PTZ-WILDTYPE-12_2photon_sess-01-6dpf_BLN_run-09_av-3_dcc.npy'],\n",
       " ['PTZ-WILDTYPE-02_2photon_sess-01-6dpf_BLN_run-01_av-4_dcc.npy',\n",
       "  'PTZ-WILDTYPE-04_2photon_sess-01-6dpf_BLN_run-01_av-4_dcc.npy',\n",
       "  'PTZ-WILDTYPE-05_2photon_sess-01-6dpf_BLN_run-01_av-4_dcc.npy',\n",
       "  'PTZ-WILDTYPE-06_2photon_sess-01-6dpf_BLN_run-01_av-4_dcc.npy',\n",
       "  'PTZ-WILDTYPE-07_2photon_sess-01-6dpf_BLN_run-01_av-4_dcc.npy',\n",
       "  'PTZ-WILDTYPE-08_2photon_sess-01-6dpf_BLN_run-01_av-4_dcc.npy',\n",
       "  'PTZ-WILDTYPE-09_2photon_sess-01-6dpf_BLN_run-01_av-4_dcc.npy',\n",
       "  'PTZ-WILDTYPE-10_2photon_sess-01-6dpf_BLN_run-01_av-4_dcc.npy',\n",
       "  'PTZ-WILDTYPE-11_2photon_sess-01-6dpf_BLN_run-01_av-4_dcc.npy',\n",
       "  'PTZ-WILDTYPE-12_2photon_sess-01-6dpf_BLN_run-09_av-4_dcc.npy'])"
      ]
     },
     "execution_count": 100,
     "metadata": {},
     "output_type": "execute_result"
    }
   ],
   "source": [
    "\n",
    "two_l = sorted(glob.glob('*_av-2*_dcc*'))\n",
    "three_l = sorted(glob.glob('*_av-3*_dcc*'))\n",
    "four_l = sorted(glob.glob('*_av-4*_dcc*'))\n",
    "\n",
    "two_l, three_l, four_l"
   ]
  },
  {
   "cell_type": "code",
   "execution_count": 102,
   "metadata": {},
   "outputs": [],
   "source": [
    "def dome(data_l):\n",
    "    inp_l = list(range(len(data_l)))\n",
    "    for i in range(len(data_l)):\n",
    "        inp_l[i] = np.load(data_l[i])\n",
    "    return(inp_l)"
   ]
  },
  {
   "cell_type": "code",
   "execution_count": 101,
   "metadata": {},
   "outputs": [],
   "source": [
    "two = dome(two_l)\n",
    "three = dome(three_l)\n",
    "four = dome(four_l)"
   ]
  },
  {
   "cell_type": "code",
   "execution_count": 61,
   "metadata": {},
   "outputs": [
    {
     "data": {
      "text/plain": [
       "(0.1271703301477746, 0.13232724919524247, 0.19600353958761302)"
      ]
     },
     "execution_count": 61,
     "metadata": {},
     "output_type": "execute_result"
    }
   ],
   "source": [
    "np.mean(two), np.mean(three), np.mean(four)"
   ]
  },
  {
   "cell_type": "code",
   "execution_count": 103,
   "metadata": {},
   "outputs": [],
   "source": [
    "#DCC by avalanche initiation size\n",
    "\n",
    "dcc = np.zeros((30))\n",
    "dcc_list = [two, three, four]\n",
    "    \n",
    "count=0\n",
    "for i in range(len(dcc_list)):\n",
    "    for y in range(10):\n",
    "        dcc[count] = dcc_list[i][y]\n",
    "        count+=1\n",
    "dcc_df = pd.DataFrame({\"dcc\":dcc , \"Labels\":  np.append(adfn.repeat_list('2',10),np.append(adfn.repeat_list('3',10),adfn.repeat_list('4',10)))})"
   ]
  },
  {
   "cell_type": "code",
   "execution_count": 104,
   "metadata": {},
   "outputs": [
    {
     "data": {
      "image/png": "[encoded data removed]",
      "text/plain": [
       "<Figure size 288x360 with 1 Axes>"
      ]
     },
     "metadata": {
      "needs_background": "light"
     },
     "output_type": "display_data"
    }
   ],
   "source": [
    "from matplotlib.collections import PathCollection\n",
    "import seaborn as sns\n",
    "from matplotlib import cm\n",
    "colors2 = ['black','blue','green']\n",
    "fig, ax = plt.subplots(figsize = (4,5))\n",
    "ax = sns.pointplot(x=\"Labels\", y=\"dcc\", data = dcc_df, hue = 'Labels', palette = colors2, join=True, ci=0, scale=6, markers = '_')\n",
    "for artist in ax.lines:\n",
    "    artist.set_zorder(10)\n",
    "for artist in ax.findobj(PathCollection):\n",
    "    artist.set_zorder(11)\n",
    "#ax = sns.pointplot(x=\"Labels\", y=\"DCC\", data=dcc_df, color = 'grey', linestyles = [\"--\"], ci = 0, scale=0.6)\n",
    "ax = sns.stripplot(x=\"Labels\", y=\"dcc\", data=dcc_df, hue = 'Labels', palette = colors2, size = 15, jitter = True ,alpha = 0.5)\n",
    "plt.yticks(size = 20)\n",
    "\n",
    "points = ax.collections\n",
    "ax.spines['top'].set_visible(False)\n",
    "ax.spines['right'].set_visible(False)\n",
    "ax.set_xlabel(' ', size = '13')\n",
    "ax.set_ylabel('DCC', size = '18')\n",
    "#ax.set_xticklabels(['Baseline', 'Focal', 'Generalised'], size = 15)\n",
    "ax.legend_.remove()\n",
    "plt.savefig(Ffig + 'dcc_avstart.svg', transparent = True)\n",
    "plt.show()"
   ]
  },
  {
   "cell_type": "code",
   "execution_count": 38,
   "metadata": {},
   "outputs": [
    {
     "data": {
      "text/plain": [
       "['PTZ-WILDTYPE-12_2photon_sess-01-6dpf_BLN_run-09_av-2_dcc.npy',\n",
       " 'PTZ-WILDTYPE-12_2photon_sess-01-6dpf_BLN_run-09_av-3_dcc.npy',\n",
       " 'PTZ-WILDTYPE-12_2photon_sess-01-6dpf_BLN_run-09_av-4_dcc.npy']"
      ]
     },
     "execution_count": 38,
     "metadata": {},
     "output_type": "execute_result"
    }
   ],
   "source": [
    "num_list = ['02', '04', '05', '06', '07', '08', '09', '10', '11', '12']\n",
    "\n",
    "\n",
    "for num in num_list:\n",
    "    curr_l = sorted(glob.glob('*E-' + num +  '*_av-*_dcc*'))\n",
    "curr_l"
   ]
  },
  {
   "cell_type": "code",
   "execution_count": 42,
   "metadata": {},
   "outputs": [
    {
     "data": {
      "text/plain": [
       "(array([0, 1, 2]), array([0.13066925, 0.14294668, 0.06713108]))"
      ]
     },
     "execution_count": 42,
     "metadata": {},
     "output_type": "execute_result"
    }
   ],
   "source": [
    "np.arange(3), fill_me"
   ]
  },
  {
   "cell_type": "code",
   "execution_count": 45,
   "metadata": {},
   "outputs": [
    {
     "data": {
      "image/png": "[encoded data removed]",
      "text/plain": [
       "<Figure size 720x360 with 1 Axes>"
      ]
     },
     "metadata": {
      "needs_background": "light"
     },
     "output_type": "display_data"
    }
   ],
   "source": [
    "num_list = ['02', '04', '05', '06', '07', '08', '09', '10', '11', '12']\n",
    "fish_list = ['k', 'blue', 'green']\n",
    "\n",
    "\n",
    "fig = plt.figure(figsize = (10,5))\n",
    "ax = fig.add_subplot(1,1,1)\n",
    "\n",
    "for y,num in enumerate(num_list):\n",
    "    curr_l = sorted(glob.glob('*E-' + num +  '*_av-*_dcc*'))\n",
    "    fill_me = np.zeros(3)\n",
    "    \n",
    "    for x,curr in enumerate(curr_l):\n",
    "        fill_me[x] = np.load(curr)\n",
    "    plt.scatter(np.arange(3), fill_me, s = 5)\n",
    "plt.show()"
   ]
  }
 ],
 "metadata": {
  "kernelspec": {
   "display_name": "Python 3",
   "language": "python",
   "name": "python3"
  },
  "language_info": {
   "codemirror_mode": {
    "name": "ipython",
    "version": 3
   },
   "file_extension": ".py",
   "mimetype": "text/x-python",
   "name": "python",
   "nbconvert_exporter": "python",
   "pygments_lexer": "ipython3",
   "version": "3.7.4"
  }
 },
 "nbformat": 4,
 "nbformat_minor": 4
}
