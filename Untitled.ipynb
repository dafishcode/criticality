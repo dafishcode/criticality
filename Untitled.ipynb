{
 "cells": [
  {
   "cell_type": "code",
   "execution_count": 16,
   "metadata": {},
   "outputs": [
    {
     "name": "stdout",
     "output_type": "stream",
     "text": [
      "The autoreload extension is already loaded. To reload it, use:\n",
      "  %reload_ext autoreload\n"
     ]
    },
    {
     "data": {
      "text/plain": [
       "'3.7.6 (default, Jan  8 2020, 13:42:34) \\n[Clang 4.0.1 (tags/RELEASE_401/final)]'"
      ]
     },
     "execution_count": 16,
     "metadata": {},
     "output_type": "execute_result"
    }
   ],
   "source": [
    "#Import packages\n",
    "#---------------------------------------\n",
    "import sys\n",
    "import os\n",
    "import pandas as pd\n",
    "from matplotlib import pyplot as plt\n",
    "import numpy as np\n",
    "import matplotlib\n",
    "import warnings\n",
    "warnings.filterwarnings(\"ignore\", category=RuntimeWarning) \n",
    "\n",
    "#Import your modules\n",
    "#---------------------------------------\n",
    "import admin_functions as adfn\n",
    "import criticality as crfn\n",
    "import IS as isfn\n",
    "import trace_analyse as tfn\n",
    "\n",
    "# Define paths\n",
    "#----------------------------------------------------------------------\n",
    "Fcode = '/Users/dominicburrows/Dropbox/PhD/Analysis/my_scripts/GitHub/'\n",
    "Fdata = '/Users/dominicburrows/Dropbox/PhD/analysis/Project/'\n",
    "Fdoc = '/Users/dominicburrows/Documents/'\n",
    "F10t = '/Volumes/Dominic 10tb/'\n",
    "\n",
    "F10t2 = '/Volumes/Dominic 10tb2/'\n",
    "Ftm = '/Volumes/Dominic Time Machine/'\n",
    "Ffig = '/Users/dominicburrows/Dropbox/PhD/figures/'\n",
    "\n",
    "%load_ext autoreload\n",
    "sys.version"
   ]
  },
  {
   "cell_type": "code",
   "execution_count": 2,
   "metadata": {},
   "outputs": [
    {
     "name": "stderr",
     "output_type": "stream",
     "text": [
      "INFO     Loaded mrestimator v0.1.8, writing to /tmp/mre_dominicburrows/\n",
      "INFO     Using numba for parallelizable functions\n"
     ]
    }
   ],
   "source": [
    "import mrestimator as mre"
   ]
  },
  {
   "cell_type": "code",
   "execution_count": 3,
   "metadata": {},
   "outputs": [
    {
     "data": {
      "text/plain": [
       "['PTZ-WILDTYPE-02_2photon_sess-01-6dpf_BLN_run-01_randbase_cutrealtrace_.npy',\n",
       " 'PTZ-WILDTYPE-04_2photon_sess-01-6dpf_BLN_run-01_randbase_cutrealtrace_.npy',\n",
       " 'PTZ-WILDTYPE-05_2photon_sess-01-6dpf_BLN_run-01_randbase_cutrealtrace_.npy',\n",
       " 'PTZ-WILDTYPE-07_2photon_sess-01-6dpf_BLN_run-01_randbase_cutrealtrace_.npy',\n",
       " 'PTZ-WILDTYPE-08_2photon_sess-01-6dpf_BLN_run-01_randbase_cutrealtrace_.npy',\n",
       " 'PTZ-WILDTYPE-09_2photon_sess-01-6dpf_BLN_run-01_randbase_cutrealtrace_.npy',\n",
       " 'PTZ-WILDTYPE-10_2photon_sess-01-6dpf_BLN_run-01_randbase_cutrealtrace_.npy',\n",
       " 'PTZ-WILDTYPE-11_2photon_sess-01-6dpf_BLN_run-01_randbase_cutrealtrace_.npy',\n",
       " 'PTZ-WILDTYPE-12_2photon_sess-01-6dpf_BLN_run-09_randbase_cutrealtrace_.npy']"
      ]
     },
     "execution_count": 3,
     "metadata": {},
     "output_type": "execute_result"
    }
   ],
   "source": [
    "# Create lists of coord data\n",
    "#---------------------------------------------------------------------------\n",
    "import glob\n",
    "\n",
    "experiment = 'PTZ-WILDTYPE'\n",
    "os.chdir(Fdata + experiment)\n",
    "bln_list = sorted(glob.glob('*BLN*randbase_cutre*')) \n",
    "bln_list"
   ]
  },
  {
   "cell_type": "code",
   "execution_count": 113,
   "metadata": {},
   "outputs": [
    {
     "data": {
      "text/plain": [
       "array(['BLNDEV-WILDTYPE-02_2photon_sess-01-3dpf_BLNGR_run-01_Diencephalon_criticality.npy',\n",
       "       'BLNDEV-WILDTYPE-02_2photon_sess-01-3dpf_BLNGR_run-01_Hindbrain_criticality.npy',\n",
       "       'BLNDEV-WILDTYPE-02_2photon_sess-01-3dpf_BLNGR_run-01_Midbrain_criticality.npy',\n",
       "       'BLNDEV-WILDTYPE-02_2photon_sess-01-3dpf_BLNGR_run-01_Telencephalon_criticality.npy',\n",
       "       'BLNDEV-WILDTYPE-02_2photon_sess-01-3dpf_BLNGR_run-01_all_criticality.npy'],\n",
       "      dtype='<U82')"
      ]
     },
     "execution_count": 113,
     "metadata": {},
     "output_type": "execute_result"
    }
   ],
   "source": [
    "d3 = adfn.return_files(Fdata, 'BLNDEV-WILDTYPE/', '*3dpf*crit*')\n",
    "d4 = adfn.return_files(Fdata, 'BLNDEV-WILDTYPE/', '*4dpf*crit*')\n",
    "d5 = adfn.return_files(Fdata, 'BLNDEV-WILDTYPE/', '*5dpf*crit*')\n",
    "d6 = adfn.return_files(Fdata, 'BLNDEV-WILDTYPE/', '*6dpf*crit*')\n",
    "d7 = adfn.return_files(Fdata, 'BLNDEV-WILDTYPE/', '*7dpf*crit*')\n",
    "d8 = adfn.return_files(Fdata, 'BLNDEV-WILDTYPE/', '*8dpf*crit*')\n",
    "data_ll = np.hstack((d3, d4, d5, d6, d7, d8))\n",
    "data_ll[:5]"
   ]
  },
  {
   "cell_type": "code",
   "execution_count": 140,
   "metadata": {},
   "outputs": [],
   "source": [
    "import powerlaw\n",
    "def do(avdistcut, typ):\n",
    "    results = powerlaw.Fit(avdistcut, discrete=True)\n",
    "    print(results.power_law.alpha)\n",
    "    print(results.power_law.xmin)\n",
    "    R, p = results.distribution_compare(typ, 'lognormal', normalized_ratio=True)\n",
    "    return(R,p)"
   ]
  },
  {
   "cell_type": "code",
   "execution_count": 135,
   "metadata": {},
   "outputs": [
    {
     "data": {
      "text/plain": [
       "'BLNDEV-WILDTYPE-02_2photon_sess-01-3dpf_BLNGR_run-01_Telencephalon_criticality.npy'"
      ]
     },
     "execution_count": 135,
     "metadata": {},
     "output_type": "execute_result"
    }
   ],
   "source": [
    "data_ll[i]"
   ]
  },
  {
   "cell_type": "code",
   "execution_count": 139,
   "metadata": {},
   "outputs": [
    {
     "data": {
      "text/plain": [
       "4"
      ]
     },
     "execution_count": 139,
     "metadata": {},
     "output_type": "execute_result"
    }
   ],
   "source": [
    "np.max(avdistcut)"
   ]
  },
  {
   "cell_type": "code",
   "execution_count": 158,
   "metadata": {},
   "outputs": [
    {
     "data": {
      "text/plain": [
       "10"
      ]
     },
     "execution_count": 158,
     "metadata": {},
     "output_type": "execute_result"
    }
   ],
   "source": [
    "np.max(avdistcut)"
   ]
  },
  {
   "cell_type": "code",
   "execution_count": null,
   "metadata": {},
   "outputs": [],
   "source": [
    "out_l = list(range(len(data_ll)))\n",
    "for i in range(14,len(data_ll)):\n",
    "    out = list(range(2))\n",
    "    for choose in [0,1]:\n",
    "        data = np.load(data_ll[i], allow_pickle=True).item()\n",
    "        avdistcut = data['av'][choose]\n",
    "        if np.max(avdistcut)<11:\n",
    "            typ = 'power_law'\n",
    "        else:\n",
    "            typ = 'truncated_power_law'\n",
    "        out[choose] = do(avdistcut, typ)\n",
    "    out_l[i] = out\n",
    "    prename = data_ll[i]\n",
    "    name = prename[:prename.find('crit')]\n",
    "    np.save(Fdata + 'BLNDEV-WILDTYPE/' + name + 'LLR_allstot.npy', out)\n",
    "    print(i)"
   ]
  },
  {
   "cell_type": "code",
   "execution_count": 233,
   "metadata": {},
   "outputs": [
    {
     "data": {
      "text/plain": [
       "array(['BLNDEV-WILDTYPE-02_2photon_sess-01-3dpf_BLNGR_run-01_Telencephalon_LLR_allstot.npy',\n",
       "       'BLNDEV-WILDTYPE-05_2photon_sess-01-3dpf_BLNGR_run-01_Telencephalon_LLR_allstot.npy',\n",
       "       'BLNDEV-WILDTYPE-06_2photon_sess-01-3dpf_BLNGR_run-01_Telencephalon_LLR_allstot.npy',\n",
       "       'BLNDEV-WILDTYPE-07_2photon_sess-01-3dpf_BLNGR_run-01_Telencephalon_LLR_allstot.npy',\n",
       "       'BLNDEV-WILDTYPE-08_2photon_sess-01-3dpf_BLNGR_run-01_Telencephalon_LLR_allstot.npy',\n",
       "       'BLNDEV-WILDTYPE-01_2photon_sess-01-4dpf_BLNGR_run-01_Telencephalon_LLR_allstot.npy',\n",
       "       'BLNDEV-WILDTYPE-02_2photon_sess-01-4dpf_BLNGR_run-01_Telencephalon_LLR_allstot.npy',\n",
       "       'BLNDEV-WILDTYPE-03_2photon_sess-01-4dpf_BLNGR_run-01_Telencephalon_LLR_allstot.npy',\n",
       "       'BLNDEV-WILDTYPE-04_2photon_sess-01-4dpf_BLNGR_run-01_Telencephalon_LLR_allstot.npy',\n",
       "       'BLNDEV-WILDTYPE-05_2photon_sess-01-4dpf_BLNGR_run-01_Telencephalon_LLR_allstot.npy',\n",
       "       'BLNDEV-WILDTYPE-01_2photon_sess-01-5dpf_BLNGR_run-01_Telencephalon_LLR_allstot.npy',\n",
       "       'BLNDEV-WILDTYPE-02_2photon_sess-01-5dpf_BLNGR_run-01_Telencephalon_LLR_allstot.npy',\n",
       "       'BLNDEV-WILDTYPE-04_2photon_sess-01-5dpf_BLNGR_run-01_Telencephalon_LLR_allstot.npy',\n",
       "       'BLNDEV-WILDTYPE-06_2photon_sess-01-5dpf_BLNGR_run-01_Telencephalon_LLR_allstot.npy',\n",
       "       'BLNDEV-WILDTYPE-07_2photon_sess-01-5dpf_BLNGR_run-01_Telencephalon_LLR_allstot.npy',\n",
       "       'BLNDEV-WILDTYPE-08_2photon_sess-01-5dpf_BLNGR_run-01_Telencephalon_LLR_allstot.npy',\n",
       "       'BLNDEV-WILDTYPE-01_2photon_sess-01-6dpf_BLNGR_run-01_Telencephalon_LLR_allstot.npy',\n",
       "       'BLNDEV-WILDTYPE-02_2photon_sess-01-6dpf_BLNGR_run-01_Telencephalon_LLR_allstot.npy',\n",
       "       'BLNDEV-WILDTYPE-03_2photon_sess-01-6dpf_BLNGR_run-01_Telencephalon_LLR_allstot.npy',\n",
       "       'BLNDEV-WILDTYPE-04_2photon_sess-01-6dpf_BLNGR_run-01_Telencephalon_LLR_allstot.npy',\n",
       "       'BLNDEV-WILDTYPE-06_2photon_sess-01-6dpf_BLNGR_run-01_Telencephalon_LLR_allstot.npy',\n",
       "       'BLNDEV-WILDTYPE-01_2photon_sess-01-7dpf_BLNGR_run-01_Telencephalon_LLR_allstot.npy',\n",
       "       'BLNDEV-WILDTYPE-04_2photon_sess-01-7dpf_BLNGR_run-01_Telencephalon_LLR_allstot.npy',\n",
       "       'BLNDEV-WILDTYPE-05_2photon_sess-01-7dpf_BLNGR_run-01_Telencephalon_LLR_allstot.npy',\n",
       "       'BLNDEV-WILDTYPE-07_2photon_sess-01-7dpf_BLNGR_run-01_Telencephalon_LLR_allstot.npy',\n",
       "       'BLNDEV-WILDTYPE-01_2photon_sess-01-8dpf_BLNGR_run-01_Telencephalon_LLR_allstot.npy',\n",
       "       'BLNDEV-WILDTYPE-04_2photon_sess-01-8dpf_BLNGR_run-01_Telencephalon_LLR_allstot.npy',\n",
       "       'BLNDEV-WILDTYPE-05_2photon_sess-01-8dpf_BLNGR_run-01_Telencephalon_LLR_allstot.npy',\n",
       "       'BLNDEV-WILDTYPE-06_2photon_sess-01-8dpf_BLNGR_run-01_Telencephalon_LLR_allstot.npy',\n",
       "       'BLNDEV-WILDTYPE-08_2photon_sess-01-8dpf_BLNGR_run-01_Telencephalon_LLR_allstot.npy'],\n",
       "      dtype='<U82')"
      ]
     },
     "execution_count": 233,
     "metadata": {},
     "output_type": "execute_result"
    }
   ],
   "source": [
    "# Create lists of coord data\n",
    "#---------------------------------------------------------------------------\n",
    "\n",
    "d3 = adfn.return_files(Fdata, 'BLNDEV-WILDTYPE', '*3dpf*Te*LLR*')\n",
    "d4 = adfn.return_files(Fdata, 'BLNDEV-WILDTYPE', '*4dpf*Te*LLR*')\n",
    "d5 = adfn.return_files(Fdata, 'BLNDEV-WILDTYPE', '*5dpf*Te*LLR*')\n",
    "d6 = adfn.return_files(Fdata, 'BLNDEV-WILDTYPE', '*6dpf*Te*LLR*')\n",
    "d7 = adfn.return_files(Fdata, 'BLNDEV-WILDTYPE', '*7dpf*Te*LLR*')\n",
    "d8 = adfn.return_files(Fdata, 'BLNDEV-WILDTYPE', '*8dpf*Te*LLR*')\n",
    "data_ll = np.hstack((d3, d4, d5, d6, d7, d8))\n",
    "data_ll"
   ]
  },
  {
   "cell_type": "code",
   "execution_count": 168,
   "metadata": {},
   "outputs": [
    {
     "data": {
      "text/plain": [
       "array([3.35713468e+00, 7.87547394e-04])"
      ]
     },
     "execution_count": 168,
     "metadata": {},
     "output_type": "execute_result"
    }
   ],
   "source": [
    "np.load(data_ll[0])[0]"
   ]
  },
  {
   "cell_type": "code",
   "execution_count": 236,
   "metadata": {},
   "outputs": [],
   "source": [
    "choose = 1\n",
    "llr_l = np.zeros(len(data_ll))\n",
    "for i in range(len(data_ll)):\n",
    "    llr_l[i] = np.load(data_ll[i])[choose][0]\n",
    "\n",
    "\n",
    "len_list = []\n",
    "seq_l = d3, d4, d5, d6, d7, d8\n",
    "for i in range(len(seq_l)):\n",
    "    count = 0\n",
    "    for e in range(len(seq_l[i])):\n",
    "        count+=1\n",
    "\n",
    "    len_list = np.append(len_list, count)\n",
    "cond = np.arange(3, 9)\n",
    "cond_l = []\n",
    "for i in range(len(len_list)):\n",
    "    for e in range(int(len_list[i])):\n",
    "        cond_l = np.append(cond_l, cond[i])\n",
    "        \n",
    "df = pd.DataFrame({'llr':llr_l , \"condition\": cond_l})"
   ]
  },
  {
   "cell_type": "code",
   "execution_count": 237,
   "metadata": {},
   "outputs": [
    {
     "data": {
      "image/png": "[encoded data removed]",
      "text/plain": [
       "<Figure size 432x360 with 1 Axes>"
      ]
     },
     "metadata": {},
     "output_type": "display_data"
    }
   ],
   "source": [
    "from matplotlib import pyplot as plt\n",
    "import seaborn as sns\n",
    "from matplotlib.collections import PathCollection\n",
    "from matplotlib import cm\n",
    "sns.set(style=\"white\")\n",
    "    \n",
    "data_name = 'llr'\n",
    "dic = df\n",
    "\n",
    "fig, ax = plt.subplots(figsize = (6,5))\n",
    "#ax = sns.pointplot(x=\"condition\", y=data_name, data = dic, join=True, ci=0, scale=1, markers = '_')\n",
    "for artist in ax.lines:\n",
    "    artist.set_zorder(10)\n",
    "for artist in ax.findobj(PathCollection):\n",
    "    artist.set_zorder(11)\n",
    "ax = sns.stripplot(x=\"condition\", y=data_name, data = dic,size = 10, jitter = True ,alpha = 1)\n",
    "plt.hlines(0, -1,6, linestyles='--')\n",
    "plt.yticks(size = 20)\n",
    "points = ax.collections\n",
    "ax.spines['top'].set_visible(False)\n",
    "ax.spines['right'].set_visible(False)\n",
    "plt.show()\n"
   ]
  },
  {
   "cell_type": "code",
   "execution_count": 200,
   "metadata": {},
   "outputs": [
    {
     "data": {
      "text/plain": [
       "array(['BLNDEV-WILDTYPE-02_2photon_sess-01-3dpf_BLNGR_run-01_Diencephalon_LLR_allstot.npy',\n",
       "       'BLNDEV-WILDTYPE-02_2photon_sess-01-3dpf_BLNGR_run-01_Hindbrain_LLR_allstot.npy',\n",
       "       'BLNDEV-WILDTYPE-02_2photon_sess-01-3dpf_BLNGR_run-01_Midbrain_LLR_allstot.npy',\n",
       "       'BLNDEV-WILDTYPE-02_2photon_sess-01-3dpf_BLNGR_run-01_Telencephalon_LLR_allstot.npy',\n",
       "       'BLNDEV-WILDTYPE-05_2photon_sess-01-3dpf_BLNGR_run-01_Diencephalon_LLR_allstot.npy',\n",
       "       'BLNDEV-WILDTYPE-05_2photon_sess-01-3dpf_BLNGR_run-01_Hindbrain_LLR_allstot.npy',\n",
       "       'BLNDEV-WILDTYPE-05_2photon_sess-01-3dpf_BLNGR_run-01_Midbrain_LLR_allstot.npy',\n",
       "       'BLNDEV-WILDTYPE-05_2photon_sess-01-3dpf_BLNGR_run-01_Telencephalon_LLR_allstot.npy',\n",
       "       'BLNDEV-WILDTYPE-06_2photon_sess-01-3dpf_BLNGR_run-01_Diencephalon_LLR_allstot.npy',\n",
       "       'BLNDEV-WILDTYPE-06_2photon_sess-01-3dpf_BLNGR_run-01_Hindbrain_LLR_allstot.npy'],\n",
       "      dtype='<U82')"
      ]
     },
     "execution_count": 200,
     "metadata": {},
     "output_type": "execute_result"
    }
   ],
   "source": [
    "d3 = adfn.return_files(Fdata, 'BLNDEV-WILDTYPE', '*3dpf*n_LLR*')\n",
    "d4 = adfn.return_files(Fdata, 'BLNDEV-WILDTYPE', '*4dpf*n_LLR*')\n",
    "d5 = adfn.return_files(Fdata, 'BLNDEV-WILDTYPE', '*5dpf*n_LLR*')\n",
    "d6 = adfn.return_files(Fdata, 'BLNDEV-WILDTYPE', '*6dpf*n_LLR*')\n",
    "d7 = adfn.return_files(Fdata, 'BLNDEV-WILDTYPE', '*7dpf*n_LLR*')\n",
    "d8 = adfn.return_files(Fdata, 'BLNDEV-WILDTYPE', '*8dpf*n_LLR*')\n",
    "data_ll = np.hstack((d3, d4, d5, d6, d7, d8))\n",
    "data_ll[:10]"
   ]
  },
  {
   "cell_type": "code",
   "execution_count": 201,
   "metadata": {},
   "outputs": [],
   "source": [
    "choose = 0\n",
    "llr_l = np.zeros(len(data_ll))\n",
    "for i in range(len(data_ll)):\n",
    "    llr_l[i] = np.load(data_ll[i])[choose][0]"
   ]
  },
  {
   "cell_type": "code",
   "execution_count": 206,
   "metadata": {},
   "outputs": [],
   "source": [
    "reg_list = ['Diencephalon', 'Hindbrain', 'Midbrain', 'Telencephalon']\n"
   ]
  },
  {
   "cell_type": "code",
   "execution_count": 213,
   "metadata": {},
   "outputs": [],
   "source": [
    "choose = 0\n",
    "llr_l = np.zeros(len(data_ll))\n",
    "for i in range(len(data_ll)):\n",
    "    llr_l[i] = np.load(data_ll[i])[choose][0]\n",
    "\n",
    "\n",
    "len_list = []\n",
    "seq_l = d3, d4, d5, d6, d7, d8\n",
    "for i in range(len(seq_l)):\n",
    "    count = 0\n",
    "    for e in range(len(seq_l[i])):\n",
    "        count+=1\n",
    "\n",
    "    len_list = np.append(len_list, count)\n",
    "cond = np.arange(3, 9)\n",
    "cond_l = []\n",
    "for i in range(len(len_list)):\n",
    "    for e in range(int(len_list[i])):\n",
    "        cond_l = np.append(cond_l, cond[i])\n",
    "        \n",
    "reg_data = np.ravel(adfn.repeat_list(reg_list, 30))\n",
    "        \n",
    "df = pd.DataFrame({'llr':llr_l , \"condition\": cond_l, \"region\": reg_data})"
   ]
  },
  {
   "cell_type": "code",
   "execution_count": 214,
   "metadata": {},
   "outputs": [
    {
     "data": {
      "image/png": "[encoded data removed]",
      "text/plain": [
       "<Figure size 432x360 with 1 Axes>"
      ]
     },
     "metadata": {},
     "output_type": "display_data"
    }
   ],
   "source": [
    "data_name = 'llr'\n",
    "dic = df\n",
    "\n",
    "fig, ax = plt.subplots(figsize = (6,5))\n",
    "ax = sns.pointplot(x=\"condition\", y=data_name, hue = 'region', data = dic, join=True, ci=0, scale=1, markers = '_')\n",
    "\n",
    "plt.yticks(size = 20)\n",
    "points = ax.collections\n",
    "ax.spines['top'].set_visible(False)\n",
    "ax.spines['right'].set_visible(False)\n",
    "plt.hlines(0, 0,5, linestyles='--')\n",
    "\n",
    "\n",
    "plt.show()"
   ]
  },
  {
   "cell_type": "code",
   "execution_count": 102,
   "metadata": {},
   "outputs": [
    {
     "data": {
      "text/plain": [
       "(30, 30, 30, 30)"
      ]
     },
     "execution_count": 102,
     "metadata": {},
     "output_type": "execute_result"
    }
   ],
   "source": [
    "#Calculate criticality statistics\n",
    "trace_l = adfn.return_files(Fdata, 'BLNDEV-WILDTYPE', '*regtrace*')\n",
    "dff_l = adfn.return_files(Fdata, 'BLNDEV-WILDTYPE', '*regdelt*')\n",
    "bind_l = adfn.return_files(Fdata, 'BLNDEV-WILDTYPE', '*regbin*')\n",
    "coord_l = adfn.return_files(Fdata, 'BLNDEV-WILDTYPE', '*labcoor*')\n",
    "len(trace_l), len(dff_l), len(bind_l), len(coord_l)"
   ]
  },
  {
   "cell_type": "code",
   "execution_count": 103,
   "metadata": {},
   "outputs": [
    {
     "data": {
      "text/plain": [
       "['BLNDEV-WILDTYPE-01_2photon_sess-01-4dpf_BLNGR_run-01_regtrace.npy',\n",
       " 'BLNDEV-WILDTYPE-01_2photon_sess-01-5dpf_BLNGR_run-01_regtrace.npy',\n",
       " 'BLNDEV-WILDTYPE-01_2photon_sess-01-6dpf_BLNGR_run-01_regtrace.npy',\n",
       " 'BLNDEV-WILDTYPE-01_2photon_sess-01-7dpf_BLNGR_run-01_regtrace.npy',\n",
       " 'BLNDEV-WILDTYPE-01_2photon_sess-01-8dpf_BLNGR_run-01_regtrace.npy',\n",
       " 'BLNDEV-WILDTYPE-02_2photon_sess-01-3dpf_BLNGR_run-01_regtrace.npy',\n",
       " 'BLNDEV-WILDTYPE-02_2photon_sess-01-4dpf_BLNGR_run-01_regtrace.npy',\n",
       " 'BLNDEV-WILDTYPE-02_2photon_sess-01-5dpf_BLNGR_run-01_regtrace.npy',\n",
       " 'BLNDEV-WILDTYPE-02_2photon_sess-01-6dpf_BLNGR_run-01_regtrace.npy',\n",
       " 'BLNDEV-WILDTYPE-03_2photon_sess-01-4dpf_BLNGR_run-01_regtrace.npy',\n",
       " 'BLNDEV-WILDTYPE-03_2photon_sess-01-6dpf_BLNGR_run-01_regtrace.npy',\n",
       " 'BLNDEV-WILDTYPE-04_2photon_sess-01-4dpf_BLNGR_run-01_regtrace.npy',\n",
       " 'BLNDEV-WILDTYPE-04_2photon_sess-01-5dpf_BLNGR_run-01_regtrace.npy',\n",
       " 'BLNDEV-WILDTYPE-04_2photon_sess-01-6dpf_BLNGR_run-01_regtrace.npy',\n",
       " 'BLNDEV-WILDTYPE-04_2photon_sess-01-7dpf_BLNGR_run-01_regtrace.npy',\n",
       " 'BLNDEV-WILDTYPE-04_2photon_sess-01-8dpf_BLNGR_run-01_regtrace.npy',\n",
       " 'BLNDEV-WILDTYPE-05_2photon_sess-01-3dpf_BLNGR_run-01_regtrace.npy',\n",
       " 'BLNDEV-WILDTYPE-05_2photon_sess-01-4dpf_BLNGR_run-01_regtrace.npy',\n",
       " 'BLNDEV-WILDTYPE-05_2photon_sess-01-7dpf_BLNGR_run-01_regtrace.npy',\n",
       " 'BLNDEV-WILDTYPE-05_2photon_sess-01-8dpf_BLNGR_run-01_regtrace.npy',\n",
       " 'BLNDEV-WILDTYPE-06_2photon_sess-01-3dpf_BLNGR_run-01_regtrace.npy',\n",
       " 'BLNDEV-WILDTYPE-06_2photon_sess-01-5dpf_BLNGR_run-01_regtrace.npy',\n",
       " 'BLNDEV-WILDTYPE-06_2photon_sess-01-6dpf_BLNGR_run-01_regtrace.npy',\n",
       " 'BLNDEV-WILDTYPE-06_2photon_sess-01-8dpf_BLNGR_run-01_regtrace.npy',\n",
       " 'BLNDEV-WILDTYPE-07_2photon_sess-01-3dpf_BLNGR_run-01_regtrace.npy',\n",
       " 'BLNDEV-WILDTYPE-07_2photon_sess-01-5dpf_BLNGR_run-01_regtrace.npy',\n",
       " 'BLNDEV-WILDTYPE-07_2photon_sess-01-7dpf_BLNGR_run-01_regtrace.npy',\n",
       " 'BLNDEV-WILDTYPE-08_2photon_sess-01-3dpf_BLNGR_run-01_regtrace.npy',\n",
       " 'BLNDEV-WILDTYPE-08_2photon_sess-01-5dpf_BLNGR_run-01_regtrace.npy',\n",
       " 'BLNDEV-WILDTYPE-08_2photon_sess-01-8dpf_BLNGR_run-01_regtrace.npy']"
      ]
     },
     "execution_count": 103,
     "metadata": {},
     "output_type": "execute_result"
    }
   ],
   "source": [
    "trace_l"
   ]
  },
  {
   "cell_type": "code",
   "execution_count": null,
   "metadata": {},
   "outputs": [],
   "source": [
    "reg_list = ['all', 'Telencephalon', 'Diencephalon', 'Midbrain', 'Hindbrain']\n",
    "\n",
    "for i in range(len(dff_l)):\n",
    "    trace = np.load(trace_l[i])\n",
    "    dff = np.load(dff_l[i])\n",
    "    bind = np.load(bind_l[i])\n",
    "    coord = (np.load(coord_l[i]))\n",
    "    name = adfn.save_name(trace_l[i])\n",
    "\n",
    "    for reg in reg_list:\n",
    "        sub_trace, sub_dff, sub_bind, sub_coord = tfn.select_region(trace, dff, bind, coord, reg)\n",
    "        \n",
    "        rks = mre.coefficients (sub_trace, steps = (1, 200), dt = 1, dtunit = 'bp steps', method = 'trialseparated')\n",
    "        fit1 = mre.fit(rks, fitfunc = 'exp_offset')\n",
    "        curr = fit1[1]\n",
    "        name = adfn.save_name(dff_l[i])\n",
    "        np.save(Fdata + 'BLNDEV-WILDTYPE/' + name + '_' + reg +  '_BR_MR_raw.npy', curr)\n",
    "        \n",
    "    print('Processed ' + name)"
   ]
  },
  {
   "cell_type": "code",
   "execution_count": 215,
   "metadata": {},
   "outputs": [
    {
     "data": {
      "text/plain": [
       "array(['BLNDEV-WILDTYPE-02_2photon_sess-01-3dpf_BLNGR_run-01_all_BR_MR_raw.npy',\n",
       "       'BLNDEV-WILDTYPE-05_2photon_sess-01-3dpf_BLNGR_run-01_all_BR_MR_raw.npy',\n",
       "       'BLNDEV-WILDTYPE-06_2photon_sess-01-3dpf_BLNGR_run-01_all_BR_MR_raw.npy',\n",
       "       'BLNDEV-WILDTYPE-07_2photon_sess-01-3dpf_BLNGR_run-01_all_BR_MR_raw.npy',\n",
       "       'BLNDEV-WILDTYPE-08_2photon_sess-01-3dpf_BLNGR_run-01_all_BR_MR_raw.npy',\n",
       "       'BLNDEV-WILDTYPE-01_2photon_sess-01-4dpf_BLNGR_run-01_all_BR_MR_raw.npy',\n",
       "       'BLNDEV-WILDTYPE-02_2photon_sess-01-4dpf_BLNGR_run-01_all_BR_MR_raw.npy',\n",
       "       'BLNDEV-WILDTYPE-03_2photon_sess-01-4dpf_BLNGR_run-01_all_BR_MR_raw.npy',\n",
       "       'BLNDEV-WILDTYPE-04_2photon_sess-01-4dpf_BLNGR_run-01_all_BR_MR_raw.npy',\n",
       "       'BLNDEV-WILDTYPE-05_2photon_sess-01-4dpf_BLNGR_run-01_all_BR_MR_raw.npy',\n",
       "       'BLNDEV-WILDTYPE-01_2photon_sess-01-5dpf_BLNGR_run-01_all_BR_MR_raw.npy',\n",
       "       'BLNDEV-WILDTYPE-02_2photon_sess-01-5dpf_BLNGR_run-01_all_BR_MR_raw.npy',\n",
       "       'BLNDEV-WILDTYPE-04_2photon_sess-01-5dpf_BLNGR_run-01_all_BR_MR_raw.npy',\n",
       "       'BLNDEV-WILDTYPE-06_2photon_sess-01-5dpf_BLNGR_run-01_all_BR_MR_raw.npy',\n",
       "       'BLNDEV-WILDTYPE-07_2photon_sess-01-5dpf_BLNGR_run-01_all_BR_MR_raw.npy',\n",
       "       'BLNDEV-WILDTYPE-08_2photon_sess-01-5dpf_BLNGR_run-01_all_BR_MR_raw.npy',\n",
       "       'BLNDEV-WILDTYPE-01_2photon_sess-01-6dpf_BLNGR_run-01_all_BR_MR_raw.npy',\n",
       "       'BLNDEV-WILDTYPE-02_2photon_sess-01-6dpf_BLNGR_run-01_all_BR_MR_raw.npy',\n",
       "       'BLNDEV-WILDTYPE-03_2photon_sess-01-6dpf_BLNGR_run-01_all_BR_MR_raw.npy',\n",
       "       'BLNDEV-WILDTYPE-04_2photon_sess-01-6dpf_BLNGR_run-01_all_BR_MR_raw.npy',\n",
       "       'BLNDEV-WILDTYPE-06_2photon_sess-01-6dpf_BLNGR_run-01_all_BR_MR_raw.npy',\n",
       "       'BLNDEV-WILDTYPE-01_2photon_sess-01-7dpf_BLNGR_run-01_all_BR_MR_raw.npy',\n",
       "       'BLNDEV-WILDTYPE-04_2photon_sess-01-7dpf_BLNGR_run-01_all_BR_MR_raw.npy',\n",
       "       'BLNDEV-WILDTYPE-05_2photon_sess-01-7dpf_BLNGR_run-01_all_BR_MR_raw.npy',\n",
       "       'BLNDEV-WILDTYPE-07_2photon_sess-01-7dpf_BLNGR_run-01_all_BR_MR_raw.npy',\n",
       "       'BLNDEV-WILDTYPE-01_2photon_sess-01-8dpf_BLNGR_run-01_all_BR_MR_raw.npy',\n",
       "       'BLNDEV-WILDTYPE-04_2photon_sess-01-8dpf_BLNGR_run-01_all_BR_MR_raw.npy',\n",
       "       'BLNDEV-WILDTYPE-05_2photon_sess-01-8dpf_BLNGR_run-01_all_BR_MR_raw.npy',\n",
       "       'BLNDEV-WILDTYPE-06_2photon_sess-01-8dpf_BLNGR_run-01_all_BR_MR_raw.npy',\n",
       "       'BLNDEV-WILDTYPE-08_2photon_sess-01-8dpf_BLNGR_run-01_all_BR_MR_raw.npy'],\n",
       "      dtype='<U70')"
      ]
     },
     "execution_count": 215,
     "metadata": {},
     "output_type": "execute_result"
    }
   ],
   "source": [
    "# Create lists of coord data\n",
    "#---------------------------------------------------------------------------\n",
    "\n",
    "d3 = adfn.return_files(Fdata, 'BLNDEV-WILDTYPE', '*3dpf*all*BR*raw*')\n",
    "d4 = adfn.return_files(Fdata, 'BLNDEV-WILDTYPE', '*4dpf*all*BR*raw*')\n",
    "d5 = adfn.return_files(Fdata, 'BLNDEV-WILDTYPE', '*5dpf*all*BR*raw*')\n",
    "d6 = adfn.return_files(Fdata, 'BLNDEV-WILDTYPE', '*6dpf*all*BR*raw*')\n",
    "d7 = adfn.return_files(Fdata, 'BLNDEV-WILDTYPE', '*7dpf*all*BR*raw*')\n",
    "d8 = adfn.return_files(Fdata, 'BLNDEV-WILDTYPE', '*8dpf*all*BR*raw*')\n",
    "data_ll = np.hstack((d3, d4, d5, d6, d7, d8))\n",
    "data_ll"
   ]
  },
  {
   "cell_type": "code",
   "execution_count": 184,
   "metadata": {},
   "outputs": [],
   "source": [
    "br_l = np.zeros(len(data_ll))\n",
    "for i in range(len(data_ll)):\n",
    "    br_l[i] = np.load(data_ll[i])\n",
    "\n",
    "\n",
    "len_list = []\n",
    "seq_l = d3, d4, d5, d6, d7, d8\n",
    "for i in range(len(seq_l)):\n",
    "    count = 0\n",
    "    for e in range(len(seq_l[i])):\n",
    "        count+=1\n",
    "\n",
    "    len_list = np.append(len_list, count)\n",
    "cond = np.arange(3, 9)\n",
    "cond_l = []\n",
    "for i in range(len(len_list)):\n",
    "    for e in range(int(len_list[i])):\n",
    "        cond_l = np.append(cond_l, cond[i])\n",
    "        \n",
    "df = pd.DataFrame({'br':br_l , \"condition\": cond_l})"
   ]
  },
  {
   "cell_type": "code",
   "execution_count": 191,
   "metadata": {},
   "outputs": [
    {
     "data": {
      "image/png": "[encoded data removed]",
      "text/plain": [
       "<Figure size 432x360 with 1 Axes>"
      ]
     },
     "metadata": {},
     "output_type": "display_data"
    }
   ],
   "source": [
    "from matplotlib import pyplot as plt\n",
    "import seaborn as sns\n",
    "from matplotlib.collections import PathCollection\n",
    "from matplotlib import cm\n",
    "sns.set(style=\"white\")\n",
    "    \n",
    "data_name = 'br'\n",
    "dic = df\n",
    "\n",
    "fig, ax = plt.subplots(figsize = (6,5))\n",
    "ax = sns.pointplot(x=\"condition\", y=data_name, data = dic, join=True, ci=0, scale=1, markers = '_')\n",
    "for artist in ax.lines:\n",
    "    artist.set_zorder(10)\n",
    "for artist in ax.findobj(PathCollection):\n",
    "    artist.set_zorder(11)\n",
    "ax = sns.stripplot(x=\"condition\", y=data_name, data = dic,size = 10, jitter = True ,alpha = 1)\n",
    "\n",
    "plt.hlines(1, 0,5, linestyles='--')\n",
    "plt.yticks(size = 20)\n",
    "plt.ylim(0.9,1.05)\n",
    "points = ax.collections\n",
    "ax.spines['top'].set_visible(False)\n",
    "ax.spines['right'].set_visible(False)\n",
    "plt.show()\n"
   ]
  },
  {
   "cell_type": "code",
   "execution_count": 192,
   "metadata": {},
   "outputs": [
    {
     "data": {
      "text/plain": [
       "SpearmanrResult(correlation=-0.03113676722035928, pvalue=0.8702540573170693)"
      ]
     },
     "execution_count": 192,
     "metadata": {},
     "output_type": "execute_result"
    }
   ],
   "source": [
    "from scipy import stats\n",
    "stats.spearmanr(dic['br'], dic['condition'])"
   ]
  },
  {
   "cell_type": "code",
   "execution_count": 219,
   "metadata": {},
   "outputs": [],
   "source": [
    "# Create lists of coord data\n",
    "#---------------------------------------------------------------------------\n",
    "\n",
    "d3 = adfn.return_files(Fdata, 'BLNDEV-WILDTYPE', '*3dpf*n_BR*raw*')\n",
    "d4 = adfn.return_files(Fdata, 'BLNDEV-WILDTYPE', '*4dpf*n_BR*raw*')\n",
    "d5 = adfn.return_files(Fdata, 'BLNDEV-WILDTYPE', '*5dpf**n_BR*raw*')\n",
    "d6 = adfn.return_files(Fdata, 'BLNDEV-WILDTYPE', '*6dpf*n_BR*raw*')\n",
    "d7 = adfn.return_files(Fdata, 'BLNDEV-WILDTYPE', '*7dpf*n_BR*raw*')\n",
    "d8 = adfn.return_files(Fdata, 'BLNDEV-WILDTYPE', '*8dpf*n_BR*raw*')\n",
    "data_ll = np.hstack((d3, d4, d5, d6, d7, d8))\n"
   ]
  },
  {
   "cell_type": "code",
   "execution_count": 221,
   "metadata": {},
   "outputs": [],
   "source": [
    "br_l = np.zeros(len(data_ll))\n",
    "for i in range(len(data_ll)):\n",
    "    br_l[i] = np.load(data_ll[i])\n",
    "\n",
    "\n",
    "len_list = []\n",
    "seq_l = d3, d4, d5, d6, d7, d8\n",
    "for i in range(len(seq_l)):\n",
    "    count = 0\n",
    "    for e in range(len(seq_l[i])):\n",
    "        count+=1\n",
    "\n",
    "    len_list = np.append(len_list, count)\n",
    "cond = np.arange(3, 9)\n",
    "cond_l = []\n",
    "for i in range(len(len_list)):\n",
    "    for e in range(int(len_list[i])):\n",
    "        cond_l = np.append(cond_l, cond[i])\n",
    "        \n",
    "reg_data = np.ravel(adfn.repeat_list(reg_list, 30))\n",
    "        \n",
    "df = pd.DataFrame({'br':br_l , \"condition\": cond_l, \"region\": reg_data})"
   ]
  },
  {
   "cell_type": "code",
   "execution_count": 229,
   "metadata": {},
   "outputs": [
    {
     "data": {
      "image/png": "[encoded data removed]",
      "text/plain": [
       "<Figure size 432x360 with 1 Axes>"
      ]
     },
     "metadata": {},
     "output_type": "display_data"
    }
   ],
   "source": [
    "data_name = 'br'\n",
    "dic = df\n",
    "\n",
    "fig, ax = plt.subplots(figsize = (6,5))\n",
    "ax = sns.pointplot(x=\"condition\", y=data_name, hue = 'region', data = dic, join=True, ci=0, scale=1, markers = '_')\n",
    "\n",
    "plt.yticks(size = 20)\n",
    "points = ax.collections\n",
    "ax.spines['top'].set_visible(False)\n",
    "ax.spines['right'].set_visible(False)\n",
    "plt.hlines(1, 0,5, linestyles='--')\n",
    "plt.ylim(0.95, 1.01)\n",
    "plt.show()"
   ]
  }
 ],
 "metadata": {
  "kernelspec": {
   "display_name": "Python 3",
   "language": "python",
   "name": "python3"
  },
  "language_info": {
   "codemirror_mode": {
    "name": "ipython",
    "version": 3
   },
   "file_extension": ".py",
   "mimetype": "text/x-python",
   "name": "python",
   "nbconvert_exporter": "python",
   "pygments_lexer": "ipython3",
   "version": "3.7.4"
  }
 },
 "nbformat": 4,
 "nbformat_minor": 4
}
