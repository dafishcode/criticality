{
 "cells": [
  {
   "cell_type": "code",
   "execution_count": 1,
   "metadata": {},
   "outputs": [],
   "source": [
    "import sys\n",
    "import seaborn as sns\n",
    "import os\n",
    "import glob\n",
    "import pandas as pd\n",
    "from matplotlib import pyplot as plt\n",
    "import numpy as np\n",
    "import avalanches as crfn\n",
    "import admin_functions as adfn\n",
    "import plot as pltfn\n",
    "from kuramoto1 import Kuramoto\n",
    "from scipy import stats \n",
    "import IS as isfn\n",
    "\n",
    "sns.reset_orig()\n",
    "#plt.style.use('dark_background')\n",
    "\n",
    "%load_ext autoreload\n",
    "%autoreload\n",
    "\n",
    "# Define paths\n",
    "#---------------------------------------------------------------------------\n",
    "Fdrop = '/Users/dominicburrows/Dropbox/PhD/analysis/'\n",
    "Fmac = '/Users/dominicburrows/Documents/'\n",
    "F10t = '/Volumes/Dominic 10tb/'\n",
    "Ffig = '/Users/dominicburrows/Dropbox/PhD/figures/'\n",
    "Ftm = '/Volumes/Dominic Time Machine/'"
   ]
  },
  {
   "cell_type": "code",
   "execution_count": 6,
   "metadata": {},
   "outputs": [
    {
     "data": {
      "text/plain": [
       "(['PTZ-WILDTYPE-02_2photon_sess-01-6dpf_BLN_run-01-DCC.npy',\n",
       "  'PTZ-WILDTYPE-03_2photon_sess-01-6dpf_BLN_run-01-DCC.npy',\n",
       "  'PTZ-WILDTYPE-04_2photon_sess-01-6dpf_BLN_run-01-DCC.npy',\n",
       "  'PTZ-WILDTYPE-05_2photon_sess-01-6dpf_BLN_run-01-DCC.npy',\n",
       "  'PTZ-WILDTYPE-06_2photon_sess-01-6dpf_BLN_run-01-DCC.npy',\n",
       "  'PTZ-WILDTYPE-07_2photon_sess-01-6dpf_BLN_run-01-DCC.npy',\n",
       "  'PTZ-WILDTYPE-08_2photon_sess-01-6dpf_BLN_run-01-DCC.npy',\n",
       "  'PTZ-WILDTYPE-09_2photon_sess-01-6dpf_BLN_run-01-DCC.npy',\n",
       "  'PTZ-WILDTYPE-10_2photon_sess-01-6dpf_BLN_run-01-DCC.npy',\n",
       "  'PTZ-WILDTYPE-11_2photon_sess-01-6dpf_BLN_run-01-DCC.npy',\n",
       "  'PTZ-WILDTYPE-12_2photon_sess-01-6dpf_BLN_run-09-DCC.npy'],\n",
       " ['PTZ-WILDTYPE-02_2photon_sess-01-6dpf_PTZ05_run-01-DCC.npy',\n",
       "  'PTZ-WILDTYPE-03_2photon_sess-01-6dpf_PTZ05_run-01-DCC.npy',\n",
       "  'PTZ-WILDTYPE-04_2photon_sess-01-6dpf_PTZ05_run-01-DCC.npy',\n",
       "  'PTZ-WILDTYPE-05_2photon_sess-01-6dpf_PTZ05_run-01-DCC.npy',\n",
       "  'PTZ-WILDTYPE-06_2photon_sess-01-6dpf_PTZ05_run-01-DCC.npy',\n",
       "  'PTZ-WILDTYPE-07_2photon_sess-01-6dpf_PTZ05_run-01-DCC.npy',\n",
       "  'PTZ-WILDTYPE-08_2photon_sess-01-6dpf_PTZ05_run-01-DCC.npy',\n",
       "  'PTZ-WILDTYPE-09_2photon_sess-01-6dpf_PTZ05_run-01-DCC.npy',\n",
       "  'PTZ-WILDTYPE-10_2photon_sess-01-6dpf_PTZ05_run-01-DCC.npy',\n",
       "  'PTZ-WILDTYPE-11_2photon_sess-01-6dpf_PTZ05_run-01-DCC.npy',\n",
       "  'PTZ-WILDTYPE-12_2photon_sess-01-6dpf_PTZ05_run-01-DCC.npy'],\n",
       " ['PTZ-WILDTYPE-02_2photon_sess-01-6dpf_PTZ20_run-01-DCC.npy',\n",
       "  'PTZ-WILDTYPE-03_2photon_sess-01-6dpf_PTZ20_run-01-DCC.npy',\n",
       "  'PTZ-WILDTYPE-04_2photon_sess-01-6dpf_PTZ20_run-01-DCC.npy',\n",
       "  'PTZ-WILDTYPE-05_2photon_sess-01-6dpf_PTZ20_run-01-DCC.npy',\n",
       "  'PTZ-WILDTYPE-06_2photon_sess-01-6dpf_PTZ20_run-01-DCC.npy',\n",
       "  'PTZ-WILDTYPE-07_2photon_sess-01-6dpf_PTZ20_run-01-DCC.npy',\n",
       "  'PTZ-WILDTYPE-08_2photon_sess-01-6dpf_PTZ20_run-01-DCC.npy',\n",
       "  'PTZ-WILDTYPE-09_2photon_sess-01-6dpf_PTZ20_run-01-DCC.npy',\n",
       "  'PTZ-WILDTYPE-10_2photon_sess-01-6dpf_PTZ20_run-01-DCC.npy',\n",
       "  'PTZ-WILDTYPE-11_2photon_sess-01-6dpf_PTZ20_run-01-DCC.npy',\n",
       "  'PTZ-WILDTYPE-12_2photon_sess-01-6dpf_PTZ20_run-01-DCC.npy'])"
      ]
     },
     "execution_count": 6,
     "metadata": {},
     "output_type": "execute_result"
    }
   ],
   "source": [
    "# Choose path and create lists of coord and trace files\n",
    "#---------------------------------------------------------------------------\n",
    "experiment = 'PTZ-WILDTYPE'\n",
    "os.chdir(Fdrop + 'Project/' + experiment)\n",
    "bln_list = sorted(glob.glob('*BLN*DCC*'))\n",
    "p5_list = sorted(glob.glob('*PTZ05*DCC*'))\n",
    "p20_list = sorted(glob.glob('*PTZ20*DCC*'))\n",
    "listlist = bln_list, p5_list, p20_list\n",
    "listlist"
   ]
  },
  {
   "cell_type": "markdown",
   "metadata": {},
   "source": [
    "# Baseline - PTZ avalanches"
   ]
  },
  {
   "cell_type": "code",
   "execution_count": 3,
   "metadata": {},
   "outputs": [
    {
     "data": {
      "text/plain": [
       "(['PTZ-WILDTYPE-02_2photon_sess-01-6dpf_BLN_run-01_av.npy',\n",
       "  'PTZ-WILDTYPE-03_2photon_sess-01-6dpf_BLN_run-01_av.npy',\n",
       "  'PTZ-WILDTYPE-04_2photon_sess-01-6dpf_BLN_run-01_av.npy',\n",
       "  'PTZ-WILDTYPE-05_2photon_sess-01-6dpf_BLN_run-01_av.npy',\n",
       "  'PTZ-WILDTYPE-06_2photon_sess-01-6dpf_BLN_run-01_av.npy',\n",
       "  'PTZ-WILDTYPE-07_2photon_sess-01-6dpf_BLN_run-01_av.npy',\n",
       "  'PTZ-WILDTYPE-08_2photon_sess-01-6dpf_BLN_run-01_av.npy',\n",
       "  'PTZ-WILDTYPE-09_2photon_sess-01-6dpf_BLN_run-01_av.npy',\n",
       "  'PTZ-WILDTYPE-10_2photon_sess-01-6dpf_BLN_run-01_av.npy',\n",
       "  'PTZ-WILDTYPE-11_2photon_sess-01-6dpf_BLN_run-01_av.npy',\n",
       "  'PTZ-WILDTYPE-12_2photon_sess-01-6dpf_BLN_run-09_av.npy'],\n",
       " ['PTZ-WILDTYPE-02_2photon_sess-01-6dpf_PTZ05_run-01_av.npy',\n",
       "  'PTZ-WILDTYPE-03_2photon_sess-01-6dpf_PTZ05_run-01_av.npy',\n",
       "  'PTZ-WILDTYPE-04_2photon_sess-01-6dpf_PTZ05_run-01_av.npy',\n",
       "  'PTZ-WILDTYPE-05_2photon_sess-01-6dpf_PTZ05_run-01_av.npy',\n",
       "  'PTZ-WILDTYPE-06_2photon_sess-01-6dpf_PTZ05_run-01_av.npy',\n",
       "  'PTZ-WILDTYPE-07_2photon_sess-01-6dpf_PTZ05_run-01_av.npy',\n",
       "  'PTZ-WILDTYPE-08_2photon_sess-01-6dpf_PTZ05_run-01_av.npy',\n",
       "  'PTZ-WILDTYPE-09_2photon_sess-01-6dpf_PTZ05_run-01_av.npy',\n",
       "  'PTZ-WILDTYPE-10_2photon_sess-01-6dpf_PTZ05_run-01_av.npy',\n",
       "  'PTZ-WILDTYPE-11_2photon_sess-01-6dpf_PTZ05_run-01_av.npy',\n",
       "  'PTZ-WILDTYPE-12_2photon_sess-01-6dpf_PTZ05_run-01_av.npy'],\n",
       " ['PTZ-WILDTYPE-02_2photon_sess-01-6dpf_PTZ20_run-01_av.npy',\n",
       "  'PTZ-WILDTYPE-03_2photon_sess-01-6dpf_PTZ20_run-01_av.npy',\n",
       "  'PTZ-WILDTYPE-04_2photon_sess-01-6dpf_PTZ20_run-01_av.npy',\n",
       "  'PTZ-WILDTYPE-05_2photon_sess-01-6dpf_PTZ20_run-01_av.npy',\n",
       "  'PTZ-WILDTYPE-06_2photon_sess-01-6dpf_PTZ20_run-01_av.npy',\n",
       "  'PTZ-WILDTYPE-07_2photon_sess-01-6dpf_PTZ20_run-01_av.npy',\n",
       "  'PTZ-WILDTYPE-08_2photon_sess-01-6dpf_PTZ20_run-01_av.npy',\n",
       "  'PTZ-WILDTYPE-09_2photon_sess-01-6dpf_PTZ20_run-01_av.npy',\n",
       "  'PTZ-WILDTYPE-10_2photon_sess-01-6dpf_PTZ20_run-01_av.npy',\n",
       "  'PTZ-WILDTYPE-11_2photon_sess-01-6dpf_PTZ20_run-01_av.npy',\n",
       "  'PTZ-WILDTYPE-12_2photon_sess-01-6dpf_PTZ20_run-01_av.npy'])"
      ]
     },
     "execution_count": 3,
     "metadata": {},
     "output_type": "execute_result"
    }
   ],
   "source": [
    "# Choose path and create lists of coord and trace files\n",
    "#---------------------------------------------------------------------------\n",
    "experiment = 'PTZ-WILDTYPE'\n",
    "os.chdir(Fdrop + 'Project/' + experiment)\n",
    "blnlist = sorted(glob.glob('*BLN*_av.npy*'))\n",
    "p5list = sorted(glob.glob('*PTZ05*_av.npy*'))\n",
    "p20list = sorted(glob.glob('*PTZ20*_av.npy*'))\n",
    "blnlist, p5list, p20list"
   ]
  },
  {
   "cell_type": "code",
   "execution_count": 57,
   "metadata": {},
   "outputs": [
    {
     "data": {
      "image/png": "[encoded data removed]",
      "text/plain": [
       "<Figure size 700x500 with 1 Axes>"
      ]
     },
     "metadata": {},
     "output_type": "display_data"
    }
   ],
   "source": [
    "# Choose path and create lists of coord and trace files\n",
    "colors = ['indigo', '#ff7f0e', '#2ca02c', '#d62728', '#9467bd', '#8c564b', '#e377c2', '#7f7f7f', 'orangered', '#17becf', '#1f77b4']\n",
    "\n",
    "choose = 0\n",
    "\n",
    "bln_distlist = [np.load(blnlist[i])[choose] for i in range(len(blnlist))]\n",
    "p5_distlist = [np.load(p5list[i])[choose] for i in range(len(p5list))]\n",
    "p20_distlist = [np.load(p20list[i])[choose] for i in range(len(p20list))]\n",
    "bln_vec = []\n",
    "p5_vec = []\n",
    "p20_vec = []\n",
    "for i in range(len(bln_distlist)):\n",
    "    bln_vec = np.append(bln_vec, bln_distlist[i])\n",
    "    p5_vec = np.append(p5_vec, p5_distlist[i])\n",
    "    p20_vec = np.append(p20_vec, p20_distlist[i])\n",
    "    \n",
    "import matplotlib\n",
    "import powerlaw\n",
    "fig, axarr = plt.subplots(figsize = (7,5))\n",
    "sns.reset_orig()\n",
    "avdistcut = bln_vec\n",
    "powerlaw.plot_ccdf(avdistcut[np.where(avdistcut < 50000)[0]], linestyle = '-',linewidth =4 , markersize = 1, alpha = 0.7, c =  'k')\n",
    "avdistcut = p5_vec\n",
    "powerlaw.plot_ccdf(avdistcut[np.where(avdistcut < 50000)[0]], linestyle = '--',linewidth =4 , markersize = 1, alpha = 1, c =  '#ff7f0e')\n",
    "avdistcut = p20_vec\n",
    "powerlaw.plot_ccdf(avdistcut[np.where(avdistcut < 50000)[0]], linestyle = '--',linewidth =4 , markersize = 1, alpha = 1, c = '#d62728')\n",
    "\n",
    "axarr.set_xscale('log')\n",
    "axarr.set_yscale('log')\n",
    "axarr.get_xaxis().set_major_formatter(matplotlib.ticker.ScalarFormatter())\n",
    "#plt.xlim(right = 10000)  \n",
    "#plt.ylim(bottom = 0.000005)  \n",
    "axarr.set_ylabel('P(size)', size = '13')\n",
    "axarr.set_xlabel('avalanche size (#cells)', size = '13')\n",
    "axarr.spines['top'].set_visible(False)\n",
    "axarr.spines['right'].set_visible(False)\n",
    "plt.savefig('av_size_ptz.svg', transparent = True)\n",
    "\n",
    "plt.show()\n"
   ]
  },
  {
   "cell_type": "code",
   "execution_count": 56,
   "metadata": {},
   "outputs": [
    {
     "data": {
      "image/png": "[encoded data removed]",
      "text/plain": [
       "<Figure size 700x500 with 1 Axes>"
      ]
     },
     "metadata": {},
     "output_type": "display_data"
    }
   ],
   "source": [
    "# Choose path and create lists of coord and trace files\n",
    "colors = ['indigo', '#ff7f0e', '#2ca02c', '#d62728', '#9467bd', '#8c564b', '#e377c2', '#7f7f7f', 'orangered', '#17becf', '#1f77b4']\n",
    "\n",
    "choose = 1\n",
    "\n",
    "bln_distlist = [np.load(blnlist[i])[choose] for i in range(len(blnlist))]\n",
    "p5_distlist = [np.load(p5list[i])[choose] for i in range(len(p5list))]\n",
    "p20_distlist = [np.load(p20list[i])[choose] for i in range(len(p20list))]\n",
    "bln_vec = []\n",
    "p5_vec = []\n",
    "p20_vec = []\n",
    "for i in range(len(bln_distlist)):\n",
    "    bln_vec = np.append(bln_vec, bln_distlist[i])\n",
    "    p5_vec = np.append(p5_vec, p5_distlist[i])\n",
    "    p20_vec = np.append(p20_vec, p20_distlist[i])\n",
    "    \n",
    "import matplotlib\n",
    "import powerlaw\n",
    "fig, axarr = plt.subplots(figsize = (7,5))\n",
    "sns.reset_orig()\n",
    "avdistcut = bln_vec\n",
    "powerlaw.plot_ccdf(avdistcut[np.where(avdistcut < 1000)[0]], linestyle = '-',linewidth =4 , markersize = 1, alpha = 0.7, c =  'k')\n",
    "avdistcut = p5_vec\n",
    "powerlaw.plot_ccdf(avdistcut[np.where(avdistcut < 1000)[0]], linestyle = '--',linewidth =4 , markersize = 1, alpha = 1, c =  '#ff7f0e')\n",
    "avdistcut = p20_vec\n",
    "powerlaw.plot_ccdf(avdistcut[np.where(avdistcut < 1000)[0]], linestyle = '--',linewidth =4 , markersize = 1, alpha = 1, c = '#d62728')\n",
    "\n",
    "axarr.set_xscale('log')\n",
    "axarr.set_yscale('log')\n",
    "axarr.get_xaxis().set_major_formatter(matplotlib.ticker.ScalarFormatter())\n",
    "#plt.xlim(right = 10000)  \n",
    "#plt.ylim(bottom = 0.000005)  \n",
    "axarr.set_ylabel('P(dur)', size = '13')\n",
    "axarr.set_xlabel('avalanche dur (frames)', size = '13')\n",
    "axarr.spines['top'].set_visible(False)\n",
    "axarr.spines['right'].set_visible(False)\n",
    "plt.savefig('av_dur_ptz.svg', transparent = True)\n",
    "plt.show()\n"
   ]
  },
  {
   "cell_type": "code",
   "execution_count": null,
   "metadata": {},
   "outputs": [],
   "source": []
  },
  {
   "cell_type": "code",
   "execution_count": null,
   "metadata": {},
   "outputs": [],
   "source": []
  },
  {
   "cell_type": "markdown",
   "metadata": {},
   "source": [
    "### Exponent"
   ]
  },
  {
   "cell_type": "code",
   "execution_count": 58,
   "metadata": {},
   "outputs": [
    {
     "data": {
      "text/plain": [
       "['PTZ-WILDTYPE-02_2photon_sess-01-6dpf_PTZ05_run-01_av.npy',\n",
       " 'PTZ-WILDTYPE-03_2photon_sess-01-6dpf_PTZ05_run-01_av.npy',\n",
       " 'PTZ-WILDTYPE-04_2photon_sess-01-6dpf_PTZ05_run-01_av.npy',\n",
       " 'PTZ-WILDTYPE-05_2photon_sess-01-6dpf_PTZ05_run-01_av.npy',\n",
       " 'PTZ-WILDTYPE-06_2photon_sess-01-6dpf_PTZ05_run-01_av.npy',\n",
       " 'PTZ-WILDTYPE-07_2photon_sess-01-6dpf_PTZ05_run-01_av.npy',\n",
       " 'PTZ-WILDTYPE-08_2photon_sess-01-6dpf_PTZ05_run-01_av.npy',\n",
       " 'PTZ-WILDTYPE-09_2photon_sess-01-6dpf_PTZ05_run-01_av.npy',\n",
       " 'PTZ-WILDTYPE-10_2photon_sess-01-6dpf_PTZ05_run-01_av.npy',\n",
       " 'PTZ-WILDTYPE-11_2photon_sess-01-6dpf_PTZ05_run-01_av.npy',\n",
       " 'PTZ-WILDTYPE-12_2photon_sess-01-6dpf_PTZ05_run-01_av.npy']"
      ]
     },
     "execution_count": 58,
     "metadata": {},
     "output_type": "execute_result"
    }
   ],
   "source": [
    "# Choose path and create lists of coord and trace files\n",
    "#---------------------------------------------------------------------------\n",
    "experiment = 'PTZ-WILDTYPE'\n",
    "os.chdir(Fdrop + 'Project/' + experiment)\n",
    "sblnlist = sorted(glob.glob('*BLN*size*marglik_power.npy*'))\n",
    "sp5list = sorted(glob.glob('*PTZ05*size*marglik_power.npy*'))\n",
    "sp20list = sorted(glob.glob('*PTZ20*size*marglik_power.npy*'))\n",
    "dblnlist = sorted(glob.glob('*BLN*dur*marglik_power.npy*'))\n",
    "dp5list = sorted(glob.glob('*PTZ05*dur*marglik_power.npy*'))\n",
    "dp20list = sorted(glob.glob('*PTZ20*dur*marglik_power.npy*'))\n",
    "blnavlist = sorted(glob.glob('*BLN*_av.npy*'))\n",
    "p5avlist = sorted(glob.glob('*PTZ05*_av.npy*'))\n",
    "p20avlist = sorted(glob.glob('*PTZ20*_av.npy*'))\n",
    "p5avlist"
   ]
  },
  {
   "cell_type": "code",
   "execution_count": 91,
   "metadata": {},
   "outputs": [],
   "source": [
    "#SIZE - KS\n",
    "exp = np.zeros((33))\n",
    "avlist = [sblnlist, sp5list,sp20list]\n",
    "fli = list(range(11))\n",
    "flist=[]\n",
    "for i in range(11):\n",
    "    fli[i] = 'F' + str(i+2)\n",
    "for e in range(3):\n",
    "    flist = np.append(flist, fli)\n",
    "\n",
    "sizexdf = {}\n",
    "count=0\n",
    "for i in range(len(avlist)):\n",
    "    for y in range(11):\n",
    "        exp[count] = np.load(avlist[i][y] ,allow_pickle=True)[0]\n",
    "        count+=1\n",
    "sizexdf = pd.DataFrame({\"Exponent\":exp , \"Labels\":  np.append(adfn.repeat_list('Baseline',11),np.append(adfn.repeat_list('PTZ 5mM',11),adfn.repeat_list('PTZ 20mM',11))), \"Fish\":flist})"
   ]
  },
  {
   "cell_type": "code",
   "execution_count": 92,
   "metadata": {},
   "outputs": [
    {
     "data": {
      "image/png": "[encoded data removed]",
      "text/plain": [
       "<Figure size 600x400 with 1 Axes>"
      ]
     },
     "metadata": {},
     "output_type": "display_data"
    }
   ],
   "source": [
    "from matplotlib.collections import PathCollection\n",
    "sns.set(style=\"white\")\n",
    "colors1 = ['indigo', '#ff7f0e', '#2ca02c', '#d62728', '#9467bd', '#8c564b', '#e377c2', '#7f7f7f', 'orangered', '#17becf', '#1f77b4']\n",
    "colors2 = ['k','#ff7f0e','#d62728']\n",
    "fig, ax = plt.subplots(figsize = (6,4))\n",
    "ax = sns.pointplot(x=\"Labels\", y=\"Exponent\", data = sizexdf, hue = 'Labels', palette = colors2, join=True, ci=0, scale=3, markers = '_')\n",
    "for artist in ax.lines:\n",
    "    artist.set_zorder(10)\n",
    "for artist in ax.findobj(PathCollection):\n",
    "    artist.set_zorder(11)\n",
    "ax = sns.pointplot(x=\"Labels\", y=\"Exponent\", data=sizexdf, color = 'grey', linestyles = [\"--\"], ci = 0, scale=0.6)\n",
    "ax = sns.stripplot(x=\"Labels\", y=\"Exponent\", data=sizexdf, hue = 'Fish', palette = colors1, size = 8, jitter = True ,alpha = 1)\n",
    "\n",
    "points = ax.collections\n",
    "ax.spines['top'].set_visible(False)\n",
    "ax.spines['right'].set_visible(False)\n",
    "ax.set_xlabel(' ', size = '13')\n",
    "ax.set_ylabel('α', size = '15')\n",
    "ax.set_xticklabels(['Baseline', 'inter-ictal', 'ictal'], size = 15)\n",
    "ax.legend_.remove()\n",
    "plt.savefig('exp_size_ptz.svg', transparent = True)\n",
    "plt.show()\n",
    "\n"
   ]
  },
  {
   "cell_type": "code",
   "execution_count": 66,
   "metadata": {},
   "outputs": [
    {
     "data": {
      "text/plain": [
       "[[3.68500472273514,\n",
       "  0.0042114298225682315,\n",
       "  0.025,\n",
       "  'Significant',\n",
       "  'Baseline - PTZ 5mM'],\n",
       " [4.123062276890488,\n",
       "  0.0020669577179286266,\n",
       "  0.025,\n",
       "  'Significant',\n",
       "  'Baseline - PTZ 20mM']]"
      ]
     },
     "execution_count": 66,
     "metadata": {},
     "output_type": "execute_result"
    }
   ],
   "source": [
    "adfn.ttest(sizexdf, 'Labels', 'Exponent', ['Baseline', 'PTZ 5mM', 'PTZ 20mM'], mode='single')"
   ]
  },
  {
   "cell_type": "code",
   "execution_count": 89,
   "metadata": {},
   "outputs": [],
   "source": [
    "#DUR - KS\n",
    "exp = np.zeros((33))\n",
    "avlist = [dblnlist, dp5list,dp20list]\n",
    "fli = list(range(11))\n",
    "flist=[]\n",
    "for i in range(11):\n",
    "    fli[i] = 'F' + str(i+2)\n",
    "for e in range(3):\n",
    "    flist = np.append(flist, fli)\n",
    "\n",
    "durexdf = {}\n",
    "count=0\n",
    "for i in range(len(avlist)):\n",
    "    for y in range(11):\n",
    "        exp[count] = np.load(avlist[i][y] ,allow_pickle=True)[0]\n",
    "        count+=1\n",
    "durexdf = pd.DataFrame({\"Exponent\":exp , \"Labels\":  np.append(adfn.repeat_list('Baseline',11),np.append(adfn.repeat_list('PTZ 5mM',11),adfn.repeat_list('PTZ 20mM',11))), \"Fish\":flist})"
   ]
  },
  {
   "cell_type": "code",
   "execution_count": 90,
   "metadata": {},
   "outputs": [
    {
     "data": {
      "image/png": "[encoded data removed]",
      "text/plain": [
       "<Figure size 600x400 with 1 Axes>"
      ]
     },
     "metadata": {},
     "output_type": "display_data"
    }
   ],
   "source": [
    "\n",
    "\n",
    "from matplotlib.collections import PathCollection\n",
    "sns.set(style=\"white\")\n",
    "colors1 = ['indigo', '#ff7f0e', '#2ca02c', '#d62728', '#9467bd', '#8c564b', '#e377c2', '#7f7f7f', 'orangered', '#17becf', '#1f77b4']\n",
    "colors2 = ['k','#ff7f0e','#d62728']\n",
    "fig, ax = plt.subplots(figsize = (6,4))\n",
    "ax = sns.pointplot(x=\"Labels\", y=\"Exponent\", data = durexdf, hue = 'Labels', palette = colors2, join=True, ci=0, scale=3, markers = '_')\n",
    "for artist in ax.lines:\n",
    "    artist.set_zorder(10)\n",
    "for artist in ax.findobj(PathCollection):\n",
    "    artist.set_zorder(11)\n",
    "ax = sns.pointplot(x=\"Labels\", y=\"Exponent\", data=durexdf, color = 'grey', linestyles = [\"--\"], ci = 0, scale=0.6)\n",
    "ax = sns.stripplot(x=\"Labels\", y=\"Exponent\", data=durexdf, hue = 'Fish', palette = colors1, size = 8, jitter = True ,alpha = 1)\n",
    "\n",
    "points = ax.collections\n",
    "ax.spines['top'].set_visible(False)\n",
    "ax.spines['right'].set_visible(False)\n",
    "ax.set_xlabel(' ', size = '13')\n",
    "ax.set_ylabel('α', size = '15')\n",
    "ax.set_xticklabels(['Baseline', 'inter-ictal', 'ictal'], size = 15)\n",
    "ax.legend_.remove()\n",
    "plt.savefig('exp_dur_ptz.svg', transparent = True)\n",
    "plt.show()\n",
    "\n"
   ]
  },
  {
   "cell_type": "code",
   "execution_count": 80,
   "metadata": {},
   "outputs": [
    {
     "data": {
      "text/plain": [
       "[[2.570670744282152,\n",
       "  0.027858595637647636,\n",
       "  0.025,\n",
       "  'Not significant',\n",
       "  'Baseline - PTZ 5mM'],\n",
       " [3.881153590584479,\n",
       "  0.003053193950017093,\n",
       "  0.025,\n",
       "  'Significant',\n",
       "  'Baseline - PTZ 20mM']]"
      ]
     },
     "execution_count": 80,
     "metadata": {},
     "output_type": "execute_result"
    }
   ],
   "source": [
    "adfn.ttest(durexdf, 'Labels', 'Exponent', ['Baseline', 'PTZ 5mM', 'PTZ 20mM'], mode='single')"
   ]
  },
  {
   "cell_type": "markdown",
   "metadata": {},
   "source": [
    "# DCC"
   ]
  },
  {
   "cell_type": "code",
   "execution_count": 2,
   "metadata": {},
   "outputs": [
    {
     "data": {
      "text/plain": [
       "['PTZ-WILDTYPE-02_2photon_sess-01-6dpf_BLN_run-01-DCC.npy',\n",
       " 'PTZ-WILDTYPE-03_2photon_sess-01-6dpf_BLN_run-01-DCC.npy',\n",
       " 'PTZ-WILDTYPE-04_2photon_sess-01-6dpf_BLN_run-01-DCC.npy',\n",
       " 'PTZ-WILDTYPE-05_2photon_sess-01-6dpf_BLN_run-01-DCC.npy',\n",
       " 'PTZ-WILDTYPE-06_2photon_sess-01-6dpf_BLN_run-01-DCC.npy',\n",
       " 'PTZ-WILDTYPE-07_2photon_sess-01-6dpf_BLN_run-01-DCC.npy',\n",
       " 'PTZ-WILDTYPE-08_2photon_sess-01-6dpf_BLN_run-01-DCC.npy',\n",
       " 'PTZ-WILDTYPE-09_2photon_sess-01-6dpf_BLN_run-01-DCC.npy',\n",
       " 'PTZ-WILDTYPE-10_2photon_sess-01-6dpf_BLN_run-01-DCC.npy',\n",
       " 'PTZ-WILDTYPE-11_2photon_sess-01-6dpf_BLN_run-01-DCC.npy',\n",
       " 'PTZ-WILDTYPE-12_2photon_sess-01-6dpf_BLN_run-09-DCC.npy']"
      ]
     },
     "execution_count": 2,
     "metadata": {},
     "output_type": "execute_result"
    }
   ],
   "source": [
    "# Create datalists\n",
    "#---------------------------------------------------------------------------\n",
    "experiment = 'PTZ-WILDTYPE'\n",
    "savepath = Fdrop + 'Project/' + experiment + os.sep \n",
    "os.chdir(Fdrop + 'Project/' + experiment)\n",
    "bln_dcc = sorted(glob.glob('*BLN*DCC.npy*')) \n",
    "foc_dcc = sorted(glob.glob('*_PTZ05*DCC.npy*')) \n",
    "gen_dcc = sorted(glob.glob('*_PTZ20*DCC.npy*')) \n",
    "bln_dcc"
   ]
  },
  {
   "cell_type": "code",
   "execution_count": 4,
   "metadata": {},
   "outputs": [],
   "source": [
    "dcc = np.zeros((33))\n",
    "dcc_list = [bln_dcc, foc_dcc, gen_dcc]\n",
    "fli = list(range(11))\n",
    "flist=[]\n",
    "for i in range(11):\n",
    "    fli[i] = 'F' + str(i+2)\n",
    "for e in range(3):\n",
    "    flist = np.append(flist, fli)\n",
    "    \n",
    "count=0\n",
    "for i in range(len(dcc_list)):\n",
    "    for y in range(11):\n",
    "        dcc[count] = np.load(dcc_list[i][y] ,allow_pickle=True)\n",
    "        count+=1\n",
    "dcc_df = pd.DataFrame({\"DCC\":dcc , \"Labels\":  np.append(adfn.repeat_list('Baseline',11),np.append(adfn.repeat_list('PTZ 5mM',11),adfn.repeat_list('PTZ 20mM',11))), \"Fish\":flist})"
   ]
  },
  {
   "cell_type": "code",
   "execution_count": 5,
   "metadata": {},
   "outputs": [
    {
     "data": {
      "image/png": "[encoded data removed]",
      "text/plain": [
       "<Figure size 600x400 with 1 Axes>"
      ]
     },
     "metadata": {},
     "output_type": "display_data"
    }
   ],
   "source": [
    "from matplotlib.collections import PathCollection\n",
    "sns.set(style=\"white\")\n",
    "colors1 = ['indigo', '#ff7f0e', '#2ca02c', '#d62728', '#9467bd', '#8c564b', '#e377c2', '#7f7f7f', 'orangered', '#17becf', '#1f77b4']\n",
    "colors2 = ['k','#ff7f0e','#d62728']\n",
    "fig, ax = plt.subplots(figsize = (6,4))\n",
    "ax = sns.pointplot(x=\"Labels\", y=\"DCC\", data = dcc_df, hue = 'Labels', palette = colors2, join=True, ci=0, scale=3, markers = '_')\n",
    "for artist in ax.lines:\n",
    "    artist.set_zorder(10)\n",
    "for artist in ax.findobj(PathCollection):\n",
    "    artist.set_zorder(11)\n",
    "ax = sns.pointplot(x=\"Labels\", y=\"DCC\", data=dcc_df, color = 'grey', linestyles = [\"--\"], ci = 0, scale=0.6)\n",
    "ax = sns.stripplot(x=\"Labels\", y=\"DCC\", data=dcc_df, hue = 'Fish', palette = colors1, size = 8, jitter = True ,alpha = 1)\n",
    "\n",
    "points = ax.collections\n",
    "ax.spines['top'].set_visible(False)\n",
    "ax.spines['right'].set_visible(False)\n",
    "ax.set_xlabel(' ', size = '13')\n",
    "ax.set_ylabel('DCC', size = '15')\n",
    "ax.set_xticklabels(['Baseline', 'Focal', 'Generalised'], size = 15)\n",
    "ax.legend_.remove()\n",
    "#plt.savefig('exp_dur_ptz.svg', transparent = True)\n",
    "plt.show()"
   ]
  },
  {
   "cell_type": "code",
   "execution_count": 6,
   "metadata": {},
   "outputs": [
    {
     "data": {
      "text/plain": [
       "[[-3.420742750505549,\n",
       "  0.006539274312039868,\n",
       "  0.025,\n",
       "  'Significant',\n",
       "  'Baseline - PTZ 5mM'],\n",
       " [-5.69365811335557,\n",
       "  0.00020004456769989761,\n",
       "  0.025,\n",
       "  'Significant',\n",
       "  'Baseline - PTZ 20mM']]"
      ]
     },
     "execution_count": 6,
     "metadata": {},
     "output_type": "execute_result"
    }
   ],
   "source": [
    "adfn.ttest(dcc_df, 'Labels', 'DCC', ['Baseline', 'PTZ 5mM', 'PTZ 20mM'], mode='single')"
   ]
  },
  {
   "cell_type": "markdown",
   "metadata": {},
   "source": [
    "# Branching ratio"
   ]
  },
  {
   "cell_type": "code",
   "execution_count": 81,
   "metadata": {},
   "outputs": [
    {
     "data": {
      "text/plain": [
       "[['PTZ-WILDTYPE-02_2photon_sess-01-6dpf_BLN_run-01_randbase-branch.npy',\n",
       "  'PTZ-WILDTYPE-04_2photon_sess-01-6dpf_BLN_run-01_randbase-branch.npy',\n",
       "  'PTZ-WILDTYPE-05_2photon_sess-01-6dpf_BLN_run-01_randbase-branch.npy',\n",
       "  'PTZ-WILDTYPE-07_2photon_sess-01-6dpf_BLN_run-01_randbase-branch.npy',\n",
       "  'PTZ-WILDTYPE-08_2photon_sess-01-6dpf_BLN_run-01_randbase-branch.npy',\n",
       "  'PTZ-WILDTYPE-09_2photon_sess-01-6dpf_BLN_run-01_randbase-branch.npy',\n",
       "  'PTZ-WILDTYPE-10_2photon_sess-01-6dpf_BLN_run-01_randbase-branch.npy',\n",
       "  'PTZ-WILDTYPE-11_2photon_sess-01-6dpf_BLN_run-01_randbase-branch.npy',\n",
       "  'PTZ-WILDTYPE-12_2photon_sess-01-6dpf_BLN_run-09_randbase-branch.npy'],\n",
       " ['PTZ-WILDTYPE-02_2photon_sess-01-6dpf_PTZ20_run-01_preictal-branch.npy',\n",
       "  'PTZ-WILDTYPE-04_2photon_sess-01-6dpf_PTZ20_run-01_preictal-branch.npy',\n",
       "  'PTZ-WILDTYPE-05_2photon_sess-01-6dpf_PTZ20_run-01_preictal-branch.npy',\n",
       "  'PTZ-WILDTYPE-07_2photon_sess-01-6dpf_PTZ20_run-01_preictal-branch.npy',\n",
       "  'PTZ-WILDTYPE-08_2photon_sess-01-6dpf_PTZ20_run-01_preictal-branch.npy',\n",
       "  'PTZ-WILDTYPE-09_2photon_sess-01-6dpf_PTZ20_run-01_preictal-branch.npy',\n",
       "  'PTZ-WILDTYPE-10_2photon_sess-01-6dpf_PTZ20_run-01_preictal-branch.npy',\n",
       "  'PTZ-WILDTYPE-11_2photon_sess-01-6dpf_PTZ20_run-01_preictal-branch.npy',\n",
       "  'PTZ-WILDTYPE-12_2photon_sess-01-6dpf_PTZ20_run-01_preictal-branch.npy'],\n",
       " ['PTZ-WILDTYPE-02_2photon_sess-01-6dpf_PTZ20_run-01_ictal-branch.npy',\n",
       "  'PTZ-WILDTYPE-04_2photon_sess-01-6dpf_PTZ20_run-01_ictal-branch.npy',\n",
       "  'PTZ-WILDTYPE-05_2photon_sess-01-6dpf_PTZ20_run-01_ictal-branch.npy',\n",
       "  'PTZ-WILDTYPE-07_2photon_sess-01-6dpf_PTZ20_run-01_ictal-branch.npy',\n",
       "  'PTZ-WILDTYPE-08_2photon_sess-01-6dpf_PTZ20_run-01_ictal-branch.npy',\n",
       "  'PTZ-WILDTYPE-09_2photon_sess-01-6dpf_PTZ20_run-01_ictal-branch.npy',\n",
       "  'PTZ-WILDTYPE-10_2photon_sess-01-6dpf_PTZ20_run-01_ictal-branch.npy',\n",
       "  'PTZ-WILDTYPE-11_2photon_sess-01-6dpf_PTZ20_run-01_ictal-branch.npy',\n",
       "  'PTZ-WILDTYPE-12_2photon_sess-01-6dpf_PTZ20_run-01_ictal-branch.npy']]"
      ]
     },
     "execution_count": 81,
     "metadata": {},
     "output_type": "execute_result"
    }
   ],
   "source": [
    "# Create lists of bin\n",
    "#---------------------------------------------------------------------------\n",
    "experiment = 'PTZ-WILDTYPE'\n",
    "os.chdir(Fdrop + 'Project/' + experiment)\n",
    "b_branchlist = sorted(glob.glob('*rand*branch*'))\n",
    "pre_branchlist = sorted(glob.glob('*pre*branch*'))\n",
    "p20_branchlist = sorted(glob.glob('*_ictal*branch*'))\n",
    "branchlist = [b_branchlist, pre_branchlist, p20_branchlist]\n",
    "\n",
    "branchlist"
   ]
  },
  {
   "cell_type": "code",
   "execution_count": null,
   "metadata": {},
   "outputs": [],
   "source": [
    "### Recalculate avalanches + branching ratio\n",
    "bin_list = [bln_blist, pre_blist, p20_blist]\n",
    "nnb_list = [sub_bln_nnblist, gen_nnblist, gen_nnblist]\n",
    "savename = ['_randbase-', '_preictal-', '_ictal-']\n",
    "\n",
    "for e in range(len(bin_list)):\n",
    "    for i in range(len(bin_list[e])):\n",
    "        av, pkg = crfn.avalanche(nnb_list[e][i], bin_list[e][i], Fdrop, experiment)\n",
    "        np.save(Fdrop + 'Project/' + experiment + os.sep + adfn.name_template([nnb_list[e][i]], 'short') + savename[e] + 'av.npy', av)\n",
    "        np.save(Fdrop + 'Project/' + experiment + os.sep + adfn.name_template([nnb_list[e][i]], 'short') + savename[e] + 'pkg.npy', pkg)\n",
    "        branch = crfn.branch(pkg, av, Fdrop, experiment)\n",
    "        np.save(Fdrop + 'Project/' + experiment + os.sep + adfn.name_template([nnb_list[e][i]], 'short') + savename[e] + 'branch.npy', branch)\n"
   ]
  },
  {
   "cell_type": "code",
   "execution_count": 82,
   "metadata": {},
   "outputs": [],
   "source": [
    "#BRANCH RATIO\n",
    "import pandas as pd\n",
    "\n",
    "branch = np.zeros((27))\n",
    "count=0\n",
    "for i in range(len(branchlist)):\n",
    "    for e in range(len(branchlist[i])):\n",
    "        branch[count] = np.load(branchlist[i][e])\n",
    "        count+=1\n",
    "\n",
    "fli = list(range(9))\n",
    "flist=[]\n",
    "for i in range(9):\n",
    "    fli[i] = 'F' + str(i+2)\n",
    "for e in range(3):\n",
    "    flist = np.append(flist, fli)\n",
    "\n",
    "bdf = pd.DataFrame({\"Branching ratio\":branch , \"Labels\":  np.append(adfn.repeat_list('Baseline',9),np.append(adfn.repeat_list('Pre-ictal',9),adfn.repeat_list('Ictal',9))), \"Fish\":flist})"
   ]
  },
  {
   "cell_type": "code",
   "execution_count": 93,
   "metadata": {},
   "outputs": [
    {
     "data": {
      "image/png": "[encoded data removed]",
      "text/plain": [
       "<Figure size 600x400 with 1 Axes>"
      ]
     },
     "metadata": {},
     "output_type": "display_data"
    }
   ],
   "source": [
    "from matplotlib.collections import PathCollection\n",
    "sns.set(style=\"white\")\n",
    "colors1 = ['indigo', '#ff7f0e', '#2ca02c', '#d62728', '#9467bd', '#8c564b', '#e377c2', '#7f7f7f', 'orangered', '#17becf', '#1f77b4']\n",
    "colors2 = ['k','#ff7f0e','#d62728']\n",
    "fig, ax = plt.subplots(figsize = (6,4))\n",
    "ax = sns.pointplot(x=\"Labels\", y=\"Branching ratio\", data = bdf, hue = 'Labels', palette = colors2, join=True, ci=0, scale=3, markers='_')\n",
    "for artist in ax.lines:\n",
    "    artist.set_zorder(10)\n",
    "for artist in ax.findobj(PathCollection):\n",
    "    artist.set_zorder(11)\n",
    "ax = sns.pointplot(x=\"Labels\", y=\"Branching ratio\", data = bdf, color = 'grey', linestyles = [\"--\"], ci = 0, scale=0.6)\n",
    "ax = sns.stripplot(x=\"Labels\", y=\"Branching ratio\", data = bdf, hue = 'Fish', palette = colors1, size = 10, jitter = True ,alpha = 1)\n",
    "\n",
    "points = ax.collections\n",
    "ax.spines['top'].set_visible(False)\n",
    "ax.spines['right'].set_visible(False)\n",
    "ax.set_xlabel(' ', size = '13')\n",
    "ax.set_ylabel('σ', size = '15')\n",
    "ax.set_xticklabels(['Baseline', 'Inter-ictal', 'Ictal'], size = 15)\n",
    "ax.legend_.remove()\n",
    "plt.savefig('BR_ptz.svg', transparent = True)\n",
    "#plt.ylim(0.5,1.3)\n",
    "plt.show()"
   ]
  },
  {
   "cell_type": "code",
   "execution_count": null,
   "metadata": {},
   "outputs": [],
   "source": [
    "adfn.ttest(bdf, 'Labels', 'Branching ratio', ['Baseline', 'Pre-ictal', 'Ictal'], mode='multiple')[0]"
   ]
  },
  {
   "cell_type": "code",
   "execution_count": 36,
   "metadata": {},
   "outputs": [],
   "source": [
    "# Choose path and create lists of coord and trace files\n",
    "#---------------------------------------------------------------------------\n",
    "experiment = 'PTZ-WILDTYPE'\n",
    "os.chdir(Fdrop + 'Project/' + experiment)\n",
    "ptzlist = sorted(glob.glob('*PTZ20*_av.npy*'))\n",
    "swaplist = sorted(glob.glob('*PTZ20*swap*'))\n",
    "shufflelist = sorted(glob.glob('*PTZ20*shuff*'))\n",
    "slidelist = sorted(glob.glob('*PTZ20*slide*'))\n",
    "autolist = sorted(glob.glob('*PTZ20*auto*'))"
   ]
  },
  {
   "cell_type": "markdown",
   "metadata": {},
   "source": [
    "### ks distance\n",
    "* Which null distributions are more important to generate critical avalanche dynamics\n",
    "* Size - spatial structure more important than temporal structure & autocorrelation - time structure still important\n",
    "* Duration - spatial structure and temporal structure equally important \n",
    "\n",
    "* {for each fish - generate an average distribution, find ks distance of each point to that distribution}\n",
    "* {for each baseline, quantify how far the baseline deviaties from that value - plot that ks distance (significant if > 1.96 sd from null mean)}\n"
   ]
  },
  {
   "cell_type": "code",
   "execution_count": null,
   "metadata": {},
   "outputs": [],
   "source": [
    "# PLOT - average whole brain fluorescence\n",
    "#----------------------------------------\n",
    "experiment = 'PTZ-WILDTYPE'\n",
    "os.chdir(Fdrop + 'Project/' + experiment)\n",
    "size_powlist = sorted(glob.glob('*BLN*size*_power*'))\n",
    "size_loglist = sorted(glob.glob('*BLN*size*_log*'))\n",
    "dur_powlist = sorted(glob.glob('*BLN*dur*_power*'))\n",
    "dur_loglist = sorted(glob.glob('*BLN*dur*_log*'))\n",
    "size_powlist"
   ]
  },
  {
   "cell_type": "code",
   "execution_count": null,
   "metadata": {},
   "outputs": [],
   "source": [
    "#SIZE - BASELINE MARGINAL LIKELIHOODS\n",
    "\"\"\"\"count=0\n",
    "choose = 0\n",
    "prac_blnexp = np.zeros(11)\n",
    "for i in num1:\n",
    "    avlist =  sorted(glob.glob('*E-' + str(i) + '*BLN*_av.npy'))\n",
    "    data = np.load(avlist[0])\n",
    "    sizes=data[choose]\n",
    "    M=len(sizes)\n",
    "    a=min(sizes) #define xmin\n",
    "    b=max(sizes) #define xmax\n",
    "    npart = 2000 #number of particles - number of draws from prior distribution\n",
    "    ln=IS_LN(npart)\n",
    "    po=IS(npart)\n",
    "    prac_blnexp[count] = po[0]\n",
    "    count+=1\n",
    "    np.save(Fdrop + 'Project/' + experiment + os.sep + adfn.name_template([avlist[0]], 'short') + '_size_marglik_power.npy', po)\n",
    "    np.save(Fdrop + 'Project/' + experiment + os.sep + adfn.name_template([avlist[0]], 'short')  + '_size_marglik_log.npy', ln)\n",
    "    print('Done fish ' + adfn.name_template([avlist[0]], 'short'))"
   ]
  },
  {
   "cell_type": "code",
   "execution_count": null,
   "metadata": {},
   "outputs": [],
   "source": [
    "#DUR - BASELINE MARGINAL LIKELIHOODS\n",
    "\"\"\"\"count=0\n",
    "choose = 1\n",
    "prac_blnexp = np.zeros(11)\n",
    "for i in num1:\n",
    "    avlist =  sorted(glob.glob('*E-' + str(i) + '*BLN*_av.npy'))\n",
    "    data = np.load(avlist[0])\n",
    "    sizes=data[choose]\n",
    "    a=2 #define xmin\n",
    "    b=max(sizes) #define xmax\n",
    "    M=len(sizes[np.where(sizes>a-1)])\n",
    "    npart = 2000 #number of particles - number of draws from prior distribution\n",
    "    ln=IS_LN(npart)\n",
    "    po=IS(npart)\n",
    "    prac_blnexp[count] = po[0]\n",
    "    count+=1\n",
    "    np.save(Fdrop + 'Project/' + experiment + os.sep + adfn.name_template([avlist[0]], 'short') + '_dur_marglik_power.npy', po)\n",
    "    np.save(Fdrop + 'Project/' + experiment + os.sep + adfn.name_template([avlist[0]], 'short')  + '_dur_marglik_log.npy', ln)\n",
    "    print('Done fish ' + adfn.name_template([avlist[0]], 'short'))"
   ]
  },
  {
   "cell_type": "code",
   "execution_count": null,
   "metadata": {},
   "outputs": [],
   "source": [
    "#EXP - average exponent for each null\n",
    "from scipy import stats\n",
    "ks_list = adfn.list_of_list(22,4)\n",
    "nullexp_list = adfn.list_of_list(22,4)\n",
    "mode = [0,1]\n",
    "count=0\n",
    "num1 = adfn.name_zero('front', 2, 12, 1)\n",
    "for y in range(2):\n",
    "    for i in num1:\n",
    "        os.chdir(Fdrop + 'Project/' + experiment)\n",
    "        bln = np.load(sorted(glob.glob('*E-' + i + '*BLN*_av.npy*'))[0])\n",
    "        swaplist = sorted(glob.glob('*E-' + i + '*BLN*swap*'))\n",
    "        shufflelist = sorted(glob.glob('*E-' + i + '*BLN*shuff*'))\n",
    "        autolist = sorted(glob.glob('*E-' + i + '*BLN*auto*'))\n",
    "        slidelist = sorted(glob.glob('*E-' + i + '*BLN*slide*'))\n",
    "        null_list = [shufflelist, swaplist,autolist]\n",
    "        for f in range(len(null_list)):\n",
    "            mean_null = adfn.mean_distribution(null_list[f], mode[y])\n",
    "            ks_list[count][f] = crfn.ks_compare(null_list[f], mean_null, bln, mode[y], len(null_list[f]))\n",
    "            if mode[y] == 0:\n",
    "                data = mean_null\n",
    "                sizes=data\n",
    "                M=len(sizes)\n",
    "                a=min(sizes) #define xmin\n",
    "                b=max(sizes) #define xmax\n",
    "                npart = 2000 #number of particles - number of draws from prior distribution\n",
    "                ln=isfn.IS_LN(npart, sizes, M, a, b)\n",
    "                po=isfn.IS(npart, sizes,M, a, b)\n",
    "                nullexp_list[count][f] = po[0]\n",
    "            if mode[y] == 1:\n",
    "                data = mean_null\n",
    "                sizes=data\n",
    "                a=2 #define xmin\n",
    "                b=max(sizes) #define xmax\n",
    "                M=len(sizes[np.where(sizes>a-1)])\n",
    "                npart = 2000 #number of particles - number of draws from prior distribution\n",
    "                ln=isfn.IS_LN(npart, sizes,M, a, b)\n",
    "                po=isfn.IS(npart, sizes, M, a, b)\n",
    "                nullexp_list[count][f] = po[0]\n",
    "        count+=1\n",
    "        print('Done fish ' + str(i))"
   ]
  },
  {
   "cell_type": "code",
   "execution_count": null,
   "metadata": {},
   "outputs": [],
   "source": [
    "#KS distance\n",
    "fli = list(range(11))\n",
    "flist=[]\n",
    "for i in range(11):\n",
    "    fli[i] = 'F' + str(i+2)\n",
    "for e in range(3):\n",
    "    flist = np.append(flist, fli)\n",
    "    \n",
    "#Null append\n",
    "sizeks, durks, lab = [],[],[]\n",
    "nulist = ['Time + Cell shuffle', 'Cell shuffle','Time shuffle']\n",
    "for e in range(len(nulist)):\n",
    "    for f in range(11):\n",
    "        sizeks = np.append(sizeks, ks_list[f][e][0])\n",
    "        durks =  np.append(durks, ks_list[f+11][e][0])\n",
    "        lab = np.append(lab, nulist[e])\n",
    "\n",
    "sksdf = pd.DataFrame({ \"KS distance\": sizeks, \"Labels\": lab, 'Fish': flist})\n",
    "dksdf = pd.DataFrame({ \"KS distance\": durks, \"Labels\": lab, 'Fish': flist})"
   ]
  },
  {
   "cell_type": "code",
   "execution_count": null,
   "metadata": {},
   "outputs": [],
   "source": [
    "from matplotlib.collections import PathCollection\n",
    "sns.set(style=\"white\")\n",
    "colors1 = ['indigo', '#ff7f0e', '#2ca02c', '#d62728', '#9467bd', '#8c564b', '#e377c2', '#7f7f7f', 'orangered', '#17becf', '#1f77b4']\n",
    "colors2 = ['magenta','crimson','turquoise']\n",
    "fig, ax = plt.subplots(figsize = (5,3))\n",
    "ax = sns.pointplot(x=\"Labels\", y=\"KS distance\", data=sksdf, hue = 'Labels', palette = colors2, join=False, ci=0, scale=3, markers = '_')\n",
    "for artist in ax.lines:\n",
    "    artist.set_zorder(10)\n",
    "for artist in ax.findobj(PathCollection):\n",
    "    artist.set_zorder(11)\n",
    "\n",
    "ax = sns.stripplot(x=\"Labels\", y=\"KS distance\", data=sksdf, hue = 'Fish', palette = colors1, size = 6, jitter = True ,alpha = 1)\n",
    "\n",
    "points = ax.collections\n",
    "ax.spines['top'].set_visible(False)\n",
    "ax.spines['right'].set_visible(False)\n",
    "ax.set_xlabel(' ', size = '13')\n",
    "ax.set_ylabel('KS distance', size = '15')\n",
    "ax.set_xticklabels(['Time/Cell shuffle', 'Cell shuffle', 'Time shuffle', 'Time permute'], size = 11)\n",
    "ax.legend_.remove()\n",
    "plt.show()"
   ]
  },
  {
   "cell_type": "code",
   "execution_count": null,
   "metadata": {},
   "outputs": [],
   "source": [
    "adfn.ttest(sksdf, 'Labels', 'KS distance', ['Time + Cell shuffle', 'Cell shuffle','Time shuffle'], mode='multiple')"
   ]
  },
  {
   "cell_type": "code",
   "execution_count": null,
   "metadata": {},
   "outputs": [],
   "source": [
    "from matplotlib.collections import PathCollection\n",
    "sns.set(style=\"white\")\n",
    "colors1 = ['indigo', '#ff7f0e', '#2ca02c', '#d62728', '#9467bd', '#8c564b', '#e377c2', '#7f7f7f', 'orangered', '#17becf', '#1f77b4']\n",
    "colors2 = ['magenta','crimson','turquoise']\n",
    "fig, ax = plt.subplots(figsize = (5,3))\n",
    "ax = sns.pointplot(x=\"Labels\", y=\"KS distance\", data=dksdf, hue = 'Labels', palette = colors2, join=False, ci=0, scale=3, markers = '_')\n",
    "for artist in ax.lines:\n",
    "    artist.set_zorder(10)\n",
    "for artist in ax.findobj(PathCollection):\n",
    "    artist.set_zorder(11)\n",
    "\n",
    "ax = sns.stripplot(x=\"Labels\", y=\"KS distance\", data=dksdf, hue = 'Fish', palette = colors1, size = 6, jitter = True ,alpha = 1)\n",
    "points = ax.collections\n",
    "ax.spines['top'].set_visible(False)\n",
    "ax.spines['right'].set_visible(False)\n",
    "ax.set_xlabel(' ', size = '13')\n",
    "ax.set_ylabel('KS distance', size = '15')\n",
    "ax.set_xticklabels(['Time/Cell shuffle', 'Cell shuffle', 'Time shuffle', 'Time permute'], size = 11)\n",
    "ax.legend_.remove()\n",
    "plt.show()"
   ]
  },
  {
   "cell_type": "code",
   "execution_count": null,
   "metadata": {},
   "outputs": [],
   "source": [
    "adfn.ttest(dksdf, 'Labels', 'KS distance', ['Time + Cell shuffle', 'Cell shuffle','Time shuffle'], mode='multiple')"
   ]
  },
  {
   "cell_type": "markdown",
   "metadata": {},
   "source": [
    "### EXPONENT\n",
    "\n",
    "* which null distributions increase/decrease avalanche number?\n",
    "* Cell location and time structure reduces avalanche size/duration, autocorrelation does not"
   ]
  },
  {
   "cell_type": "code",
   "execution_count": null,
   "metadata": {},
   "outputs": [],
   "source": [
    "#EXPONENT CALCULATION - Baseline append\n",
    "blnexp, blnlab = [],[]\n",
    "blnlist = [size_powlist, dur_powlist]\n",
    "for i in range(len(blnlist)):\n",
    "    for e in range(len(blnlist[i])):\n",
    "        blnexp = np.append(blnexp, np.load(blnlist[i][e], allow_pickle=True)[0])\n",
    "blnlab = adfn.repeat_list('Baseline', 22)\n",
    "\n",
    "#Make fish name list\n",
    "fli = list(range(11))\n",
    "flist=[]\n",
    "for i in range(11):\n",
    "    fli[i] = 'F' + str(i+2)\n",
    "for e in range(4):\n",
    "    flist = np.append(flist, fli)\n",
    "    \n",
    "#Null append\n",
    "sizex, durx, lab = [],[],[]\n",
    "nulist = ['Time + Cell shuffle', 'Cell shuffle','Time shuffle']\n",
    "for e in range(len(nulist)):\n",
    "    for f in range(11):\n",
    "        sizex = np.append(sizex, nullexp_list[f][e])\n",
    "        durx =  np.append(durx, nullexp_list[f+11][e])\n",
    "        lab = np.append(lab, nulist[e])\n",
    "\n",
    "#Append together \n",
    "labcomb = np.append(lab,blnlab[:11])            \n",
    "sizecomb = np.append(sizex,blnexp[:11])\n",
    "durcomb = np.append(durx,blnexp[11:])\n",
    "\n",
    "sxdf = pd.DataFrame({ \"Exponent\": sizecomb, \"Labels\": labcomb, 'Fish': flist})\n",
    "dxdf = pd.DataFrame({ \"Exponent\": durcomb, \"Labels\": labcomb, 'Fish': flist})"
   ]
  },
  {
   "cell_type": "code",
   "execution_count": null,
   "metadata": {},
   "outputs": [],
   "source": [
    "sns.set(style=\"white\")\n",
    "colors1 = ['indigo', '#ff7f0e', '#2ca02c', '#d62728', '#9467bd', '#8c564b', '#e377c2', '#7f7f7f', 'orangered', '#17becf', '#1f77b4']\n",
    "colors2 = ['magenta','crimson','turquoise', 'black']\n",
    "fig, ax = plt.subplots(figsize = (6,4))\n",
    "ax = sns.pointplot(x=\"Labels\", y=\"Exponent\", data=sxdf, hue = 'Labels', palette = colors2, join=False, ci=0, scale=3, markers = '_')\n",
    "for artist in ax.lines:\n",
    "    artist.set_zorder(10)\n",
    "for artist in ax.findobj(PathCollection):\n",
    "    artist.set_zorder(11)\n",
    "ax = sns.stripplot(x=\"Labels\", y=\"Exponent\", data=sxdf, hue = 'Fish', palette = colors1, size = 6, jitter = True ,alpha = 1)\n",
    "points = ax.collections\n",
    "ax.spines['top'].set_visible(False)\n",
    "ax.spines['right'].set_visible(False)\n",
    "ax.set_xlabel(' ', size = '13')\n",
    "ax.set_ylabel('α', size = '15')\n",
    "ax.set_xticklabels(['Time/Cell shuffle', 'Cell shuffle', 'Time shuffle', 'Baseline'], size = 11)\n",
    "ax.legend_.remove()\n",
    "plt.show()"
   ]
  },
  {
   "cell_type": "code",
   "execution_count": null,
   "metadata": {},
   "outputs": [],
   "source": [
    "adfn.ttest(sxdf, 'Labels', 'Exponent', ['Baseline','Time + Cell shuffle', 'Cell shuffle','Time shuffle'], mode='single')"
   ]
  },
  {
   "cell_type": "code",
   "execution_count": null,
   "metadata": {},
   "outputs": [],
   "source": [
    "sns.set(style=\"white\")\n",
    "colors1 = ['indigo', '#ff7f0e', '#2ca02c', '#d62728', '#9467bd', '#8c564b', '#e377c2', '#7f7f7f', 'orangered', '#17becf', '#1f77b4']\n",
    "colors2 = ['magenta','crimson','turquoise', 'black']\n",
    "fig, ax = plt.subplots(figsize = (6,4))\n",
    "ax = sns.pointplot(x=\"Labels\", y=\"Exponent\", data=dxdf, hue = 'Labels', palette = colors2, join=False, ci=0, scale=3, markers = '_')\n",
    "for artist in ax.lines:\n",
    "    artist.set_zorder(10)\n",
    "for artist in ax.findobj(PathCollection):\n",
    "    artist.set_zorder(11)\n",
    "ax = sns.stripplot(x=\"Labels\", y=\"Exponent\", data=dxdf, hue = 'Fish', palette = colors1, size = 6, jitter = True ,alpha = 1)\n",
    "points = ax.collections\n",
    "ax.spines['top'].set_visible(False)\n",
    "ax.spines['right'].set_visible(False)\n",
    "ax.set_xlabel(' ', size = '13')\n",
    "ax.set_ylabel('α', size = '15')\n",
    "ax.set_xticklabels(['Time/Cell shuffle', 'Cell shuffle', 'Time shuffle', 'Baseline'], size = 11)\n",
    "ax.legend_.remove()\n",
    "plt.show()"
   ]
  },
  {
   "cell_type": "code",
   "execution_count": null,
   "metadata": {},
   "outputs": [],
   "source": [
    "adfn.ttest(dxdf, 'Labels', 'Exponent', ['Baseline','Time + Cell shuffle', 'Cell shuffle','Time shuffle'], mode='single')"
   ]
  },
  {
   "cell_type": "markdown",
   "metadata": {},
   "source": [
    "### ks distance\n",
    "* Which null distributions are more important to generate critical avalanche dynamics\n",
    "* Size - spatial structure important - temporal structure no longer important\n",
    "* Duration - spatial structure and temporal structure equally important \n",
    "\n",
    "* {for each fish - generate an average distribution, find ks distance of each point to that distribution}\n",
    "* {for each baseline, quantify how far the baseline deviaties from that value - plot that ks distance (significant if > 1.96 sd from null mean)}\n"
   ]
  },
  {
   "cell_type": "code",
   "execution_count": 7,
   "metadata": {},
   "outputs": [
    {
     "data": {
      "text/plain": [
       "['PTZ-WILDTYPE-02_2photon_sess-01-6dpf_PTZ20_run-01_dur_marglik_power.npy',\n",
       " 'PTZ-WILDTYPE-03_2photon_sess-01-6dpf_PTZ20_run-01_dur_marglik_power.npy',\n",
       " 'PTZ-WILDTYPE-04_2photon_sess-01-6dpf_PTZ20_run-01_dur_marglik_power.npy',\n",
       " 'PTZ-WILDTYPE-05_2photon_sess-01-6dpf_PTZ20_run-01_dur_marglik_power.npy',\n",
       " 'PTZ-WILDTYPE-06_2photon_sess-01-6dpf_PTZ20_run-01_dur_marglik_power.npy',\n",
       " 'PTZ-WILDTYPE-07_2photon_sess-01-6dpf_PTZ20_run-01_dur_marglik_power.npy',\n",
       " 'PTZ-WILDTYPE-08_2photon_sess-01-6dpf_PTZ20_run-01_dur_marglik_power.npy',\n",
       " 'PTZ-WILDTYPE-09_2photon_sess-01-6dpf_PTZ20_run-01_dur_marglik_power.npy',\n",
       " 'PTZ-WILDTYPE-10_2photon_sess-01-6dpf_PTZ20_run-01_dur_marglik_power.npy',\n",
       " 'PTZ-WILDTYPE-11_2photon_sess-01-6dpf_PTZ20_run-01_dur_marglik_power.npy',\n",
       " 'PTZ-WILDTYPE-12_2photon_sess-01-6dpf_PTZ20_run-01_dur_marglik_power.npy']"
      ]
     },
     "execution_count": 7,
     "metadata": {},
     "output_type": "execute_result"
    }
   ],
   "source": [
    "# PLOT - average whole brain fluorescence\n",
    "#----------------------------------------\n",
    "experiment = 'PTZ-WILDTYPE'\n",
    "os.chdir(Fdrop + 'Project/' + experiment)\n",
    "size_powlist = sorted(glob.glob('*PTZ20*size*_power*'))\n",
    "size_loglist = sorted(glob.glob('*PTZ20*size*_log*'))\n",
    "dur_powlist = sorted(glob.glob('*PTZ20*dur*_power*'))\n",
    "dur_loglist = sorted(glob.glob('*PTZ20*dur*_log*'))\n",
    "dur_powlist"
   ]
  },
  {
   "cell_type": "code",
   "execution_count": 188,
   "metadata": {},
   "outputs": [
    {
     "name": "stdout",
     "output_type": "stream",
     "text": [
      "Done fish PTZ-WILDTYPE-02_2photon_sess-01-6dpf_PTZ20_run-01\n",
      "Done fish PTZ-WILDTYPE-03_2photon_sess-01-6dpf_PTZ20_run-01\n",
      "Done fish PTZ-WILDTYPE-04_2photon_sess-01-6dpf_PTZ20_run-01\n",
      "Done fish PTZ-WILDTYPE-05_2photon_sess-01-6dpf_PTZ20_run-01\n",
      "Done fish PTZ-WILDTYPE-06_2photon_sess-01-6dpf_PTZ20_run-01\n",
      "Done fish PTZ-WILDTYPE-07_2photon_sess-01-6dpf_PTZ20_run-01\n",
      "Done fish PTZ-WILDTYPE-08_2photon_sess-01-6dpf_PTZ20_run-01\n",
      "Done fish PTZ-WILDTYPE-09_2photon_sess-01-6dpf_PTZ20_run-01\n",
      "Done fish PTZ-WILDTYPE-10_2photon_sess-01-6dpf_PTZ20_run-01\n",
      "Done fish PTZ-WILDTYPE-11_2photon_sess-01-6dpf_PTZ20_run-01\n",
      "Done fish PTZ-WILDTYPE-12_2photon_sess-01-6dpf_PTZ20_run-01\n"
     ]
    }
   ],
   "source": [
    "#SIZE - PTZ20 MARGINAL LIKELIHOODS\n",
    "count=0\n",
    "choose = 0\n",
    "prac_blnexp = np.zeros(11)\n",
    "for i in num1:\n",
    "    avlist =  sorted(glob.glob('*E-' + str(i) + '*PTZ20*_av.npy'))\n",
    "    data = np.load(avlist[0])\n",
    "    sizes=data[choose]\n",
    "    M=len(sizes)\n",
    "    a=min(sizes) #define xmin\n",
    "    b=max(sizes) #define xmax\n",
    "    npart = 2000 #number of particles - number of draws from prior distribution\n",
    "    ln=IS_LN(npart)\n",
    "    po=IS(npart)\n",
    "    prac_blnexp[count] = po[0]\n",
    "    count+=1\n",
    "    np.save(Fdrop + 'Project/' + experiment + os.sep + adfn.name_template([avlist[0]], 'short') + '_size_marglik_power.npy', po)\n",
    "    np.save(Fdrop + 'Project/' + experiment + os.sep + adfn.name_template([avlist[0]], 'short')  + '_size_marglik_log.npy', ln)\n",
    "    print('Done fish ' + adfn.name_template([avlist[0]], 'short'))"
   ]
  },
  {
   "cell_type": "code",
   "execution_count": 189,
   "metadata": {},
   "outputs": [
    {
     "name": "stdout",
     "output_type": "stream",
     "text": [
      "Done fish PTZ-WILDTYPE-02_2photon_sess-01-6dpf_PTZ20_run-01\n",
      "Done fish PTZ-WILDTYPE-03_2photon_sess-01-6dpf_PTZ20_run-01\n",
      "Done fish PTZ-WILDTYPE-04_2photon_sess-01-6dpf_PTZ20_run-01\n",
      "Done fish PTZ-WILDTYPE-05_2photon_sess-01-6dpf_PTZ20_run-01\n",
      "Done fish PTZ-WILDTYPE-06_2photon_sess-01-6dpf_PTZ20_run-01\n",
      "Done fish PTZ-WILDTYPE-07_2photon_sess-01-6dpf_PTZ20_run-01\n",
      "Done fish PTZ-WILDTYPE-08_2photon_sess-01-6dpf_PTZ20_run-01\n",
      "Done fish PTZ-WILDTYPE-09_2photon_sess-01-6dpf_PTZ20_run-01\n",
      "Done fish PTZ-WILDTYPE-10_2photon_sess-01-6dpf_PTZ20_run-01\n",
      "Done fish PTZ-WILDTYPE-11_2photon_sess-01-6dpf_PTZ20_run-01\n",
      "Done fish PTZ-WILDTYPE-12_2photon_sess-01-6dpf_PTZ20_run-01\n"
     ]
    }
   ],
   "source": [
    "#DUR - BASELINE MARGINAL LIKELIHOODS\n",
    "count=0\n",
    "choose = 1\n",
    "prac_blnexp = np.zeros(11)\n",
    "for i in num1:\n",
    "    avlist =  sorted(glob.glob('*E-' + str(i) + '*PTZ20*_av.npy'))\n",
    "    data = np.load(avlist[0])\n",
    "    sizes=data[choose]\n",
    "    a=2 #define xmin\n",
    "    b=max(sizes) #define xmax\n",
    "    M=len(sizes[np.where(sizes>a-1)])\n",
    "    npart = 2000 #number of particles - number of draws from prior distribution\n",
    "    ln=IS_LN(npart)\n",
    "    po=IS(npart)\n",
    "    prac_blnexp[count] = po[0]\n",
    "    count+=1\n",
    "    np.save(Fdrop + 'Project/' + experiment + os.sep + adfn.name_template([avlist[0]], 'short') + '_dur_marglik_power.npy', po)\n",
    "    np.save(Fdrop + 'Project/' + experiment + os.sep + adfn.name_template([avlist[0]], 'short')  + '_dur_marglik_log.npy', ln)\n",
    "    print('Done fish ' + adfn.name_template([avlist[0]], 'short'))"
   ]
  },
  {
   "cell_type": "code",
   "execution_count": 8,
   "metadata": {},
   "outputs": [
    {
     "name": "stdout",
     "output_type": "stream",
     "text": [
      "Done fish 02\n",
      "Done fish 03\n",
      "Done fish 04\n",
      "Done fish 05\n",
      "Done fish 06\n",
      "Done fish 07\n",
      "Done fish 08\n",
      "Done fish 09\n",
      "Done fish 10\n",
      "Done fish 11\n",
      "Done fish 12\n",
      "Done fish 02\n",
      "Done fish 03\n",
      "Done fish 04\n",
      "Done fish 05\n",
      "Done fish 06\n",
      "Done fish 07\n",
      "Done fish 08\n",
      "Done fish 09\n",
      "Done fish 10\n",
      "Done fish 11\n",
      "Done fish 12\n"
     ]
    }
   ],
   "source": [
    "#EXP - average exponent for each null\n",
    "from scipy import stats\n",
    "ks_list = adfn.list_of_list(22,4)\n",
    "nullexp_list = adfn.list_of_list(22,4)\n",
    "mode = [0,1]\n",
    "count=0\n",
    "num1 = adfn.name_zero('front', 2, 12, 1)\n",
    "for y in range(2):\n",
    "    for i in num1:\n",
    "        os.chdir(Fdrop + 'Project/' + experiment)\n",
    "        bln = np.load(sorted(glob.glob('*E-' + i + '*PTZ20*_av.npy*'))[0])\n",
    "        swaplist = sorted(glob.glob('*E-' + i + '*PTZ20*swap*'))\n",
    "        shufflelist = sorted(glob.glob('*E-' + i + '*PTZ20*shuff*'))\n",
    "        autolist = sorted(glob.glob('*E-' + i + '*PTZ20*auto*'))\n",
    "        slidelist = sorted(glob.glob('*E-' + i + '*PTZ20*slide*'))\n",
    "        null_list = [shufflelist, swaplist,autolist]\n",
    "        for f in range(len(null_list)):\n",
    "            mean_null = adfn.mean_distribution(null_list[f], mode[y])\n",
    "            ks_list[count][f] = crfn.ks_compare(null_list[f], mean_null, bln, mode[y], len(null_list[f]))\n",
    "            if mode[y] == 0:\n",
    "                data = mean_null\n",
    "                sizes=data\n",
    "                M=len(sizes)\n",
    "                a=min(sizes) #define xmin\n",
    "                b=max(sizes) #define xmax\n",
    "                npart = 2000 #number of particles - number of draws from prior distribution\n",
    "                ln=isfn.IS_LN(npart, sizes, M, a, b)\n",
    "                po=isfn.IS(npart, sizes,M, a, b)\n",
    "                nullexp_list[count][f] = po[0]\n",
    "            if mode[y] == 1:\n",
    "                data = mean_null\n",
    "                sizes=data\n",
    "                a=2 #define xmin\n",
    "                b=max(sizes) #define xmax\n",
    "                M=len(sizes[np.where(sizes>a-1)])\n",
    "                npart = 2000 #number of particles - number of draws from prior distribution\n",
    "                ln=isfn.IS_LN(npart, sizes,M, a, b)\n",
    "                po=isfn.IS(npart, sizes, M, a, b)\n",
    "                nullexp_list[count][f] = po[0]\n",
    "        count+=1\n",
    "        print('Done fish ' + str(i))"
   ]
  },
  {
   "cell_type": "code",
   "execution_count": 13,
   "metadata": {},
   "outputs": [],
   "source": [
    "#KS distance\n",
    "fli = list(range(11))\n",
    "flist=[]\n",
    "for i in range(11):\n",
    "    fli[i] = 'F' + str(i+2)\n",
    "for e in range(3):\n",
    "    flist = np.append(flist, fli)\n",
    "    \n",
    "#Null append\n",
    "sizeks, durks, lab = [],[],[]\n",
    "nulist = ['Time + Cell shuffle', 'Cell shuffle','Time shuffle']\n",
    "for e in range(len(nulist)):\n",
    "    for f in range(11):\n",
    "        sizeks = np.append(sizeks, ks_list[f][e][0])\n",
    "        durks =  np.append(durks, ks_list[f+11][e][0])\n",
    "        lab = np.append(lab, nulist[e])\n",
    "\n",
    "sksdf = pd.DataFrame({ \"KS distance\": sizeks, \"Labels\": lab, 'Fish': flist})\n",
    "dksdf = pd.DataFrame({ \"KS distance\": durks, \"Labels\": lab, 'Fish': flist})"
   ]
  },
  {
   "cell_type": "code",
   "execution_count": 14,
   "metadata": {},
   "outputs": [
    {
     "data": {
      "image/png": "[encoded data removed]",
      "text/plain": [
       "<Figure size 500x300 with 1 Axes>"
      ]
     },
     "metadata": {},
     "output_type": "display_data"
    }
   ],
   "source": [
    "from matplotlib.collections import PathCollection\n",
    "sns.set(style=\"white\")\n",
    "colors1 = ['indigo', '#ff7f0e', '#2ca02c', '#d62728', '#9467bd', '#8c564b', '#e377c2', '#7f7f7f', 'orangered', '#17becf', '#1f77b4']\n",
    "colors2 = ['magenta','crimson','turquoise']\n",
    "fig, ax = plt.subplots(figsize = (5,3))\n",
    "ax = sns.pointplot(x=\"Labels\", y=\"KS distance\", data=sksdf, hue = 'Labels', palette = colors2, join=False, ci=0, scale=3, markers = '_')\n",
    "for artist in ax.lines:\n",
    "    artist.set_zorder(10)\n",
    "for artist in ax.findobj(PathCollection):\n",
    "    artist.set_zorder(11)\n",
    "\n",
    "ax = sns.stripplot(x=\"Labels\", y=\"KS distance\", data=sksdf, hue = 'Fish', palette = colors1, size = 6, jitter = True ,alpha = 1)\n",
    "\n",
    "points = ax.collections\n",
    "ax.spines['top'].set_visible(False)\n",
    "ax.spines['right'].set_visible(False)\n",
    "ax.set_xlabel(' ', size = '13')\n",
    "ax.set_ylabel('KS distance', size = '15')\n",
    "ax.set_xticklabels(['Time/Cell shuffle', 'Cell shuffle', 'Time shuffle', 'Time permute'], size = 11)\n",
    "ax.legend_.remove()\n",
    "plt.show()"
   ]
  },
  {
   "cell_type": "code",
   "execution_count": 25,
   "metadata": {},
   "outputs": [
    {
     "data": {
      "text/plain": [
       "[[[nan,\n",
       "   nan,\n",
       "   0.016666666666666666,\n",
       "   'Not significant',\n",
       "   'Time + Cell shuffle - Time + Cell shuffle'],\n",
       "  [-0.5191699731604296,\n",
       "   0.6149372742136185,\n",
       "   0.016666666666666666,\n",
       "   'Not significant',\n",
       "   'Time + Cell shuffle - Cell shuffle'],\n",
       "  [3.737574916476779,\n",
       "   0.003861918046716324,\n",
       "   0.016666666666666666,\n",
       "   'Significant',\n",
       "   'Time + Cell shuffle - Time shuffle']],\n",
       " [[0.5191699731604296,\n",
       "   0.6149372742136185,\n",
       "   0.016666666666666666,\n",
       "   'Not significant',\n",
       "   'Cell shuffle - Time + Cell shuffle'],\n",
       "  [nan,\n",
       "   nan,\n",
       "   0.016666666666666666,\n",
       "   'Not significant',\n",
       "   'Cell shuffle - Cell shuffle'],\n",
       "  [4.395606126099818,\n",
       "   0.001344249979338943,\n",
       "   0.016666666666666666,\n",
       "   'Significant',\n",
       "   'Cell shuffle - Time shuffle']],\n",
       " [[-3.737574916476779,\n",
       "   0.003861918046716324,\n",
       "   0.016666666666666666,\n",
       "   'Significant',\n",
       "   'Time shuffle - Time + Cell shuffle'],\n",
       "  [-4.395606126099818,\n",
       "   0.001344249979338943,\n",
       "   0.016666666666666666,\n",
       "   'Significant',\n",
       "   'Time shuffle - Cell shuffle'],\n",
       "  [nan,\n",
       "   nan,\n",
       "   0.016666666666666666,\n",
       "   'Not significant',\n",
       "   'Time shuffle - Time shuffle']]]"
      ]
     },
     "execution_count": 25,
     "metadata": {},
     "output_type": "execute_result"
    }
   ],
   "source": [
    "adfn.ttest(sksdf, 'Labels', 'KS distance', ['Time + Cell shuffle', 'Cell shuffle','Time shuffle'], mode='multiple')"
   ]
  },
  {
   "cell_type": "code",
   "execution_count": 18,
   "metadata": {},
   "outputs": [
    {
     "data": {
      "image/png": "[encoded data removed]",
      "text/plain": [
       "<Figure size 500x300 with 1 Axes>"
      ]
     },
     "metadata": {},
     "output_type": "display_data"
    }
   ],
   "source": [
    "from matplotlib.collections import PathCollection\n",
    "sns.set(style=\"white\")\n",
    "colors1 = ['indigo', '#ff7f0e', '#2ca02c', '#d62728', '#9467bd', '#8c564b', '#e377c2', '#7f7f7f', 'orangered', '#17becf', '#1f77b4']\n",
    "colors2 = ['magenta','crimson','turquoise']\n",
    "fig, ax = plt.subplots(figsize = (5,3))\n",
    "ax = sns.pointplot(x=\"Labels\", y=\"KS distance\", data=dksdf, hue = 'Labels', palette = colors2, join=False, ci=0, scale=3, markers = '_')\n",
    "for artist in ax.lines:\n",
    "    artist.set_zorder(10)\n",
    "for artist in ax.findobj(PathCollection):\n",
    "    artist.set_zorder(11)\n",
    "\n",
    "ax = sns.stripplot(x=\"Labels\", y=\"KS distance\", data=dksdf, hue = 'Fish', palette = colors1, size = 6, jitter = True ,alpha = 1)\n",
    "points = ax.collections\n",
    "ax.spines['top'].set_visible(False)\n",
    "ax.spines['right'].set_visible(False)\n",
    "ax.set_xlabel(' ', size = '13')\n",
    "ax.set_ylabel('KS distance', size = '15')\n",
    "ax.set_xticklabels(['Time/Cell shuffle', 'Cell shuffle', 'Time shuffle', 'Time permute'], size = 11)\n",
    "ax.legend_.remove()\n",
    "plt.show()"
   ]
  },
  {
   "cell_type": "code",
   "execution_count": 26,
   "metadata": {},
   "outputs": [
    {
     "data": {
      "text/plain": [
       "[[[nan,\n",
       "   nan,\n",
       "   0.016666666666666666,\n",
       "   'Not significant',\n",
       "   'Time + Cell shuffle - Time + Cell shuffle'],\n",
       "  [2.0424944602757833,\n",
       "   0.06836152840570595,\n",
       "   0.016666666666666666,\n",
       "   'Not significant',\n",
       "   'Time + Cell shuffle - Cell shuffle'],\n",
       "  [5.193828900757541,\n",
       "   0.0004048927097415638,\n",
       "   0.016666666666666666,\n",
       "   'Significant',\n",
       "   'Time + Cell shuffle - Time shuffle']],\n",
       " [[-2.0424944602757833,\n",
       "   0.06836152840570595,\n",
       "   0.016666666666666666,\n",
       "   'Not significant',\n",
       "   'Cell shuffle - Time + Cell shuffle'],\n",
       "  [nan,\n",
       "   nan,\n",
       "   0.016666666666666666,\n",
       "   'Not significant',\n",
       "   'Cell shuffle - Cell shuffle'],\n",
       "  [1.8483559273385761,\n",
       "   0.09429890949673995,\n",
       "   0.016666666666666666,\n",
       "   'Not significant',\n",
       "   'Cell shuffle - Time shuffle']],\n",
       " [[-5.193828900757541,\n",
       "   0.0004048927097415638,\n",
       "   0.016666666666666666,\n",
       "   'Significant',\n",
       "   'Time shuffle - Time + Cell shuffle'],\n",
       "  [-1.8483559273385761,\n",
       "   0.09429890949673995,\n",
       "   0.016666666666666666,\n",
       "   'Not significant',\n",
       "   'Time shuffle - Cell shuffle'],\n",
       "  [nan,\n",
       "   nan,\n",
       "   0.016666666666666666,\n",
       "   'Not significant',\n",
       "   'Time shuffle - Time shuffle']]]"
      ]
     },
     "execution_count": 26,
     "metadata": {},
     "output_type": "execute_result"
    }
   ],
   "source": [
    "adfn.ttest(dksdf, 'Labels', 'KS distance', ['Time + Cell shuffle', 'Cell shuffle','Time shuffle'], mode='multiple')"
   ]
  },
  {
   "cell_type": "markdown",
   "metadata": {},
   "source": [
    "### EXPONENT\n",
    "\n",
    "* which null distributions increase/decrease avalanche number?\n",
    "* Cell location reduces avalanche size/duration, time structure and autocorrelation unimportant in seizure avalanches"
   ]
  },
  {
   "cell_type": "code",
   "execution_count": 20,
   "metadata": {},
   "outputs": [],
   "source": [
    "#EXPONENT CALCULATION - Baseline append\n",
    "blnexp, blnlab = [],[]\n",
    "blnlist = [size_powlist, dur_powlist]\n",
    "for i in range(len(blnlist)):\n",
    "    for e in range(len(blnlist[i])):\n",
    "        blnexp = np.append(blnexp, np.load(blnlist[i][e], allow_pickle=True)[0])\n",
    "blnlab = adfn.repeat_list('Baseline', 22)\n",
    "\n",
    "#Make fish name list\n",
    "fli = list(range(11))\n",
    "flist=[]\n",
    "for i in range(11):\n",
    "    fli[i] = 'F' + str(i+2)\n",
    "for e in range(4):\n",
    "    flist = np.append(flist, fli)\n",
    "    \n",
    "#Null append\n",
    "sizex, durx, lab = [],[],[]\n",
    "nulist = ['Time + Cell shuffle', 'Cell shuffle','Time shuffle']\n",
    "for e in range(len(nulist)):\n",
    "    for f in range(11):\n",
    "        sizex = np.append(sizex, nullexp_list[f][e])\n",
    "        durx =  np.append(durx, nullexp_list[f+11][e])\n",
    "        lab = np.append(lab, nulist[e])\n",
    "\n",
    "#Append together \n",
    "labcomb = np.append(lab,blnlab[:11])            \n",
    "sizecomb = np.append(sizex,blnexp[:11])\n",
    "durcomb = np.append(durx,blnexp[11:])\n",
    "\n",
    "sxdf = pd.DataFrame({ \"Exponent\": sizecomb, \"Labels\": labcomb, 'Fish': flist})\n",
    "dxdf = pd.DataFrame({ \"Exponent\": durcomb, \"Labels\": labcomb, 'Fish': flist})"
   ]
  },
  {
   "cell_type": "code",
   "execution_count": 21,
   "metadata": {},
   "outputs": [
    {
     "data": {
      "image/png": "[encoded data removed]",
      "text/plain": [
       "<Figure size 600x400 with 1 Axes>"
      ]
     },
     "metadata": {},
     "output_type": "display_data"
    }
   ],
   "source": [
    "sns.set(style=\"white\")\n",
    "colors1 = ['indigo', '#ff7f0e', '#2ca02c', '#d62728', '#9467bd', '#8c564b', '#e377c2', '#7f7f7f', 'orangered', '#17becf', '#1f77b4']\n",
    "colors2 = ['magenta','crimson','turquoise', 'black']\n",
    "fig, ax = plt.subplots(figsize = (6,4))\n",
    "ax = sns.pointplot(x=\"Labels\", y=\"Exponent\", data=sxdf, hue = 'Labels', palette = colors2, join=False, ci=0, scale=3, markers = '_')\n",
    "for artist in ax.lines:\n",
    "    artist.set_zorder(10)\n",
    "for artist in ax.findobj(PathCollection):\n",
    "    artist.set_zorder(11)\n",
    "ax = sns.stripplot(x=\"Labels\", y=\"Exponent\", data=sxdf, hue = 'Fish', palette = colors1, size = 6, jitter = True ,alpha = 1)\n",
    "points = ax.collections\n",
    "ax.spines['top'].set_visible(False)\n",
    "ax.spines['right'].set_visible(False)\n",
    "ax.set_xlabel(' ', size = '13')\n",
    "ax.set_ylabel('α', size = '15')\n",
    "ax.set_xticklabels(['Time/Cell shuffle', 'Cell shuffle', 'Time shuffle', 'Baseline'], size = 11)\n",
    "ax.legend_.remove()\n",
    "plt.show()"
   ]
  },
  {
   "cell_type": "code",
   "execution_count": 27,
   "metadata": {},
   "outputs": [
    {
     "data": {
      "text/plain": [
       "[[-4.116206933575588,\n",
       "  0.002089717287186587,\n",
       "  0.016666666666666666,\n",
       "  'Significant',\n",
       "  'Baseline - Time + Cell shuffle'],\n",
       " [-4.706993237078907,\n",
       "  0.0008326884273481725,\n",
       "  0.016666666666666666,\n",
       "  'Significant',\n",
       "  'Baseline - Cell shuffle'],\n",
       " [-0.4602823457341297,\n",
       "  0.6551596067481453,\n",
       "  0.016666666666666666,\n",
       "  'Not significant',\n",
       "  'Baseline - Time shuffle']]"
      ]
     },
     "execution_count": 27,
     "metadata": {},
     "output_type": "execute_result"
    }
   ],
   "source": [
    "adfn.ttest(sxdf, 'Labels', 'Exponent', ['Baseline','Time + Cell shuffle', 'Cell shuffle','Time shuffle'], mode='single')"
   ]
  },
  {
   "cell_type": "code",
   "execution_count": 23,
   "metadata": {},
   "outputs": [
    {
     "data": {
      "image/png": "[encoded data removed]",
      "text/plain": [
       "<Figure size 600x400 with 1 Axes>"
      ]
     },
     "metadata": {},
     "output_type": "display_data"
    }
   ],
   "source": [
    "sns.set(style=\"white\")\n",
    "colors1 = ['indigo', '#ff7f0e', '#2ca02c', '#d62728', '#9467bd', '#8c564b', '#e377c2', '#7f7f7f', 'orangered', '#17becf', '#1f77b4']\n",
    "colors2 = ['magenta','crimson','turquoise', 'black']\n",
    "fig, ax = plt.subplots(figsize = (6,4))\n",
    "ax = sns.pointplot(x=\"Labels\", y=\"Exponent\", data=dxdf, hue = 'Labels', palette = colors2, join=False, ci=0, scale=3, markers = '_')\n",
    "for artist in ax.lines:\n",
    "    artist.set_zorder(10)\n",
    "for artist in ax.findobj(PathCollection):\n",
    "    artist.set_zorder(11)\n",
    "ax = sns.stripplot(x=\"Labels\", y=\"Exponent\", data=dxdf, hue = 'Fish', palette = colors1, size = 6, jitter = True ,alpha = 1)\n",
    "points = ax.collections\n",
    "ax.spines['top'].set_visible(False)\n",
    "ax.spines['right'].set_visible(False)\n",
    "ax.set_xlabel(' ', size = '13')\n",
    "ax.set_ylabel('α', size = '15')\n",
    "ax.set_xticklabels(['Time/Cell shuffle', 'Cell shuffle', 'Time shuffle', 'Baseline'], size = 11)\n",
    "ax.legend_.remove()\n",
    "plt.show()"
   ]
  },
  {
   "cell_type": "code",
   "execution_count": 28,
   "metadata": {},
   "outputs": [
    {
     "data": {
      "text/plain": [
       "[[-11.638305572897266,\n",
       "  3.893663010657905e-07,\n",
       "  0.016666666666666666,\n",
       "  'Significant',\n",
       "  'Baseline - Time + Cell shuffle'],\n",
       " [-4.73073212328938,\n",
       "  0.000803287084514129,\n",
       "  0.016666666666666666,\n",
       "  'Significant',\n",
       "  'Baseline - Cell shuffle'],\n",
       " [-2.01760933722841,\n",
       "  0.07126412075267682,\n",
       "  0.016666666666666666,\n",
       "  'Not significant',\n",
       "  'Baseline - Time shuffle']]"
      ]
     },
     "execution_count": 28,
     "metadata": {},
     "output_type": "execute_result"
    }
   ],
   "source": [
    "adfn.ttest(dxdf, 'Labels', 'Exponent', ['Baseline','Time + Cell shuffle', 'Cell shuffle','Time shuffle'], mode='single')"
   ]
  }
 ],
 "metadata": {
  "kernelspec": {
   "display_name": "Python 3",
   "language": "python",
   "name": "python3"
  },
  "language_info": {
   "codemirror_mode": {
    "name": "ipython",
    "version": 3
   },
   "file_extension": ".py",
   "mimetype": "text/x-python",
   "name": "python",
   "nbconvert_exporter": "python",
   "pygments_lexer": "ipython3",
   "version": "3.7.6"
  }
 },
 "nbformat": 4,
 "nbformat_minor": 4
}
