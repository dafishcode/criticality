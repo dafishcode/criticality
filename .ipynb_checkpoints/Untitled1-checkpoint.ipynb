{
 "cells": [
  {
   "cell_type": "code",
   "execution_count": 1,
   "metadata": {},
   "outputs": [
    {
     "data": {
      "text/plain": [
       "'3.7.6 (default, Jan  8 2020, 13:42:34) \\n[Clang 4.0.1 (tags/RELEASE_401/final)]'"
      ]
     },
     "execution_count": 1,
     "metadata": {},
     "output_type": "execute_result"
    }
   ],
   "source": [
    "#Import packages\n",
    "#---------------------------------------\n",
    "import sys\n",
    "import os\n",
    "import pandas as pd\n",
    "from matplotlib import pyplot as plt\n",
    "import numpy as np\n",
    "import matplotlib\n",
    "import warnings\n",
    "warnings.filterwarnings(\"ignore\", category=RuntimeWarning) \n",
    "\n",
    "#Import your modules\n",
    "#---------------------------------------\n",
    "import admin_functions as adfn\n",
    "import criticality as crfn\n",
    "import IS as isfn\n",
    "\n",
    "\n",
    "# Define paths\n",
    "#----------------------------------------------------------------------\n",
    "Fcode = '/Users/dominicburrows/Dropbox/PhD/Analysis/my_scripts/GitHub/'\n",
    "Fdata = '/Users/dominicburrows/Dropbox/PhD/analysis/Project/'\n",
    "Fdoc = '/Users/dominicburrows/Documents/'\n",
    "F10t = '/Volumes/Dominic 10tb/'\n",
    "F10t2 = '/Volumes/Dominic 10tb2/'\n",
    "Ftm = '/Volumes/Dominic Time Machine/'\n",
    "Ffig = '/Users/dominicburrows/Dropbox/PhD/figures/'\n",
    "\n",
    "%load_ext autoreload\n",
    "sys.version"
   ]
  },
  {
   "cell_type": "code",
   "execution_count": 27,
   "metadata": {},
   "outputs": [],
   "source": [
    "#=======================================================================\n",
    "def neighbour(cnt, rng, dim, name): # Select which fish data to visualise\n",
    "#=======================================================================\n",
    "    import numpy as np\n",
    "    import os\n",
    "    #Loop through all fish\n",
    "    #----------------------\n",
    "    coord = np.load(name)[:,:3]\n",
    "        \n",
    "        # Set up nearest neighbour graph\n",
    "        #---------------------------------------------------------------------------\n",
    "    mcs  = np.multiply(coord, dim)     # metrically scaled coordinates (in microns)\n",
    "        \n",
    "        # Initialise full distance matrix and nearest neighbour graph (binary) matrix\n",
    "        #nearest neigh binary matrix of celln by celln storing \n",
    "        #distance of each cell to every other cell\n",
    "        #---------------------------------------------------------------------------\n",
    "    nnb  = np.zeros((coord.shape[0],coord.shape[0]))  \n",
    "        \n",
    "        # Loop through all cells to fill in distances\n",
    "        #distance = matrix of celln x planen *10000 so default value is v large, \n",
    "        #outside of typical range and then will fill with distances for connected cells\n",
    "        #---------------------------------------------------------------------------\n",
    "    for r in range(coord.shape[0]):\n",
    "        distance = np.ones((10,coord.shape[0]))*10000\n",
    "        if r % round((10*coord.shape[0]/100)) == 0: \n",
    "            print(\"Doing row \" + str(r) + \" of \" + str(coord.shape[0]) + \" for \" + name[:name.find('sess')-9] + '_' + name[name.find('dpf')+4:name.find('run')-1])\n",
    "            \n",
    "            # moving window around r of size 3000 cells either side \n",
    "            # for each value of cell(r), each rr value (cell that is within range of cellr) \n",
    "            # a distance is calculated from cell to rrcell from their metrically scaled positions in space\n",
    "            #------------------------------------------------------------------------------------\n",
    "        for rr in range(max([r-int(rng/2),0]), min([r+int(rng/2),distance.shape[1]])):  \n",
    "            if r == rr: distance[0,rr] = 10000  #set to 10000 ie value too large to be in range\n",
    "            else:       distance[0,rr] = np.linalg.norm(mcs[r,:]-mcs[rr,:]) \n",
    "            \n",
    "            #calculate binary matrix of all cells that are in range\n",
    "            #--------------------------------------------------------------\n",
    "        mini = np.where(distance[0,:] < np.nanpercentile(distance[0,:],cnt))[0]\n",
    "        nnb[r,mini] = 1 #binary value defining whether in range or not \n",
    "    return(nnb)\n"
   ]
  },
  {
   "cell_type": "code",
   "execution_count": 28,
   "metadata": {},
   "outputs": [
    {
     "data": {
      "text/plain": [
       "['PTZ-WILDTYPE-02_2photon_sess-01-6dpf_PTZ20_run-01_realcoord.npy',\n",
       " 'PTZ-WILDTYPE-04_2photon_sess-01-6dpf_PTZ20_run-01_realcoord.npy',\n",
       " 'PTZ-WILDTYPE-05_2photon_sess-01-6dpf_PTZ20_run-01_realcoord.npy',\n",
       " 'PTZ-WILDTYPE-06_2photon_sess-01-6dpf_PTZ20_run-01_realcoord.npy',\n",
       " 'PTZ-WILDTYPE-07_2photon_sess-01-6dpf_PTZ20_run-01_realcoord.npy',\n",
       " 'PTZ-WILDTYPE-08_2photon_sess-01-6dpf_PTZ20_run-01_realcoord.npy',\n",
       " 'PTZ-WILDTYPE-09_2photon_sess-01-6dpf_PTZ20_run-01_realcoord.npy',\n",
       " 'PTZ-WILDTYPE-10_2photon_sess-01-6dpf_PTZ20_run-01_realcoord.npy',\n",
       " 'PTZ-WILDTYPE-11_2photon_sess-01-6dpf_PTZ20_run-01_realcoord.npy',\n",
       " 'PTZ-WILDTYPE-12_2photon_sess-01-6dpf_PTZ20_run-01_realcoord.npy']"
      ]
     },
     "execution_count": 28,
     "metadata": {},
     "output_type": "execute_result"
    }
   ],
   "source": [
    "# Create lists of coord data\n",
    "#---------------------------------------------------------------------------\n",
    "import glob\n",
    "import os\n",
    "experiment = 'PTZ-WILDTYPE'\n",
    "os.chdir(Fdata + experiment)\n",
    "\n",
    "coord_l = sorted(glob.glob('*PTZ20*realcoord*'))[:10]\n",
    "coord_l"
   ]
  },
  {
   "cell_type": "code",
   "execution_count": null,
   "metadata": {},
   "outputs": [],
   "source": [
    "cnt_list = [0.5, 1.5, 2.0, 2.5]\n",
    "rng = 6000\n",
    "dim = [.8, .8, 15]\n",
    "\n",
    "for coord in coord_l:\n",
    "    for c in cnt_list:\n",
    "        name = coord\n",
    "        nnb = neighbour(c, rng, dim, name)\n",
    "        np.save(Fdata + experiment +'/' + adfn.save_name(name) + '_' + str(c) + '_nnb.npy', nnb)\n",
    "\n",
    "\n",
    "    print('Done '+ coord)"
   ]
  },
  {
   "cell_type": "code",
   "execution_count": 30,
   "metadata": {},
   "outputs": [
    {
     "data": {
      "text/plain": [
       "(60, 10)"
      ]
     },
     "execution_count": 30,
     "metadata": {},
     "output_type": "execute_result"
    }
   ],
   "source": [
    "# Create lists of coord data\n",
    "#---------------------------------------------------------------------------\n",
    "import glob\n",
    "\n",
    "experiment = 'PTZ-WILDTYPE'\n",
    "os.chdir(Fdata + experiment)\n",
    "\n",
    "nnb_l = sorted(glob.glob('*PTZ20*_nnb*'))\n",
    "bind_l = sorted(glob.glob('*PTZ20*0.590*'))\n",
    "len(nnb_l), len(bind_l)"
   ]
  },
  {
   "cell_type": "code",
   "execution_count": 32,
   "metadata": {},
   "outputs": [
    {
     "name": "stdout",
     "output_type": "stream",
     "text": [
      "Done PTZ-WILDTYPE-02_2photon_sess-01-6dpf_PTZ20_run-01_3.0_nnb.npy\n",
      "Done PTZ-WILDTYPE-04_2photon_sess-01-6dpf_PTZ20_run-01_3.0_nnb.npy\n",
      "Done PTZ-WILDTYPE-05_2photon_sess-01-6dpf_PTZ20_run-01_3.0_nnb.npy\n",
      "Done PTZ-WILDTYPE-06_2photon_sess-01-6dpf_PTZ20_run-01_3.0_nnb.npy\n",
      "Done PTZ-WILDTYPE-07_2photon_sess-01-6dpf_PTZ20_run-01_3.0_nnb.npy\n",
      "Done PTZ-WILDTYPE-08_2photon_sess-01-6dpf_PTZ20_run-01_3.0_nnb.npy\n",
      "Done PTZ-WILDTYPE-09_2photon_sess-01-6dpf_PTZ20_run-01_3.0_nnb.npy\n",
      "Done PTZ-WILDTYPE-10_2photon_sess-01-6dpf_PTZ20_run-01_3.0_nnb.npy\n",
      "Done PTZ-WILDTYPE-11_2photon_sess-01-6dpf_PTZ20_run-01_3.0_nnb.npy\n",
      "Done PTZ-WILDTYPE-12_2photon_sess-01-6dpf_PTZ20_run-01_3.0_nnb.npy\n"
     ]
    }
   ],
   "source": [
    "count=0\n",
    "num_list = 0.5,1.0,1.5,2.0,2.5, 3.0\n",
    "for i in range(len(bind_l)):\n",
    "    for e in range(len(num_list)):\n",
    "        nnb = nnb_l[count]\n",
    "        bind = bind_l[i]\n",
    "        if np.load(nnb).shape[0] != np.load(bind).shape[0]:\n",
    "            print('errror')\n",
    "            break\n",
    "        else:    \n",
    "            av = crfn.avalanche(np.load(nnb), np.load(bind))[0]\n",
    "            name = nnb\n",
    "            np.save(Fdata + experiment +'/' + adfn.save_name(name) + '_nnb-' + str(num_list[e]) + '_av.npy', av)\n",
    "            count+=1\n",
    "    print('Done '+ nnb)"
   ]
  },
  {
   "cell_type": "code",
   "execution_count": null,
   "metadata": {},
   "outputs": [],
   "source": [
    "# Create lists of coord data\n",
    "#---------------------------------------------------------------------------\n",
    "import glob\n",
    "\n",
    "experiment = 'PTZ-WILDTYPE'\n",
    "os.chdir(F10t + 'Project/' + experiment)\n",
    "\n",
    "av_l = sorted(glob.glob('*0.590*nnb*av*'))\n",
    "av_l"
   ]
  },
  {
   "cell_type": "code",
   "execution_count": 3,
   "metadata": {},
   "outputs": [
    {
     "data": {
      "text/plain": [
       "['PTZ-WILDTYPE-12_2photon_sess-01-6dpf_PTZ20_run-01_nnb-0.5_av.npy',\n",
       " 'PTZ-WILDTYPE-12_2photon_sess-01-6dpf_PTZ20_run-01_nnb-1.0_av.npy',\n",
       " 'PTZ-WILDTYPE-12_2photon_sess-01-6dpf_PTZ20_run-01_nnb-1.5_av.npy',\n",
       " 'PTZ-WILDTYPE-12_2photon_sess-01-6dpf_PTZ20_run-01_nnb-2.0_av.npy',\n",
       " 'PTZ-WILDTYPE-12_2photon_sess-01-6dpf_PTZ20_run-01_nnb-2.5_av.npy',\n",
       " 'PTZ-WILDTYPE-12_2photon_sess-01-6dpf_PTZ20_run-01_nnb-3.0_av.npy']"
      ]
     },
     "execution_count": 3,
     "metadata": {},
     "output_type": "execute_result"
    }
   ],
   "source": [
    "# Create lists of coord data\n",
    "#---------------------------------------------------------------------------\n",
    "import glob\n",
    "\n",
    "experiment = 'PTZ-WILDTYPE'\n",
    "os.chdir(Fdata + experiment)\n",
    "\n",
    "av_l = sorted(glob.glob('*-12*PTZ20*nnb*_av*'))\n",
    "av_l"
   ]
  },
  {
   "cell_type": "code",
   "execution_count": 4,
   "metadata": {},
   "outputs": [
    {
     "name": "stdout",
     "output_type": "stream",
     "text": [
      "Done PTZ-WILDTYPE-12_2photon_sess-01-6dpf_PTZ20_run-01_nnb-0.5_av.npy\n",
      "Done PTZ-WILDTYPE-12_2photon_sess-01-6dpf_PTZ20_run-01_nnb-1.0_av.npy\n",
      "Done PTZ-WILDTYPE-12_2photon_sess-01-6dpf_PTZ20_run-01_nnb-1.5_av.npy\n",
      "Done PTZ-WILDTYPE-12_2photon_sess-01-6dpf_PTZ20_run-01_nnb-2.0_av.npy\n",
      "Done PTZ-WILDTYPE-12_2photon_sess-01-6dpf_PTZ20_run-01_nnb-2.5_av.npy\n",
      "Done PTZ-WILDTYPE-12_2photon_sess-01-6dpf_PTZ20_run-01_nnb-3.0_av.npy\n"
     ]
    }
   ],
   "source": [
    "for i in range(len(av_l)):\n",
    "    exp = crfn.power_exponent(np.load(av_l[i]), 2000)\n",
    "    name = av_l[i][:av_l[i].find('run')+15]\n",
    "    np.save(Fdata + experiment +'/' + name +'exp.npy', exp)\n",
    "    \n",
    "    llr = crfn.LLR(np.load(av_l[i]), 2000)\n",
    "    np.save(Fdata + experiment +'/' + name +'llr.npy', llr)\n",
    "    \n",
    "    dcc = crfn.DCC(np.load(av_l[i]))\n",
    "    np.save(Fdata + experiment +'/' + name +'dcc.npy', dcc)\n",
    "\n",
    "    print('Done '+ av_l[i])"
   ]
  },
  {
   "cell_type": "code",
   "execution_count": 17,
   "metadata": {},
   "outputs": [
    {
     "name": "stdout",
     "output_type": "stream",
     "text": [
      "Done PTZ-WILDTYPE-02_2photon_sess-01-6dpf_BLN_run-01_0.16nnb.npy\n",
      "Done PTZ-WILDTYPE-04_2photon_sess-01-6dpf_BLN_run-01_0.16nnb.npy\n",
      "Done PTZ-WILDTYPE-05_2photon_sess-01-6dpf_BLN_run-01_0.16nnb.npy\n",
      "Done PTZ-WILDTYPE-06_2photon_sess-01-6dpf_BLN_run-01_0.16nnb.npy\n",
      "Done PTZ-WILDTYPE-07_2photon_sess-01-6dpf_BLN_run-01_0.16nnb.npy\n",
      "Done PTZ-WILDTYPE-08_2photon_sess-01-6dpf_BLN_run-01_0.16nnb.npy\n",
      "Done PTZ-WILDTYPE-09_2photon_sess-01-6dpf_BLN_run-01_0.16nnb.npy\n",
      "Done PTZ-WILDTYPE-10_2photon_sess-01-6dpf_BLN_run-01_0.16nnb.npy\n",
      "Done PTZ-WILDTYPE-11_2photon_sess-01-6dpf_BLN_run-01_0.16nnb.npy\n",
      "Done PTZ-WILDTYPE-12_2photon_sess-01-6dpf_BLN_run-09_0.16nnb.npy\n"
     ]
    }
   ],
   "source": [
    "# 2\n",
    "for i in range(len(nnb_l)):\n",
    "    nnb = nnb_l[i]\n",
    "    bind = bind_l[i]\n",
    "    av2 = avalanche2(np.load(nnb), np.load(bind))[0]\n",
    "    av4 = avalanche4(np.load(nnb), np.load(bind))[0]\n",
    "    name = nnb\n",
    "    np.save(Fdata + experiment +'/' + adfn.save_name(name) +  '_av-2.npy', av2)\n",
    "    np.save(Fdata + experiment +'/' + adfn.save_name(name) + '_' +'_av-4.npy', av4)\n",
    "\n",
    "    print('Done '+ nnb)"
   ]
  },
  {
   "cell_type": "code",
   "execution_count": 7,
   "metadata": {},
   "outputs": [
    {
     "data": {
      "text/plain": [
       "['PTZ-WILDTYPE-02_2photon_sess-01-6dpf_BLN_run-01_av-2_exp.npy',\n",
       " 'PTZ-WILDTYPE-02_2photon_sess-01-6dpf_BLN_run-01_av-3_exp.npy',\n",
       " 'PTZ-WILDTYPE-02_2photon_sess-01-6dpf_BLN_run-01_av-4_exp.npy',\n",
       " 'PTZ-WILDTYPE-04_2photon_sess-01-6dpf_BLN_run-01_av-2_exp.npy',\n",
       " 'PTZ-WILDTYPE-04_2photon_sess-01-6dpf_BLN_run-01_av-3_exp.npy',\n",
       " 'PTZ-WILDTYPE-04_2photon_sess-01-6dpf_BLN_run-01_av-4_exp.npy',\n",
       " 'PTZ-WILDTYPE-05_2photon_sess-01-6dpf_BLN_run-01_av-2_exp.npy',\n",
       " 'PTZ-WILDTYPE-05_2photon_sess-01-6dpf_BLN_run-01_av-3_exp.npy',\n",
       " 'PTZ-WILDTYPE-05_2photon_sess-01-6dpf_BLN_run-01_av-4_exp.npy',\n",
       " 'PTZ-WILDTYPE-06_2photon_sess-01-6dpf_BLN_run-01_av-2_exp.npy',\n",
       " 'PTZ-WILDTYPE-06_2photon_sess-01-6dpf_BLN_run-01_av-3_exp.npy',\n",
       " 'PTZ-WILDTYPE-06_2photon_sess-01-6dpf_BLN_run-01_av-4_exp.npy',\n",
       " 'PTZ-WILDTYPE-07_2photon_sess-01-6dpf_BLN_run-01_av-2_exp.npy',\n",
       " 'PTZ-WILDTYPE-07_2photon_sess-01-6dpf_BLN_run-01_av-3_exp.npy',\n",
       " 'PTZ-WILDTYPE-07_2photon_sess-01-6dpf_BLN_run-01_av-4_exp.npy',\n",
       " 'PTZ-WILDTYPE-08_2photon_sess-01-6dpf_BLN_run-01_av-2_exp.npy',\n",
       " 'PTZ-WILDTYPE-08_2photon_sess-01-6dpf_BLN_run-01_av-3_exp.npy',\n",
       " 'PTZ-WILDTYPE-08_2photon_sess-01-6dpf_BLN_run-01_av-4_exp.npy',\n",
       " 'PTZ-WILDTYPE-09_2photon_sess-01-6dpf_BLN_run-01_av-2_exp.npy',\n",
       " 'PTZ-WILDTYPE-09_2photon_sess-01-6dpf_BLN_run-01_av-3_exp.npy',\n",
       " 'PTZ-WILDTYPE-09_2photon_sess-01-6dpf_BLN_run-01_av-4_exp.npy',\n",
       " 'PTZ-WILDTYPE-10_2photon_sess-01-6dpf_BLN_run-01_av-2_exp.npy',\n",
       " 'PTZ-WILDTYPE-10_2photon_sess-01-6dpf_BLN_run-01_av-3_exp.npy',\n",
       " 'PTZ-WILDTYPE-10_2photon_sess-01-6dpf_BLN_run-01_av-4_exp.npy',\n",
       " 'PTZ-WILDTYPE-11_2photon_sess-01-6dpf_BLN_run-01_av-2_exp.npy',\n",
       " 'PTZ-WILDTYPE-11_2photon_sess-01-6dpf_BLN_run-01_av-3_exp.npy',\n",
       " 'PTZ-WILDTYPE-11_2photon_sess-01-6dpf_BLN_run-01_av-4_exp.npy',\n",
       " 'PTZ-WILDTYPE-12_2photon_sess-01-6dpf_BLN_run-09_av-2_exp.npy',\n",
       " 'PTZ-WILDTYPE-12_2photon_sess-01-6dpf_BLN_run-09_av-3_exp.npy',\n",
       " 'PTZ-WILDTYPE-12_2photon_sess-01-6dpf_BLN_run-09_av-4_exp.npy']"
      ]
     },
     "execution_count": 7,
     "metadata": {},
     "output_type": "execute_result"
    }
   ],
   "source": [
    "# Create lists of coord data\n",
    "#---------------------------------------------------------------------------\n",
    "import glob\n",
    "\n",
    "experiment = 'PTZ-WILDTYPE'\n",
    "os.chdir(Fdata + experiment)\n",
    "\n",
    "av_l = sorted(glob.glob('*_av-*exp*'))\n",
    "av_l"
   ]
  },
  {
   "cell_type": "code",
   "execution_count": 15,
   "metadata": {},
   "outputs": [
    {
     "data": {
      "text/plain": [
       "['PTZ-WILDTYPE-02_2photon_sess-01-6dpf_BLN_run-01_av-4_exp.npy',\n",
       " 'PTZ-WILDTYPE-04_2photon_sess-01-6dpf_BLN_run-01_av-4_exp.npy',\n",
       " 'PTZ-WILDTYPE-05_2photon_sess-01-6dpf_BLN_run-01_av-4_exp.npy',\n",
       " 'PTZ-WILDTYPE-06_2photon_sess-01-6dpf_BLN_run-01_av-4_exp.npy',\n",
       " 'PTZ-WILDTYPE-07_2photon_sess-01-6dpf_BLN_run-01_av-4_exp.npy',\n",
       " 'PTZ-WILDTYPE-08_2photon_sess-01-6dpf_BLN_run-01_av-4_exp.npy',\n",
       " 'PTZ-WILDTYPE-09_2photon_sess-01-6dpf_BLN_run-01_av-4_exp.npy',\n",
       " 'PTZ-WILDTYPE-10_2photon_sess-01-6dpf_BLN_run-01_av-4_exp.npy',\n",
       " 'PTZ-WILDTYPE-11_2photon_sess-01-6dpf_BLN_run-01_av-4_exp.npy',\n",
       " 'PTZ-WILDTYPE-12_2photon_sess-01-6dpf_BLN_run-09_av-4_exp.npy']"
      ]
     },
     "execution_count": 15,
     "metadata": {},
     "output_type": "execute_result"
    }
   ],
   "source": [
    "num_list = ['2', '3', '4']\n",
    "fish_list = ['02', '04', '05', '06', '07', '08', '09', '10', '11', '12']\n",
    "\n",
    "\n",
    "for num in num_list:\n",
    "    curr_l = sorted(glob.glob('*_av-' + num + '_exp*'))\n",
    "    for \n",
    "curr_l"
   ]
  },
  {
   "cell_type": "code",
   "execution_count": 16,
   "metadata": {},
   "outputs": [
    {
     "data": {
      "text/plain": [
       "array([0, 1, 2, 3, 4, 5, 6, 7, 8, 9])"
      ]
     },
     "execution_count": 16,
     "metadata": {},
     "output_type": "execute_result"
    }
   ],
   "source": [
    "np.zeros(10)"
   ]
  },
  {
   "cell_type": "code",
   "execution_count": 18,
   "metadata": {},
   "outputs": [
    {
     "data": {
      "image/png": "[encoded data removed]",
      "text/plain": [
       "<Figure size 720x360 with 1 Axes>"
      ]
     },
     "metadata": {
      "needs_background": "light"
     },
     "output_type": "display_data"
    }
   ],
   "source": [
    "num_list = ['2', '3', '4']\n",
    "fish_list = ['k', 'blue', 'green']\n",
    "\n",
    "choose = 0\n",
    "\n",
    "fig = plt.figure(figsize = (10,5))\n",
    "ax = fig.add_subplot(1,1,1)\n",
    "\n",
    "for y,num in enumerate(num_list):\n",
    "    curr_l = sorted(glob.glob('*_av-' + num + '_exp*'))\n",
    "    fill_me = np.zeros(10)\n",
    "    \n",
    "    for x,curr in enumerate(curr_l):\n",
    "        fill_me[x] = np.load(curr)[choose]\n",
    "    plt.scatter(np.arange(10), fill_me, c = fish_list[y], s = 5)\n",
    "plt.show()"
   ]
  },
  {
   "cell_type": "code",
   "execution_count": 19,
   "metadata": {},
   "outputs": [
    {
     "data": {
      "image/png": "[encoded data removed]",
      "text/plain": [
       "<Figure size 720x360 with 1 Axes>"
      ]
     },
     "metadata": {
      "needs_background": "light"
     },
     "output_type": "display_data"
    }
   ],
   "source": [
    "num_list = ['2', '3', '4']\n",
    "fish_list = ['k', 'blue', 'green']\n",
    "\n",
    "choose = 1\n",
    "\n",
    "fig = plt.figure(figsize = (10,5))\n",
    "ax = fig.add_subplot(1,1,1)\n",
    "\n",
    "for y,num in enumerate(num_list):\n",
    "    curr_l = sorted(glob.glob('*_av-' + num + '_exp*'))\n",
    "    fill_me = np.zeros(10)\n",
    "    \n",
    "    for x,curr in enumerate(curr_l):\n",
    "        fill_me[x] = np.load(curr)[choose]\n",
    "    plt.scatter(np.arange(10), fill_me, c = fish_list[y], s = 5)\n",
    "plt.show()"
   ]
  },
  {
   "cell_type": "code",
   "execution_count": 25,
   "metadata": {},
   "outputs": [
    {
     "data": {
      "text/plain": [
       "['PTZ-WILDTYPE-02_2photon_sess-01-6dpf_BLN_run-01_av-4_llr.npy',\n",
       " 'PTZ-WILDTYPE-04_2photon_sess-01-6dpf_BLN_run-01_av-4_llr.npy',\n",
       " 'PTZ-WILDTYPE-05_2photon_sess-01-6dpf_BLN_run-01_av-4_llr.npy',\n",
       " 'PTZ-WILDTYPE-06_2photon_sess-01-6dpf_BLN_run-01_av-4_llr.npy',\n",
       " 'PTZ-WILDTYPE-07_2photon_sess-01-6dpf_BLN_run-01_av-4_llr.npy',\n",
       " 'PTZ-WILDTYPE-08_2photon_sess-01-6dpf_BLN_run-01_av-4_llr.npy',\n",
       " 'PTZ-WILDTYPE-09_2photon_sess-01-6dpf_BLN_run-01_av-4_llr.npy',\n",
       " 'PTZ-WILDTYPE-10_2photon_sess-01-6dpf_BLN_run-01_av-4_llr.npy',\n",
       " 'PTZ-WILDTYPE-11_2photon_sess-01-6dpf_BLN_run-01_av-4_llr.npy',\n",
       " 'PTZ-WILDTYPE-12_2photon_sess-01-6dpf_BLN_run-09_av-4_llr.npy']"
      ]
     },
     "execution_count": 25,
     "metadata": {},
     "output_type": "execute_result"
    }
   ],
   "source": [
    "num_list = ['2', '3', '4']\n",
    "fish_list = ['02', '04', '05', '06', '07', '08', '09', '10', '11', '12']\n",
    "\n",
    "\n",
    "for num in num_list:\n",
    "    curr_l = sorted(glob.glob('*_av-' + num + '_llr*'))\n",
    "curr_l"
   ]
  },
  {
   "cell_type": "code",
   "execution_count": 27,
   "metadata": {},
   "outputs": [
    {
     "data": {
      "image/png": "[encoded data removed]",
      "text/plain": [
       "<Figure size 720x360 with 1 Axes>"
      ]
     },
     "metadata": {
      "needs_background": "light"
     },
     "output_type": "display_data"
    }
   ],
   "source": [
    "num_list = ['2', '3', '4']\n",
    "fish_list = ['k', 'blue', 'green']\n",
    "\n",
    "choose = 0\n",
    "\n",
    "fig = plt.figure(figsize = (10,5))\n",
    "ax = fig.add_subplot(1,1,1)\n",
    "\n",
    "for y,num in enumerate(num_list):\n",
    "    curr_l = sorted(glob.glob('*_av-' + num + '_llr*'))\n",
    "    fill_me = np.zeros(10)\n",
    "    \n",
    "    for x,curr in enumerate(curr_l):\n",
    "        fill_me[x] = np.load(curr)[choose]\n",
    "    plt.scatter(np.arange(10), fill_me, c = fish_list[y], s = 5)\n",
    "plt.show()"
   ]
  },
  {
   "cell_type": "code",
   "execution_count": 28,
   "metadata": {
    "collapsed": true,
    "jupyter": {
     "outputs_hidden": true
    }
   },
   "outputs": [
    {
     "data": {
      "image/png": "[encoded data removed]",
      "text/plain": [
       "<Figure size 720x360 with 1 Axes>"
      ]
     },
     "metadata": {
      "needs_background": "light"
     },
     "output_type": "display_data"
    }
   ],
   "source": [
    "num_list = ['2', '3', '4']\n",
    "fish_list = ['k', 'blue', 'green']\n",
    "\n",
    "choose = 1\n",
    "\n",
    "fig = plt.figure(figsize = (10,5))\n",
    "ax = fig.add_subplot(1,1,1)\n",
    "\n",
    "for y,num in enumerate(num_list):\n",
    "    curr_l = sorted(glob.glob('*_av-' + num + '_llr*'))\n",
    "    fill_me = np.zeros(10)\n",
    "    \n",
    "    for x,curr in enumerate(curr_l):\n",
    "        fill_me[x] = np.load(curr)[choose]\n",
    "    plt.scatter(np.arange(10), fill_me, c = fish_list[y], s = 5)\n",
    "plt.show()"
   ]
  },
  {
   "cell_type": "code",
   "execution_count": 76,
   "metadata": {},
   "outputs": [
    {
     "data": {
      "text/plain": [
       "(['PTZ-WILDTYPE-02_2photon_sess-01-6dpf_BLN_run-01_av-2_exp.npy',\n",
       "  'PTZ-WILDTYPE-04_2photon_sess-01-6dpf_BLN_run-01_av-2_exp.npy',\n",
       "  'PTZ-WILDTYPE-05_2photon_sess-01-6dpf_BLN_run-01_av-2_exp.npy',\n",
       "  'PTZ-WILDTYPE-06_2photon_sess-01-6dpf_BLN_run-01_av-2_exp.npy',\n",
       "  'PTZ-WILDTYPE-07_2photon_sess-01-6dpf_BLN_run-01_av-2_exp.npy',\n",
       "  'PTZ-WILDTYPE-08_2photon_sess-01-6dpf_BLN_run-01_av-2_exp.npy',\n",
       "  'PTZ-WILDTYPE-09_2photon_sess-01-6dpf_BLN_run-01_av-2_exp.npy',\n",
       "  'PTZ-WILDTYPE-10_2photon_sess-01-6dpf_BLN_run-01_av-2_exp.npy',\n",
       "  'PTZ-WILDTYPE-11_2photon_sess-01-6dpf_BLN_run-01_av-2_exp.npy',\n",
       "  'PTZ-WILDTYPE-12_2photon_sess-01-6dpf_BLN_run-09_av-2_exp.npy'],\n",
       " ['PTZ-WILDTYPE-02_2photon_sess-01-6dpf_BLN_run-01_av-3_exp.npy',\n",
       "  'PTZ-WILDTYPE-04_2photon_sess-01-6dpf_BLN_run-01_av-3_exp.npy',\n",
       "  'PTZ-WILDTYPE-05_2photon_sess-01-6dpf_BLN_run-01_av-3_exp.npy',\n",
       "  'PTZ-WILDTYPE-06_2photon_sess-01-6dpf_BLN_run-01_av-3_exp.npy',\n",
       "  'PTZ-WILDTYPE-07_2photon_sess-01-6dpf_BLN_run-01_av-3_exp.npy',\n",
       "  'PTZ-WILDTYPE-08_2photon_sess-01-6dpf_BLN_run-01_av-3_exp.npy',\n",
       "  'PTZ-WILDTYPE-09_2photon_sess-01-6dpf_BLN_run-01_av-3_exp.npy',\n",
       "  'PTZ-WILDTYPE-10_2photon_sess-01-6dpf_BLN_run-01_av-3_exp.npy',\n",
       "  'PTZ-WILDTYPE-11_2photon_sess-01-6dpf_BLN_run-01_av-3_exp.npy',\n",
       "  'PTZ-WILDTYPE-12_2photon_sess-01-6dpf_BLN_run-09_av-3_exp.npy'],\n",
       " ['PTZ-WILDTYPE-02_2photon_sess-01-6dpf_BLN_run-01_av-4_exp.npy',\n",
       "  'PTZ-WILDTYPE-04_2photon_sess-01-6dpf_BLN_run-01_av-4_exp.npy',\n",
       "  'PTZ-WILDTYPE-05_2photon_sess-01-6dpf_BLN_run-01_av-4_exp.npy',\n",
       "  'PTZ-WILDTYPE-06_2photon_sess-01-6dpf_BLN_run-01_av-4_exp.npy',\n",
       "  'PTZ-WILDTYPE-07_2photon_sess-01-6dpf_BLN_run-01_av-4_exp.npy',\n",
       "  'PTZ-WILDTYPE-08_2photon_sess-01-6dpf_BLN_run-01_av-4_exp.npy',\n",
       "  'PTZ-WILDTYPE-09_2photon_sess-01-6dpf_BLN_run-01_av-4_exp.npy',\n",
       "  'PTZ-WILDTYPE-10_2photon_sess-01-6dpf_BLN_run-01_av-4_exp.npy',\n",
       "  'PTZ-WILDTYPE-11_2photon_sess-01-6dpf_BLN_run-01_av-4_exp.npy',\n",
       "  'PTZ-WILDTYPE-12_2photon_sess-01-6dpf_BLN_run-09_av-4_exp.npy'])"
      ]
     },
     "execution_count": 76,
     "metadata": {},
     "output_type": "execute_result"
    }
   ],
   "source": [
    "\n",
    "two_l = sorted(glob.glob('*_av-2*_exp*'))\n",
    "three_l = sorted(glob.glob('*_av-3*_exp*'))\n",
    "four_l = sorted(glob.glob('*_av-4*_exp*'))\n",
    "\n",
    "two_l, three_l, four_l"
   ]
  },
  {
   "cell_type": "code",
   "execution_count": 77,
   "metadata": {},
   "outputs": [],
   "source": [
    "two = dome(two_l)\n",
    "three = dome(three_l)\n",
    "four = dome(four_l)"
   ]
  },
  {
   "cell_type": "code",
   "execution_count": 78,
   "metadata": {},
   "outputs": [],
   "source": [
    "dcc = np.zeros((30))\n",
    "dcc_list = [two, three, four]\n",
    "    \n",
    "choose = 0\n",
    "count=0\n",
    "for i in range(len(dcc_list)):\n",
    "    for y in range(10):\n",
    "        dcc[count] = dcc_list[i][y][choose]\n",
    "        count+=1\n",
    "dcc_df = pd.DataFrame({\"lrr\":dcc , \"Labels\":  np.append(adfn.repeat_list('2',10),np.append(adfn.repeat_list('3',10),adfn.repeat_list('4',10)))})"
   ]
  },
  {
   "cell_type": "code",
   "execution_count": 79,
   "metadata": {},
   "outputs": [
    {
     "data": {
      "image/png": "[encoded data removed]",
      "text/plain": [
       "<Figure size 288x360 with 1 Axes>"
      ]
     },
     "metadata": {
      "needs_background": "light"
     },
     "output_type": "display_data"
    }
   ],
   "source": [
    "from matplotlib.collections import PathCollection\n",
    "import seaborn as sns\n",
    "from matplotlib import cm\n",
    "colors2 = ['black','blue','green']\n",
    "fig, ax = plt.subplots(figsize = (4,5))\n",
    "ax = sns.pointplot(x=\"Labels\", y=\"lrr\", data = dcc_df, hue = 'Labels', palette = colors2, join=True, ci=0, scale=5, markers = '_')\n",
    "for artist in ax.lines:\n",
    "    artist.set_zorder(10)\n",
    "for artist in ax.findobj(PathCollection):\n",
    "    artist.set_zorder(11)\n",
    "#ax = sns.pointplot(x=\"Labels\", y=\"DCC\", data=dcc_df, color = 'grey', linestyles = [\"--\"], ci = 0, scale=0.6)\n",
    "ax = sns.stripplot(x=\"Labels\", y=\"lrr\", data=dcc_df, hue = 'Labels', palette = colors2, size = 15, jitter = True ,alpha = 0.5)\n",
    "plt.yticks(size = 20)\n",
    "\n",
    "points = ax.collections\n",
    "ax.spines['top'].set_visible(False)\n",
    "ax.spines['right'].set_visible(False)\n",
    "ax.set_xlabel(' ', size = '13')\n",
    "ax.set_ylabel('DCC', size = '18')\n",
    "#ax.set_xticklabels(['Baseline', 'Focal', 'Generalised'], size = 15)\n",
    "ax.legend_.remove()\n",
    "#plt.savefig(Ffig + '1ovz_ptz.svg', transparent = True)\n",
    "plt.show()"
   ]
  },
  {
   "cell_type": "code",
   "execution_count": 80,
   "metadata": {},
   "outputs": [],
   "source": [
    "dcc = np.zeros((30))\n",
    "dcc_list = [two, three, four]\n",
    "    \n",
    "choose = 1\n",
    "count=0\n",
    "for i in range(len(dcc_list)):\n",
    "    for y in range(10):\n",
    "        dcc[count] = dcc_list[i][y][choose]\n",
    "        count+=1\n",
    "dcc_df = pd.DataFrame({\"lrr\":dcc , \"Labels\":  np.append(adfn.repeat_list('2',10),np.append(adfn.repeat_list('3',10),adfn.repeat_list('4',10)))})"
   ]
  },
  {
   "cell_type": "code",
   "execution_count": 81,
   "metadata": {},
   "outputs": [
    {
     "data": {
      "image/png": "[encoded data removed]",
      "text/plain": [
       "<Figure size 288x360 with 1 Axes>"
      ]
     },
     "metadata": {
      "needs_background": "light"
     },
     "output_type": "display_data"
    }
   ],
   "source": [
    "from matplotlib.collections import PathCollection\n",
    "import seaborn as sns\n",
    "from matplotlib import cm\n",
    "colors2 = ['black','blue','green']\n",
    "fig, ax = plt.subplots(figsize = (4,5))\n",
    "ax = sns.pointplot(x=\"Labels\", y=\"lrr\", data = dcc_df, hue = 'Labels', palette = colors2, join=True, ci=0, scale=5, markers = '_')\n",
    "for artist in ax.lines:\n",
    "    artist.set_zorder(10)\n",
    "for artist in ax.findobj(PathCollection):\n",
    "    artist.set_zorder(11)\n",
    "#ax = sns.pointplot(x=\"Labels\", y=\"DCC\", data=dcc_df, color = 'grey', linestyles = [\"--\"], ci = 0, scale=0.6)\n",
    "ax = sns.stripplot(x=\"Labels\", y=\"lrr\", data=dcc_df, hue = 'Labels', palette = colors2, size = 15, jitter = True ,alpha = 0.5)\n",
    "plt.yticks(size = 20)\n",
    "\n",
    "points = ax.collections\n",
    "ax.spines['top'].set_visible(False)\n",
    "ax.spines['right'].set_visible(False)\n",
    "ax.set_xlabel(' ', size = '13')\n",
    "ax.set_ylabel('DCC', size = '18')\n",
    "#ax.set_xticklabels(['Baseline', 'Focal', 'Generalised'], size = 15)\n",
    "ax.legend_.remove()\n",
    "#plt.savefig(Ffig + '1ovz_ptz.svg', transparent = True)\n",
    "plt.show()"
   ]
  },
  {
   "cell_type": "code",
   "execution_count": 67,
   "metadata": {},
   "outputs": [
    {
     "data": {
      "text/plain": [
       "(['PTZ-WILDTYPE-02_2photon_sess-01-6dpf_BLN_run-01_av-2_llr.npy',\n",
       "  'PTZ-WILDTYPE-04_2photon_sess-01-6dpf_BLN_run-01_av-2_llr.npy',\n",
       "  'PTZ-WILDTYPE-05_2photon_sess-01-6dpf_BLN_run-01_av-2_llr.npy',\n",
       "  'PTZ-WILDTYPE-06_2photon_sess-01-6dpf_BLN_run-01_av-2_llr.npy',\n",
       "  'PTZ-WILDTYPE-07_2photon_sess-01-6dpf_BLN_run-01_av-2_llr.npy',\n",
       "  'PTZ-WILDTYPE-08_2photon_sess-01-6dpf_BLN_run-01_av-2_llr.npy',\n",
       "  'PTZ-WILDTYPE-09_2photon_sess-01-6dpf_BLN_run-01_av-2_llr.npy',\n",
       "  'PTZ-WILDTYPE-10_2photon_sess-01-6dpf_BLN_run-01_av-2_llr.npy',\n",
       "  'PTZ-WILDTYPE-11_2photon_sess-01-6dpf_BLN_run-01_av-2_llr.npy',\n",
       "  'PTZ-WILDTYPE-12_2photon_sess-01-6dpf_BLN_run-09_av-2_llr.npy'],\n",
       " ['PTZ-WILDTYPE-02_2photon_sess-01-6dpf_BLN_run-01_av-3_llr.npy',\n",
       "  'PTZ-WILDTYPE-04_2photon_sess-01-6dpf_BLN_run-01_av-3_llr.npy',\n",
       "  'PTZ-WILDTYPE-05_2photon_sess-01-6dpf_BLN_run-01_av-3_llr.npy',\n",
       "  'PTZ-WILDTYPE-06_2photon_sess-01-6dpf_BLN_run-01_av-3_llr.npy',\n",
       "  'PTZ-WILDTYPE-07_2photon_sess-01-6dpf_BLN_run-01_av-3_llr.npy',\n",
       "  'PTZ-WILDTYPE-08_2photon_sess-01-6dpf_BLN_run-01_av-3_llr.npy',\n",
       "  'PTZ-WILDTYPE-09_2photon_sess-01-6dpf_BLN_run-01_av-3_llr.npy',\n",
       "  'PTZ-WILDTYPE-10_2photon_sess-01-6dpf_BLN_run-01_av-3_llr.npy',\n",
       "  'PTZ-WILDTYPE-11_2photon_sess-01-6dpf_BLN_run-01_av-3_llr.npy',\n",
       "  'PTZ-WILDTYPE-12_2photon_sess-01-6dpf_BLN_run-09_av-3_llr.npy'],\n",
       " ['PTZ-WILDTYPE-02_2photon_sess-01-6dpf_BLN_run-01_av-4_llr.npy',\n",
       "  'PTZ-WILDTYPE-04_2photon_sess-01-6dpf_BLN_run-01_av-4_llr.npy',\n",
       "  'PTZ-WILDTYPE-05_2photon_sess-01-6dpf_BLN_run-01_av-4_llr.npy',\n",
       "  'PTZ-WILDTYPE-06_2photon_sess-01-6dpf_BLN_run-01_av-4_llr.npy',\n",
       "  'PTZ-WILDTYPE-07_2photon_sess-01-6dpf_BLN_run-01_av-4_llr.npy',\n",
       "  'PTZ-WILDTYPE-08_2photon_sess-01-6dpf_BLN_run-01_av-4_llr.npy',\n",
       "  'PTZ-WILDTYPE-09_2photon_sess-01-6dpf_BLN_run-01_av-4_llr.npy',\n",
       "  'PTZ-WILDTYPE-10_2photon_sess-01-6dpf_BLN_run-01_av-4_llr.npy',\n",
       "  'PTZ-WILDTYPE-11_2photon_sess-01-6dpf_BLN_run-01_av-4_llr.npy',\n",
       "  'PTZ-WILDTYPE-12_2photon_sess-01-6dpf_BLN_run-09_av-4_llr.npy'])"
      ]
     },
     "execution_count": 67,
     "metadata": {},
     "output_type": "execute_result"
    }
   ],
   "source": [
    "\n",
    "two_l = sorted(glob.glob('*_av-2*_llr*'))\n",
    "three_l = sorted(glob.glob('*_av-3*_llr*'))\n",
    "four_l = sorted(glob.glob('*_av-4*_llr*'))\n",
    "\n",
    "two_l, three_l, four_l"
   ]
  },
  {
   "cell_type": "code",
   "execution_count": 69,
   "metadata": {},
   "outputs": [],
   "source": [
    "two = dome(two_l)\n",
    "three = dome(three_l)\n",
    "four = dome(four_l)"
   ]
  },
  {
   "cell_type": "code",
   "execution_count": 70,
   "metadata": {},
   "outputs": [],
   "source": [
    "dcc = np.zeros((30))\n",
    "dcc_list = [two, three, four]\n",
    "    \n",
    "choose = 0\n",
    "count=0\n",
    "for i in range(len(dcc_list)):\n",
    "    for y in range(10):\n",
    "        dcc[count] = dcc_list[i][y][choose]\n",
    "        count+=1\n",
    "dcc_df = pd.DataFrame({\"lrr\":dcc , \"Labels\":  np.append(adfn.repeat_list('2',10),np.append(adfn.repeat_list('3',10),adfn.repeat_list('4',10)))})"
   ]
  },
  {
   "cell_type": "code",
   "execution_count": 71,
   "metadata": {},
   "outputs": [
    {
     "data": {
      "image/png": "[encoded data removed]",
      "text/plain": [
       "<Figure size 288x360 with 1 Axes>"
      ]
     },
     "metadata": {
      "needs_background": "light"
     },
     "output_type": "display_data"
    }
   ],
   "source": [
    "from matplotlib.collections import PathCollection\n",
    "import seaborn as sns\n",
    "from matplotlib import cm\n",
    "colors2 = ['black','blue','green']\n",
    "fig, ax = plt.subplots(figsize = (4,5))\n",
    "ax = sns.pointplot(x=\"Labels\", y=\"lrr\", data = dcc_df, hue = 'Labels', palette = colors2, join=True, ci=0, scale=5, markers = '_')\n",
    "for artist in ax.lines:\n",
    "    artist.set_zorder(10)\n",
    "for artist in ax.findobj(PathCollection):\n",
    "    artist.set_zorder(11)\n",
    "#ax = sns.pointplot(x=\"Labels\", y=\"DCC\", data=dcc_df, color = 'grey', linestyles = [\"--\"], ci = 0, scale=0.6)\n",
    "ax = sns.stripplot(x=\"Labels\", y=\"lrr\", data=dcc_df, hue = 'Labels', palette = colors2, size = 15, jitter = True ,alpha = 0.5)\n",
    "plt.yticks(size = 20)\n",
    "\n",
    "points = ax.collections\n",
    "ax.spines['top'].set_visible(False)\n",
    "ax.spines['right'].set_visible(False)\n",
    "ax.set_xlabel(' ', size = '13')\n",
    "ax.set_ylabel('DCC', size = '18')\n",
    "#ax.set_xticklabels(['Baseline', 'Focal', 'Generalised'], size = 15)\n",
    "ax.legend_.remove()\n",
    "#plt.savefig(Ffig + '1ovz_ptz.svg', transparent = True)\n",
    "plt.show()"
   ]
  },
  {
   "cell_type": "code",
   "execution_count": 73,
   "metadata": {},
   "outputs": [],
   "source": [
    "dcc = np.zeros((30))\n",
    "dcc_list = [two, three, four]\n",
    "    \n",
    "choose = 1\n",
    "count=0\n",
    "for i in range(len(dcc_list)):\n",
    "    for y in range(10):\n",
    "        dcc[count] = dcc_list[i][y][choose]\n",
    "        count+=1\n",
    "dcc_df = pd.DataFrame({\"lrr\":dcc , \"Labels\":  np.append(adfn.repeat_list('2',10),np.append(adfn.repeat_list('3',10),adfn.repeat_list('4',10)))})"
   ]
  },
  {
   "cell_type": "code",
   "execution_count": 74,
   "metadata": {},
   "outputs": [
    {
     "data": {
      "image/png": "[encoded data removed]",
      "text/plain": [
       "<Figure size 288x360 with 1 Axes>"
      ]
     },
     "metadata": {
      "needs_background": "light"
     },
     "output_type": "display_data"
    }
   ],
   "source": [
    "from matplotlib.collections import PathCollection\n",
    "import seaborn as sns\n",
    "from matplotlib import cm\n",
    "colors2 = ['black','blue','green']\n",
    "fig, ax = plt.subplots(figsize = (4,5))\n",
    "ax = sns.pointplot(x=\"Labels\", y=\"lrr\", data = dcc_df, hue = 'Labels', palette = colors2, join=True, ci=0, scale=5, markers = '_')\n",
    "for artist in ax.lines:\n",
    "    artist.set_zorder(10)\n",
    "for artist in ax.findobj(PathCollection):\n",
    "    artist.set_zorder(11)\n",
    "#ax = sns.pointplot(x=\"Labels\", y=\"DCC\", data=dcc_df, color = 'grey', linestyles = [\"--\"], ci = 0, scale=0.6)\n",
    "ax = sns.stripplot(x=\"Labels\", y=\"lrr\", data=dcc_df, hue = 'Labels', palette = colors2, size = 15, jitter = True ,alpha = 0.5)\n",
    "plt.yticks(size = 20)\n",
    "\n",
    "points = ax.collections\n",
    "ax.spines['top'].set_visible(False)\n",
    "ax.spines['right'].set_visible(False)\n",
    "ax.set_xlabel(' ', size = '13')\n",
    "ax.set_ylabel('DCC', size = '18')\n",
    "#ax.set_xticklabels(['Baseline', 'Focal', 'Generalised'], size = 15)\n",
    "ax.legend_.remove()\n",
    "#plt.savefig(Ffig + '1ovz_ptz.svg', transparent = True)\n",
    "plt.show()"
   ]
  },
  {
   "cell_type": "code",
   "execution_count": 58,
   "metadata": {},
   "outputs": [
    {
     "data": {
      "text/plain": [
       "(['PTZ-WILDTYPE-02_2photon_sess-01-6dpf_BLN_run-01_av-2_dcc.npy',\n",
       "  'PTZ-WILDTYPE-04_2photon_sess-01-6dpf_BLN_run-01_av-2_dcc.npy',\n",
       "  'PTZ-WILDTYPE-05_2photon_sess-01-6dpf_BLN_run-01_av-2_dcc.npy',\n",
       "  'PTZ-WILDTYPE-06_2photon_sess-01-6dpf_BLN_run-01_av-2_dcc.npy',\n",
       "  'PTZ-WILDTYPE-07_2photon_sess-01-6dpf_BLN_run-01_av-2_dcc.npy',\n",
       "  'PTZ-WILDTYPE-08_2photon_sess-01-6dpf_BLN_run-01_av-2_dcc.npy',\n",
       "  'PTZ-WILDTYPE-09_2photon_sess-01-6dpf_BLN_run-01_av-2_dcc.npy',\n",
       "  'PTZ-WILDTYPE-10_2photon_sess-01-6dpf_BLN_run-01_av-2_dcc.npy',\n",
       "  'PTZ-WILDTYPE-11_2photon_sess-01-6dpf_BLN_run-01_av-2_dcc.npy',\n",
       "  'PTZ-WILDTYPE-12_2photon_sess-01-6dpf_BLN_run-09_av-2_dcc.npy'],\n",
       " ['PTZ-WILDTYPE-02_2photon_sess-01-6dpf_BLN_run-01_av-3_dcc.npy',\n",
       "  'PTZ-WILDTYPE-04_2photon_sess-01-6dpf_BLN_run-01_av-3_dcc.npy',\n",
       "  'PTZ-WILDTYPE-05_2photon_sess-01-6dpf_BLN_run-01_av-3_dcc.npy',\n",
       "  'PTZ-WILDTYPE-06_2photon_sess-01-6dpf_BLN_run-01_av-3_dcc.npy',\n",
       "  'PTZ-WILDTYPE-07_2photon_sess-01-6dpf_BLN_run-01_av-3_dcc.npy',\n",
       "  'PTZ-WILDTYPE-08_2photon_sess-01-6dpf_BLN_run-01_av-3_dcc.npy',\n",
       "  'PTZ-WILDTYPE-09_2photon_sess-01-6dpf_BLN_run-01_av-3_dcc.npy',\n",
       "  'PTZ-WILDTYPE-10_2photon_sess-01-6dpf_BLN_run-01_av-3_dcc.npy',\n",
       "  'PTZ-WILDTYPE-11_2photon_sess-01-6dpf_BLN_run-01_av-3_dcc.npy',\n",
       "  'PTZ-WILDTYPE-12_2photon_sess-01-6dpf_BLN_run-09_av-3_dcc.npy'],\n",
       " ['PTZ-WILDTYPE-02_2photon_sess-01-6dpf_BLN_run-01_av-4_dcc.npy',\n",
       "  'PTZ-WILDTYPE-04_2photon_sess-01-6dpf_BLN_run-01_av-4_dcc.npy',\n",
       "  'PTZ-WILDTYPE-05_2photon_sess-01-6dpf_BLN_run-01_av-4_dcc.npy',\n",
       "  'PTZ-WILDTYPE-06_2photon_sess-01-6dpf_BLN_run-01_av-4_dcc.npy',\n",
       "  'PTZ-WILDTYPE-07_2photon_sess-01-6dpf_BLN_run-01_av-4_dcc.npy',\n",
       "  'PTZ-WILDTYPE-08_2photon_sess-01-6dpf_BLN_run-01_av-4_dcc.npy',\n",
       "  'PTZ-WILDTYPE-09_2photon_sess-01-6dpf_BLN_run-01_av-4_dcc.npy',\n",
       "  'PTZ-WILDTYPE-10_2photon_sess-01-6dpf_BLN_run-01_av-4_dcc.npy',\n",
       "  'PTZ-WILDTYPE-11_2photon_sess-01-6dpf_BLN_run-01_av-4_dcc.npy',\n",
       "  'PTZ-WILDTYPE-12_2photon_sess-01-6dpf_BLN_run-09_av-4_dcc.npy'])"
      ]
     },
     "execution_count": 58,
     "metadata": {},
     "output_type": "execute_result"
    }
   ],
   "source": [
    "\n",
    "two_l = sorted(glob.glob('*_av-2*_dcc*'))\n",
    "three_l = sorted(glob.glob('*_av-3*_dcc*'))\n",
    "four_l = sorted(glob.glob('*_av-4*_dcc*'))\n",
    "\n",
    "two_l, three_l, four_l"
   ]
  },
  {
   "cell_type": "code",
   "execution_count": 55,
   "metadata": {},
   "outputs": [],
   "source": [
    "def dome(data_l):\n",
    "    inp_l = list(range(len(data_l)))\n",
    "    for i in range(len(data_l)):\n",
    "        inp_l[i] = np.load(data_l[i])\n",
    "    return(inp_l)"
   ]
  },
  {
   "cell_type": "code",
   "execution_count": 59,
   "metadata": {},
   "outputs": [],
   "source": [
    "two = dome(two_l)\n",
    "three = dome(three_l)\n",
    "four = dome(four_l)"
   ]
  },
  {
   "cell_type": "code",
   "execution_count": 61,
   "metadata": {},
   "outputs": [
    {
     "data": {
      "text/plain": [
       "(0.1271703301477746, 0.13232724919524247, 0.19600353958761302)"
      ]
     },
     "execution_count": 61,
     "metadata": {},
     "output_type": "execute_result"
    }
   ],
   "source": [
    "np.mean(two), np.mean(three), np.mean(four)"
   ]
  },
  {
   "cell_type": "code",
   "execution_count": 62,
   "metadata": {},
   "outputs": [],
   "source": [
    "dcc = np.zeros((30))\n",
    "dcc_list = [two, three, four]\n",
    "    \n",
    "count=0\n",
    "for i in range(len(dcc_list)):\n",
    "    for y in range(10):\n",
    "        dcc[count] = dcc_list[i][y]\n",
    "        count+=1\n",
    "dcc_df = pd.DataFrame({\"dcc\":dcc , \"Labels\":  np.append(adfn.repeat_list('2',10),np.append(adfn.repeat_list('3',10),adfn.repeat_list('4',10)))})"
   ]
  },
  {
   "cell_type": "code",
   "execution_count": 66,
   "metadata": {},
   "outputs": [
    {
     "data": {
      "image/png": "[encoded data removed]",
      "text/plain": [
       "<Figure size 288x360 with 1 Axes>"
      ]
     },
     "metadata": {
      "needs_background": "light"
     },
     "output_type": "display_data"
    }
   ],
   "source": [
    "from matplotlib.collections import PathCollection\n",
    "import seaborn as sns\n",
    "from matplotlib import cm\n",
    "colors2 = ['black','blue','green']\n",
    "fig, ax = plt.subplots(figsize = (4,5))\n",
    "ax = sns.pointplot(x=\"Labels\", y=\"dcc\", data = dcc_df, hue = 'Labels', palette = colors2, join=True, ci=0, scale=5, markers = '_')\n",
    "for artist in ax.lines:\n",
    "    artist.set_zorder(10)\n",
    "for artist in ax.findobj(PathCollection):\n",
    "    artist.set_zorder(11)\n",
    "#ax = sns.pointplot(x=\"Labels\", y=\"DCC\", data=dcc_df, color = 'grey', linestyles = [\"--\"], ci = 0, scale=0.6)\n",
    "ax = sns.stripplot(x=\"Labels\", y=\"dcc\", data=dcc_df, hue = 'Labels', palette = colors2, size = 15, jitter = True ,alpha = 0.5)\n",
    "plt.yticks(size = 20)\n",
    "\n",
    "points = ax.collections\n",
    "ax.spines['top'].set_visible(False)\n",
    "ax.spines['right'].set_visible(False)\n",
    "ax.set_xlabel(' ', size = '13')\n",
    "ax.set_ylabel('DCC', size = '18')\n",
    "#ax.set_xticklabels(['Baseline', 'Focal', 'Generalised'], size = 15)\n",
    "ax.legend_.remove()\n",
    "#plt.savefig(Ffig + '1ovz_ptz.svg', transparent = True)\n",
    "plt.show()"
   ]
  },
  {
   "cell_type": "code",
   "execution_count": 38,
   "metadata": {},
   "outputs": [
    {
     "data": {
      "text/plain": [
       "['PTZ-WILDTYPE-12_2photon_sess-01-6dpf_BLN_run-09_av-2_dcc.npy',\n",
       " 'PTZ-WILDTYPE-12_2photon_sess-01-6dpf_BLN_run-09_av-3_dcc.npy',\n",
       " 'PTZ-WILDTYPE-12_2photon_sess-01-6dpf_BLN_run-09_av-4_dcc.npy']"
      ]
     },
     "execution_count": 38,
     "metadata": {},
     "output_type": "execute_result"
    }
   ],
   "source": [
    "num_list = ['02', '04', '05', '06', '07', '08', '09', '10', '11', '12']\n",
    "\n",
    "\n",
    "for num in num_list:\n",
    "    curr_l = sorted(glob.glob('*E-' + num +  '*_av-*_dcc*'))\n",
    "curr_l"
   ]
  },
  {
   "cell_type": "code",
   "execution_count": 42,
   "metadata": {},
   "outputs": [
    {
     "data": {
      "text/plain": [
       "(array([0, 1, 2]), array([0.13066925, 0.14294668, 0.06713108]))"
      ]
     },
     "execution_count": 42,
     "metadata": {},
     "output_type": "execute_result"
    }
   ],
   "source": [
    "np.arange(3), fill_me"
   ]
  },
  {
   "cell_type": "code",
   "execution_count": 45,
   "metadata": {},
   "outputs": [
    {
     "data": {
      "image/png": "[encoded data removed]",
      "text/plain": [
       "<Figure size 720x360 with 1 Axes>"
      ]
     },
     "metadata": {
      "needs_background": "light"
     },
     "output_type": "display_data"
    }
   ],
   "source": [
    "num_list = ['02', '04', '05', '06', '07', '08', '09', '10', '11', '12']\n",
    "fish_list = ['k', 'blue', 'green']\n",
    "\n",
    "\n",
    "fig = plt.figure(figsize = (10,5))\n",
    "ax = fig.add_subplot(1,1,1)\n",
    "\n",
    "for y,num in enumerate(num_list):\n",
    "    curr_l = sorted(glob.glob('*E-' + num +  '*_av-*_dcc*'))\n",
    "    fill_me = np.zeros(3)\n",
    "    \n",
    "    for x,curr in enumerate(curr_l):\n",
    "        fill_me[x] = np.load(curr)\n",
    "    plt.scatter(np.arange(3), fill_me, s = 5)\n",
    "plt.show()"
   ]
  },
  {
   "cell_type": "code",
   "execution_count": null,
   "metadata": {},
   "outputs": [],
   "source": []
  },
  {
   "cell_type": "code",
   "execution_count": null,
   "metadata": {},
   "outputs": [],
   "source": [
    "dtype = 'mean correlation'\n",
    "\n",
    "fig = plt.figure(figsize = (10,5))\n",
    "ax = fig.add_subplot(1,1,1)\n",
    "\n",
    "for e,cond in enumerate(cond_l):\n",
    "    data = dic[cond][dtype]\n",
    "    data = remove(data)\n",
    "    mean = np.apply_along_axis(np.mean, 0, data)\n",
    "    plt.plot(n_clust, mean, c = col_l[e], linewidth = 3)\n",
    "    \n",
    "    for i in range(len(data)):\n",
    "        plt.scatter(n_clust, data[i], c = col_l[e], s = 5)\n",
    "\n",
    "ax.set_xscale('log')\n",
    "ax.set_xlabel('clusters', size = 20)\n",
    "ax.set_ylabel(dtype, size = 20)\n",
    "\n",
    "plt.show()"
   ]
  },
  {
   "cell_type": "code",
   "execution_count": 25,
   "metadata": {},
   "outputs": [
    {
     "name": "stdout",
     "output_type": "stream",
     "text": [
      "Done PTZ-WILDTYPE-02_2photon_sess-01-6dpf_BLN_run-01_av-2.npy\n",
      "Done PTZ-WILDTYPE-02_2photon_sess-01-6dpf_BLN_run-01_av-4.npy\n",
      "Done PTZ-WILDTYPE-04_2photon_sess-01-6dpf_BLN_run-01_av-2.npy\n",
      "Done PTZ-WILDTYPE-04_2photon_sess-01-6dpf_BLN_run-01_av-4.npy\n",
      "Done PTZ-WILDTYPE-05_2photon_sess-01-6dpf_BLN_run-01_av-2.npy\n",
      "Done PTZ-WILDTYPE-05_2photon_sess-01-6dpf_BLN_run-01_av-4.npy\n",
      "Done PTZ-WILDTYPE-06_2photon_sess-01-6dpf_BLN_run-01_av-2.npy\n",
      "Done PTZ-WILDTYPE-06_2photon_sess-01-6dpf_BLN_run-01_av-4.npy\n",
      "Done PTZ-WILDTYPE-07_2photon_sess-01-6dpf_BLN_run-01_av-2.npy\n",
      "Done PTZ-WILDTYPE-07_2photon_sess-01-6dpf_BLN_run-01_av-4.npy\n",
      "Done PTZ-WILDTYPE-08_2photon_sess-01-6dpf_BLN_run-01_av-2.npy\n",
      "Done PTZ-WILDTYPE-08_2photon_sess-01-6dpf_BLN_run-01_av-4.npy\n",
      "Done PTZ-WILDTYPE-09_2photon_sess-01-6dpf_BLN_run-01_av-2.npy\n",
      "Done PTZ-WILDTYPE-09_2photon_sess-01-6dpf_BLN_run-01_av-4.npy\n",
      "Done PTZ-WILDTYPE-10_2photon_sess-01-6dpf_BLN_run-01_av-2.npy\n",
      "Done PTZ-WILDTYPE-10_2photon_sess-01-6dpf_BLN_run-01_av-4.npy\n",
      "Done PTZ-WILDTYPE-11_2photon_sess-01-6dpf_BLN_run-01_av-2.npy\n",
      "Done PTZ-WILDTYPE-11_2photon_sess-01-6dpf_BLN_run-01_av-4.npy\n",
      "Done PTZ-WILDTYPE-12_2photon_sess-01-6dpf_BLN_run-09_av-2.npy\n",
      "Done PTZ-WILDTYPE-12_2photon_sess-01-6dpf_BLN_run-09_av-4.npy\n"
     ]
    }
   ],
   "source": [
    "for i in range(len(av_l)):\n",
    "    exp = crfn.power_exponent(np.load(av_l[i]), 2000)\n",
    "    name = av_l[i]\n",
    "    np.save(Fdata + experiment +'/' + adfn.save_name(name) +'_exp.npy', exp)\n",
    "    \n",
    "    llr = crfn.LLR(np.load(av_l[i]), 2000)\n",
    "    np.save(Fdata + experiment +'/' + adfn.save_name(name) +'_llr.npy', llr)\n",
    "    \n",
    "    dcc = crfn.DCC(np.load(av_l[i]))\n",
    "    np.save(Fdata + experiment +'/' + adfn.save_name(name) +'_dcc.npy', dcc)\n",
    "\n",
    "    print('Done '+ av_l[i])"
   ]
  },
  {
   "cell_type": "code",
   "execution_count": null,
   "metadata": {},
   "outputs": [],
   "source": [
    "# Create lists of coord data\n",
    "#---------------------------------------------------------------------------\n",
    "import glob\n",
    "\n",
    "experiment = 'PTZ-WILDTYPE'\n",
    "os.chdir(Fdata + experiment)\n",
    "\n",
    "nnb_l = sorted(glob.glob('*BLN*0.16nnb*'))[:10]\n",
    "bind_l = sorted(glob.glob('*BLN*0.590*'))[:10]\n",
    "nnb_l, bind_l"
   ]
  },
  {
   "cell_type": "code",
   "execution_count": 3,
   "metadata": {},
   "outputs": [],
   "source": [
    "\n",
    "#=======================================================================\n",
    "def avalanche2(nnb, bind): \n",
    "#=======================================================================\n",
    "    \"\"\"\n",
    "    This function calculates the spatiotemporal propagation of spike events - neural avalanches.\n",
    "    \n",
    "    Inputs:\n",
    "        nnb (np array): cells x cells, with 0s meaning not neighbours and 1s meaning neighbours\n",
    "        bind (np array): cells x time, binarised state vector\n",
    "    \n",
    "    Returns:\n",
    "        av (np array): 2d vector of avalanche sizes and avalanche durations\n",
    "        pkg (np array): cells x time, with each timepoint marking distinct avalanche events, i.e. each entry represents no avalanche (0) or a specific avalanche event (any integer)\n",
    "    \"\"\"\n",
    "    \n",
    "    \n",
    "    import numpy as np\n",
    "    import os\n",
    "    import itertools\n",
    "\n",
    "\n",
    "#Calculate avalanche size + duration\n",
    "#-----------------------------------\n",
    "    binarray, oldav, firstav, realav, timemachine, convertav, fill, time = [],[],[],[],[],[],[],[]\n",
    "    \n",
    "    #LOOP THROUGH EACH FISH\n",
    "    #---------------------------------\n",
    "    #---------------------------------\n",
    "    binarray, nnbarray, pkg = bind,nnb, np.zeros(bind.shape)\n",
    "    i, marker, avcount = 0,0,0\n",
    "        \n",
    "    #LOOP THROUGH EACH TIME POINT\n",
    "    #------------------------------\n",
    "    #------------------------------\n",
    "    for t in range(binarray.shape[1]-1): #loop through all time points\n",
    "        i = i+1\n",
    "        cid = np.where(binarray[:,t] > 0)[0]  #cid = cells active at current time point\n",
    "    \n",
    "            \n",
    "        #LOOP THROUGH EACH ACTIVE CELL\n",
    "        #-------------------------------\n",
    "        #-------------------------------\n",
    "        for c in cid:            #loop through all active cells at this time point\n",
    "\n",
    "            if pkg[c,t] == 0:    #only find non-marked cells\n",
    "                if len(np.intersect1d(np.where(nnbarray[c,:] > 0)[0], cid) > 1): #if >2 neighbours active\n",
    "                    marker = marker + 1  \n",
    "                    pkg[c,t] = marker  #mark active non-marked cell with new marker value\n",
    "                       \n",
    "\n",
    "            #LOCATE ALL NEIGHBOURS\n",
    "            #----------------------------\n",
    "            #----------------------------\n",
    "            neighbour = np.where(nnbarray[c,:] > 0)[0]  #return indeces of current cell neighbours\n",
    "            neighbouron  = np.intersect1d(cid,neighbour) #indeces of active cells in t, and also neighbours of c\n",
    "            where0 = np.where(pkg[neighbouron,t] == 0)[0] #neighbours not already part of an avalanche\n",
    "                \n",
    "            #CONVERT NEIGHBOURS WHO ARE ALREADY PART OF AN AVALANCHE\n",
    "            #-------------------------------------------------------\n",
    "            #-------------------------------------------------------\n",
    "\n",
    "            if len(where0) < len(neighbouron): #if any cells are already part of another avalanche\n",
    "                oldav = np.unique(pkg[neighbouron, t]) #all avalanche values from neighbours\n",
    "                firstav = np.min(oldav[np.where(oldav > 0)])   #minimum avalanche value that is not 0\n",
    "                    \n",
    "                    #define which cells we want to combine\n",
    "                realav =  oldav[np.where(oldav > 0)] #all avalanche values that are not 0\n",
    "                uniteav = np.where(pkg[:,t]==realav[:,None])[1] #indeces of all cells that need to be connected\n",
    "                pkg[uniteav,t] = firstav #convert all current cell neighbours and their active neighbours \n",
    "                pkg[c,t] = firstav #also convert current cell\n",
    "                    \n",
    "                #GO BACK IN TIME AND CONVERT\n",
    "                #----------------------------\n",
    "                #----------------------------\n",
    "                stop = 30 #value to stop counting back to for minimising compute time\n",
    "                convertav = realav[1:] #avalanche numbers needing to be converted\n",
    "                if t < stop:\n",
    "                    time = t-1\n",
    "                \n",
    "                if t > stop - 1:\n",
    "                    time = stop\n",
    "                        \n",
    "                for e in range(convertav.shape[0]):\n",
    "                    for timemachine in range(1, time): #loop through max possible time of previous avalanche\n",
    "                        fill = np.where(pkg[:,t-timemachine] == convertav[e])[0]\n",
    "                        if fill.shape[0] > 0:\n",
    "                            pkg[fill, t-timemachine] = firstav \n",
    "                                    \n",
    "            \n",
    "            #CONVERT NEIGHBOURS WHO ARE NOT PART OF AN AVALANCHE\n",
    "            #-------------------------------------------------------\n",
    "            #-------------------------------------------------------\n",
    "            if len(where0) == len(neighbouron): #if all cells are not part of an avalanche\n",
    "                pkg[neighbouron[where0],t] = pkg[c,t]  \n",
    "\n",
    "            \n",
    "        #SEE IF AVALANCHE CAN PROPAGATE TO NEXT TIME FRAME\n",
    "        #-------------------------------------------------------\n",
    "        #-------------------------------------------------------\n",
    "        n_av = np.unique(pkg[:,t])  #returns the marker values for each avalanche at this time point\n",
    "    \n",
    "        for n in n_av: #loop through each avalanche in this time point\n",
    "            if n > 0:\n",
    "                cgroup = np.where(pkg[:,t] == n)[0] #cells that are in same avalanche at t\n",
    "                cid2 = np.where(binarray[:,t+1] > 0) #cells in next time point that are active\n",
    "                intersect = np.intersect1d(cgroup, cid2) #check if any of the same cells are active in next time point\n",
    "                wherealso0 = np.where(pkg[intersect,t+1] == 0)[0] #here we find all cells that are active in both time frames, and that are not already part of another avalanche - and mark them as current avalanche\n",
    "                pkg[intersect[wherealso0], t+1] = pkg[cgroup[0],t] #carry over value to next frame for those cells\n",
    "      \n",
    "    allmark = np.unique(pkg)[1:] #all unique marker values\n",
    "\n",
    "    #CALCULATE AVALANCHE SIZE\n",
    "    #-------------------------------------------------------\n",
    "    #-------------------------------------------------------\n",
    "    avsize = np.unique(pkg, return_counts = True)[1][1:] #return counts for each unique avalanche\n",
    "    frameslist = np.zeros(avsize.shape[0]) #create empty frames list of same length\n",
    "\n",
    "    #CALCULATE AVALANCHE DURATION\n",
    "    #-------------------------------------------------------\n",
    "    #-------------------------------------------------------\n",
    "    avpertimelist = list(range(pkg.shape[1])) #empty list of length time frames\n",
    "\n",
    "    for e in range(pkg.shape[1]): #loop through each time point in pkg\n",
    "            avpertime = np.unique(pkg[:,e]) #unique marker value in each time point\n",
    "            avpertimelist[e] = avpertime #fill list of unique values in each time point\n",
    "                          \n",
    "    #link entire recording together\n",
    "    #-----------------------------------------------------------\n",
    "    linktime = list(itertools.chain(*avpertimelist)) #vector of all unique marker values in each time bin linked together\n",
    "    framesvec = np.unique(linktime, return_counts = True)[1][1:] #vector of number of frames for each consecutive avalanche\n",
    "\n",
    "    #COMBINE AV SIZE AND DURATION INTO ONE ARRAY\n",
    "    #-------------------------------------------------------\n",
    "    #-------------------------------------------------------\n",
    "    avsizecut = avsize[avsize >= 2]  #only select avalanches above 2\n",
    "    avframescut = framesvec[avsize >=2]\n",
    "    av = np.vstack((avsizecut, avframescut))      \n",
    "    return(av, pkg)\n"
   ]
  },
  {
   "cell_type": "code",
   "execution_count": 4,
   "metadata": {},
   "outputs": [],
   "source": [
    "\n",
    "#=======================================================================\n",
    "def avalanche4(nnb, bind): \n",
    "#=======================================================================\n",
    "    \"\"\"\n",
    "    This function calculates the spatiotemporal propagation of spike events - neural avalanches.\n",
    "    \n",
    "    Inputs:\n",
    "        nnb (np array): cells x cells, with 0s meaning not neighbours and 1s meaning neighbours\n",
    "        bind (np array): cells x time, binarised state vector\n",
    "    \n",
    "    Returns:\n",
    "        av (np array): 2d vector of avalanche sizes and avalanche durations\n",
    "        pkg (np array): cells x time, with each timepoint marking distinct avalanche events, i.e. each entry represents no avalanche (0) or a specific avalanche event (any integer)\n",
    "    \"\"\"\n",
    "    \n",
    "    \n",
    "    import numpy as np\n",
    "    import os\n",
    "    import itertools\n",
    "\n",
    "\n",
    "#Calculate avalanche size + duration\n",
    "#-----------------------------------\n",
    "    binarray, oldav, firstav, realav, timemachine, convertav, fill, time = [],[],[],[],[],[],[],[]\n",
    "    \n",
    "    #LOOP THROUGH EACH FISH\n",
    "    #---------------------------------\n",
    "    #---------------------------------\n",
    "    binarray, nnbarray, pkg = bind,nnb, np.zeros(bind.shape)\n",
    "    i, marker, avcount = 0,0,0\n",
    "        \n",
    "    #LOOP THROUGH EACH TIME POINT\n",
    "    #------------------------------\n",
    "    #------------------------------\n",
    "    for t in range(binarray.shape[1]-1): #loop through all time points\n",
    "        i = i+1\n",
    "        cid = np.where(binarray[:,t] > 0)[0]  #cid = cells active at current time point\n",
    "    \n",
    "            \n",
    "        #LOOP THROUGH EACH ACTIVE CELL\n",
    "        #-------------------------------\n",
    "        #-------------------------------\n",
    "        for c in cid:            #loop through all active cells at this time point\n",
    "\n",
    "            if pkg[c,t] == 0:    #only find non-marked cells\n",
    "                if len(np.intersect1d(np.where(nnbarray[c,:] > 0)[0], cid) > 3): #if >2 neighbours active\n",
    "                    marker = marker + 1  \n",
    "                    pkg[c,t] = marker  #mark active non-marked cell with new marker value\n",
    "                       \n",
    "\n",
    "            #LOCATE ALL NEIGHBOURS\n",
    "            #----------------------------\n",
    "            #----------------------------\n",
    "            neighbour = np.where(nnbarray[c,:] > 0)[0]  #return indeces of current cell neighbours\n",
    "            neighbouron  = np.intersect1d(cid,neighbour) #indeces of active cells in t, and also neighbours of c\n",
    "            where0 = np.where(pkg[neighbouron,t] == 0)[0] #neighbours not already part of an avalanche\n",
    "                \n",
    "            #CONVERT NEIGHBOURS WHO ARE ALREADY PART OF AN AVALANCHE\n",
    "            #-------------------------------------------------------\n",
    "            #-------------------------------------------------------\n",
    "\n",
    "            if len(where0) < len(neighbouron): #if any cells are already part of another avalanche\n",
    "                oldav = np.unique(pkg[neighbouron, t]) #all avalanche values from neighbours\n",
    "                firstav = np.min(oldav[np.where(oldav > 0)])   #minimum avalanche value that is not 0\n",
    "                    \n",
    "                    #define which cells we want to combine\n",
    "                realav =  oldav[np.where(oldav > 0)] #all avalanche values that are not 0\n",
    "                uniteav = np.where(pkg[:,t]==realav[:,None])[1] #indeces of all cells that need to be connected\n",
    "                pkg[uniteav,t] = firstav #convert all current cell neighbours and their active neighbours \n",
    "                pkg[c,t] = firstav #also convert current cell\n",
    "                    \n",
    "                #GO BACK IN TIME AND CONVERT\n",
    "                #----------------------------\n",
    "                #----------------------------\n",
    "                stop = 30 #value to stop counting back to for minimising compute time\n",
    "                convertav = realav[1:] #avalanche numbers needing to be converted\n",
    "                if t < stop:\n",
    "                    time = t-1\n",
    "                \n",
    "                if t > stop - 1:\n",
    "                    time = stop\n",
    "                        \n",
    "                for e in range(convertav.shape[0]):\n",
    "                    for timemachine in range(1, time): #loop through max possible time of previous avalanche\n",
    "                        fill = np.where(pkg[:,t-timemachine] == convertav[e])[0]\n",
    "                        if fill.shape[0] > 0:\n",
    "                            pkg[fill, t-timemachine] = firstav \n",
    "                                    \n",
    "            \n",
    "            #CONVERT NEIGHBOURS WHO ARE NOT PART OF AN AVALANCHE\n",
    "            #-------------------------------------------------------\n",
    "            #-------------------------------------------------------\n",
    "            if len(where0) == len(neighbouron): #if all cells are not part of an avalanche\n",
    "                pkg[neighbouron[where0],t] = pkg[c,t]  \n",
    "\n",
    "            \n",
    "        #SEE IF AVALANCHE CAN PROPAGATE TO NEXT TIME FRAME\n",
    "        #-------------------------------------------------------\n",
    "        #-------------------------------------------------------\n",
    "        n_av = np.unique(pkg[:,t])  #returns the marker values for each avalanche at this time point\n",
    "    \n",
    "        for n in n_av: #loop through each avalanche in this time point\n",
    "            if n > 0:\n",
    "                cgroup = np.where(pkg[:,t] == n)[0] #cells that are in same avalanche at t\n",
    "                cid2 = np.where(binarray[:,t+1] > 0) #cells in next time point that are active\n",
    "                intersect = np.intersect1d(cgroup, cid2) #check if any of the same cells are active in next time point\n",
    "                wherealso0 = np.where(pkg[intersect,t+1] == 0)[0] #here we find all cells that are active in both time frames, and that are not already part of another avalanche - and mark them as current avalanche\n",
    "                pkg[intersect[wherealso0], t+1] = pkg[cgroup[0],t] #carry over value to next frame for those cells\n",
    "      \n",
    "    allmark = np.unique(pkg)[1:] #all unique marker values\n",
    "\n",
    "    #CALCULATE AVALANCHE SIZE\n",
    "    #-------------------------------------------------------\n",
    "    #-------------------------------------------------------\n",
    "    avsize = np.unique(pkg, return_counts = True)[1][1:] #return counts for each unique avalanche\n",
    "    frameslist = np.zeros(avsize.shape[0]) #create empty frames list of same length\n",
    "\n",
    "    #CALCULATE AVALANCHE DURATION\n",
    "    #-------------------------------------------------------\n",
    "    #-------------------------------------------------------\n",
    "    avpertimelist = list(range(pkg.shape[1])) #empty list of length time frames\n",
    "\n",
    "    for e in range(pkg.shape[1]): #loop through each time point in pkg\n",
    "            avpertime = np.unique(pkg[:,e]) #unique marker value in each time point\n",
    "            avpertimelist[e] = avpertime #fill list of unique values in each time point\n",
    "                          \n",
    "    #link entire recording together\n",
    "    #-----------------------------------------------------------\n",
    "    linktime = list(itertools.chain(*avpertimelist)) #vector of all unique marker values in each time bin linked together\n",
    "    framesvec = np.unique(linktime, return_counts = True)[1][1:] #vector of number of frames for each consecutive avalanche\n",
    "\n",
    "    #COMBINE AV SIZE AND DURATION INTO ONE ARRAY\n",
    "    #-------------------------------------------------------\n",
    "    #-------------------------------------------------------\n",
    "    avsizecut = avsize[avsize >= 4]  #only select avalanches above 2\n",
    "    avframescut = framesvec[avsize >=4]\n",
    "    av = np.vstack((avsizecut, avframescut))      \n",
    "    return(av, pkg)\n"
   ]
  },
  {
   "cell_type": "code",
   "execution_count": null,
   "metadata": {},
   "outputs": [],
   "source": []
  }
 ],
 "metadata": {
  "kernelspec": {
   "display_name": "Python 3",
   "language": "python",
   "name": "python3"
  },
  "language_info": {
   "codemirror_mode": {
    "name": "ipython",
    "version": 3
   },
   "file_extension": ".py",
   "mimetype": "text/x-python",
   "name": "python",
   "nbconvert_exporter": "python",
   "pygments_lexer": "ipython3",
   "version": "3.7.6"
  }
 },
 "nbformat": 4,
 "nbformat_minor": 4
}
